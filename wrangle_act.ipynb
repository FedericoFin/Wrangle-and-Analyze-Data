{
 "cells": [
  {
   "cell_type": "markdown",
   "metadata": {},
   "source": [
    "## Wrangle and Analyze Data - WeRateDogs\n",
    "\n",
    "#### With this project we are going to wrangle the WeRateDogs Twitter data to carry out trustworthy analyses. In addition to the basic info we can get from the Twitter archive, we will need to gather, asses and clean the Twitter data."
   ]
  },
  {
   "cell_type": "code",
   "execution_count": 1,
   "metadata": {},
   "outputs": [
    {
     "name": "stderr",
     "output_type": "stream",
     "text": [
      "/opt/conda/lib/python3.6/site-packages/statsmodels/compat/pandas.py:56: FutureWarning: The pandas.core.datetools module is deprecated and will be removed in a future version. Please use the pandas.tseries module instead.\n",
      "  from pandas.core import datetools\n"
     ]
    }
   ],
   "source": [
    "import numpy as np\n",
    "import pandas as pd\n",
    "import datetime as dt\n",
    "import json\n",
    "import re\n",
    "import requests\n",
    "import tweepy\n",
    "from datetime import datetime,timedelta\n",
    "from scipy import stats\n",
    "import matplotlib.pyplot as plt\n",
    "import webbrowser\n",
    "import statsmodels.api as sm\n",
    "%matplotlib inline"
   ]
  },
  {
   "cell_type": "markdown",
   "metadata": {},
   "source": [
    "## Gathering Data"
   ]
  },
  {
   "cell_type": "markdown",
   "metadata": {},
   "source": [
    "### Twitter archive"
   ]
  },
  {
   "cell_type": "code",
   "execution_count": 2,
   "metadata": {},
   "outputs": [],
   "source": [
    "# Read .csv file as a Pandas DataFrame\n",
    "archive = pd.read_csv(\"twitter-archive-enhanced.csv\")"
   ]
  },
  {
   "cell_type": "markdown",
   "metadata": {},
   "source": [
    "### Image predictions"
   ]
  },
  {
   "cell_type": "code",
   "execution_count": 3,
   "metadata": {},
   "outputs": [],
   "source": [
    "# Download tsv file programmatically from website using request library\n",
    "url_image_predictions=\"https://d17h27t6h515a5.cloudfront.net/topher/2017/August/599fd2ad_image-predictions/image-predictions.tsv\"\n",
    "response = requests.get(url_image_predictions)\n",
    "\n",
    "with open('image_predictions.tsv', 'wb') as file:\n",
    "    file.write(response.content)\n",
    "\n",
    "# Read tsv file as a Pandas DataFrame    \n",
    "image_predictions = pd.read_csv('image_predictions.tsv', sep='\\t')"
   ]
  },
  {
   "cell_type": "markdown",
   "metadata": {},
   "source": [
    "### Tweets"
   ]
  },
  {
   "cell_type": "code",
   "execution_count": 4,
   "metadata": {},
   "outputs": [],
   "source": [
    "consumer_key = ''\n",
    "consumer_secret = ''\n",
    "access_token = ''\n",
    "access_token_secret = ''\n",
    "\n",
    "# Connect to API\n",
    "auth = tweepy.OAuthHandler(consumer_key, consumer_secret)\n",
    "auth.set_access_token(access_token, access_token_secret)\n",
    "api = tweepy.API(auth_handler=auth, wait_on_rate_limit=True, wait_on_rate_limit_notify=True)"
   ]
  },
  {
   "cell_type": "code",
   "execution_count": 5,
   "metadata": {},
   "outputs": [
    {
     "name": "stdout",
     "output_type": "stream",
     "text": [
      "Error: 888202515573088257\n",
      "Error: 873697596434513921\n",
      "Error: 872668790621863937\n",
      "Error: 869988702071779329\n",
      "Error: 866816280283807744\n",
      "Error: 861769973181624320\n",
      "Error: 845459076796616705\n",
      "Error: 842892208864923648\n",
      "Error: 837012587749474308\n",
      "Error: 827228250799742977\n",
      "Error: 812747805718642688\n",
      "Error: 802247111496568832\n",
      "Error: 775096608509886464\n",
      "Error: 770743923962707968\n",
      "Rate limit reached. Sleeping for: 735\n",
      "Error: 754011816964026368\n",
      "Error: 680055455951884288\n",
      "Rate limit reached. Sleeping for: 734\n"
     ]
    }
   ],
   "source": [
    "# Create list of twitter ids\n",
    "tweet_ids = list(archive.tweet_id)\n",
    "\n",
    "# Twitter query using tweet_id info from archive\n",
    "tweet_data = {}\n",
    "for tweet in tweet_ids:\n",
    "    try:\n",
    "        tweet_status = api.get_status(tweet, wait_on_rate_limit=True, wait_on_rate_limit_notify=True)\n",
    "        tweet_data[str(tweet)] = tweet_status._json\n",
    "    except: \n",
    "        print(\"Error: \" + str(tweet))"
   ]
  },
  {
   "cell_type": "code",
   "execution_count": 6,
   "metadata": {},
   "outputs": [],
   "source": [
    "with open('tweet_json.txt', 'w') as outfile:  \n",
    "    json.dump(tweet_data, outfile, sort_keys = True, indent=4, ensure_ascii = False)"
   ]
  },
  {
   "cell_type": "code",
   "execution_count": 7,
   "metadata": {},
   "outputs": [],
   "source": [
    "tweet = pd.read_json('tweet_json.txt',orient='index')"
   ]
  },
  {
   "cell_type": "markdown",
   "metadata": {},
   "source": [
    "## Assessing Data"
   ]
  },
  {
   "cell_type": "markdown",
   "metadata": {},
   "source": [
    "#### Here below visual and programmatic assessment for quality and tidiness issues of the 3 dataframes: *archive*, *image_predictions* and *tweets*\n",
    "#### Objective: to find at least 8 quality issues and at least 2 tidiness issues in this dataset."
   ]
  },
  {
   "cell_type": "markdown",
   "metadata": {},
   "source": [
    "#### Archive:"
   ]
  },
  {
   "cell_type": "code",
   "execution_count": 8,
   "metadata": {},
   "outputs": [
    {
     "data": {
      "text/plain": [
       "(2356, 17)"
      ]
     },
     "execution_count": 8,
     "metadata": {},
     "output_type": "execute_result"
    }
   ],
   "source": [
    "archive.shape"
   ]
  },
  {
   "cell_type": "code",
   "execution_count": 9,
   "metadata": {},
   "outputs": [
    {
     "name": "stdout",
     "output_type": "stream",
     "text": [
      "<class 'pandas.core.frame.DataFrame'>\n",
      "RangeIndex: 2356 entries, 0 to 2355\n",
      "Data columns (total 17 columns):\n",
      "tweet_id                      2356 non-null int64\n",
      "in_reply_to_status_id         78 non-null float64\n",
      "in_reply_to_user_id           78 non-null float64\n",
      "timestamp                     2356 non-null object\n",
      "source                        2356 non-null object\n",
      "text                          2356 non-null object\n",
      "retweeted_status_id           181 non-null float64\n",
      "retweeted_status_user_id      181 non-null float64\n",
      "retweeted_status_timestamp    181 non-null object\n",
      "expanded_urls                 2297 non-null object\n",
      "rating_numerator              2356 non-null int64\n",
      "rating_denominator            2356 non-null int64\n",
      "name                          2356 non-null object\n",
      "doggo                         2356 non-null object\n",
      "floofer                       2356 non-null object\n",
      "pupper                        2356 non-null object\n",
      "puppo                         2356 non-null object\n",
      "dtypes: float64(4), int64(3), object(10)\n",
      "memory usage: 313.0+ KB\n"
     ]
    }
   ],
   "source": [
    "archive.info()"
   ]
  },
  {
   "cell_type": "code",
   "execution_count": 10,
   "metadata": {},
   "outputs": [
    {
     "data": {
      "text/html": [
       "<div>\n",
       "<style>\n",
       "    .dataframe thead tr:only-child th {\n",
       "        text-align: right;\n",
       "    }\n",
       "\n",
       "    .dataframe thead th {\n",
       "        text-align: left;\n",
       "    }\n",
       "\n",
       "    .dataframe tbody tr th {\n",
       "        vertical-align: top;\n",
       "    }\n",
       "</style>\n",
       "<table border=\"1\" class=\"dataframe\">\n",
       "  <thead>\n",
       "    <tr style=\"text-align: right;\">\n",
       "      <th></th>\n",
       "      <th>tweet_id</th>\n",
       "      <th>in_reply_to_status_id</th>\n",
       "      <th>in_reply_to_user_id</th>\n",
       "      <th>timestamp</th>\n",
       "      <th>source</th>\n",
       "      <th>text</th>\n",
       "      <th>retweeted_status_id</th>\n",
       "      <th>retweeted_status_user_id</th>\n",
       "      <th>retweeted_status_timestamp</th>\n",
       "      <th>expanded_urls</th>\n",
       "      <th>rating_numerator</th>\n",
       "      <th>rating_denominator</th>\n",
       "      <th>name</th>\n",
       "      <th>doggo</th>\n",
       "      <th>floofer</th>\n",
       "      <th>pupper</th>\n",
       "      <th>puppo</th>\n",
       "    </tr>\n",
       "  </thead>\n",
       "  <tbody>\n",
       "    <tr>\n",
       "      <th>0</th>\n",
       "      <td>892420643555336193</td>\n",
       "      <td>NaN</td>\n",
       "      <td>NaN</td>\n",
       "      <td>2017-08-01 16:23:56 +0000</td>\n",
       "      <td>&lt;a href=\"http://twitter.com/download/iphone\" r...</td>\n",
       "      <td>This is Phineas. He's a mystical boy. Only eve...</td>\n",
       "      <td>NaN</td>\n",
       "      <td>NaN</td>\n",
       "      <td>NaN</td>\n",
       "      <td>https://twitter.com/dog_rates/status/892420643...</td>\n",
       "      <td>13</td>\n",
       "      <td>10</td>\n",
       "      <td>Phineas</td>\n",
       "      <td>None</td>\n",
       "      <td>None</td>\n",
       "      <td>None</td>\n",
       "      <td>None</td>\n",
       "    </tr>\n",
       "    <tr>\n",
       "      <th>1</th>\n",
       "      <td>892177421306343426</td>\n",
       "      <td>NaN</td>\n",
       "      <td>NaN</td>\n",
       "      <td>2017-08-01 00:17:27 +0000</td>\n",
       "      <td>&lt;a href=\"http://twitter.com/download/iphone\" r...</td>\n",
       "      <td>This is Tilly. She's just checking pup on you....</td>\n",
       "      <td>NaN</td>\n",
       "      <td>NaN</td>\n",
       "      <td>NaN</td>\n",
       "      <td>https://twitter.com/dog_rates/status/892177421...</td>\n",
       "      <td>13</td>\n",
       "      <td>10</td>\n",
       "      <td>Tilly</td>\n",
       "      <td>None</td>\n",
       "      <td>None</td>\n",
       "      <td>None</td>\n",
       "      <td>None</td>\n",
       "    </tr>\n",
       "    <tr>\n",
       "      <th>2</th>\n",
       "      <td>891815181378084864</td>\n",
       "      <td>NaN</td>\n",
       "      <td>NaN</td>\n",
       "      <td>2017-07-31 00:18:03 +0000</td>\n",
       "      <td>&lt;a href=\"http://twitter.com/download/iphone\" r...</td>\n",
       "      <td>This is Archie. He is a rare Norwegian Pouncin...</td>\n",
       "      <td>NaN</td>\n",
       "      <td>NaN</td>\n",
       "      <td>NaN</td>\n",
       "      <td>https://twitter.com/dog_rates/status/891815181...</td>\n",
       "      <td>12</td>\n",
       "      <td>10</td>\n",
       "      <td>Archie</td>\n",
       "      <td>None</td>\n",
       "      <td>None</td>\n",
       "      <td>None</td>\n",
       "      <td>None</td>\n",
       "    </tr>\n",
       "    <tr>\n",
       "      <th>3</th>\n",
       "      <td>891689557279858688</td>\n",
       "      <td>NaN</td>\n",
       "      <td>NaN</td>\n",
       "      <td>2017-07-30 15:58:51 +0000</td>\n",
       "      <td>&lt;a href=\"http://twitter.com/download/iphone\" r...</td>\n",
       "      <td>This is Darla. She commenced a snooze mid meal...</td>\n",
       "      <td>NaN</td>\n",
       "      <td>NaN</td>\n",
       "      <td>NaN</td>\n",
       "      <td>https://twitter.com/dog_rates/status/891689557...</td>\n",
       "      <td>13</td>\n",
       "      <td>10</td>\n",
       "      <td>Darla</td>\n",
       "      <td>None</td>\n",
       "      <td>None</td>\n",
       "      <td>None</td>\n",
       "      <td>None</td>\n",
       "    </tr>\n",
       "    <tr>\n",
       "      <th>4</th>\n",
       "      <td>891327558926688256</td>\n",
       "      <td>NaN</td>\n",
       "      <td>NaN</td>\n",
       "      <td>2017-07-29 16:00:24 +0000</td>\n",
       "      <td>&lt;a href=\"http://twitter.com/download/iphone\" r...</td>\n",
       "      <td>This is Franklin. He would like you to stop ca...</td>\n",
       "      <td>NaN</td>\n",
       "      <td>NaN</td>\n",
       "      <td>NaN</td>\n",
       "      <td>https://twitter.com/dog_rates/status/891327558...</td>\n",
       "      <td>12</td>\n",
       "      <td>10</td>\n",
       "      <td>Franklin</td>\n",
       "      <td>None</td>\n",
       "      <td>None</td>\n",
       "      <td>None</td>\n",
       "      <td>None</td>\n",
       "    </tr>\n",
       "    <tr>\n",
       "      <th>5</th>\n",
       "      <td>891087950875897856</td>\n",
       "      <td>NaN</td>\n",
       "      <td>NaN</td>\n",
       "      <td>2017-07-29 00:08:17 +0000</td>\n",
       "      <td>&lt;a href=\"http://twitter.com/download/iphone\" r...</td>\n",
       "      <td>Here we have a majestic great white breaching ...</td>\n",
       "      <td>NaN</td>\n",
       "      <td>NaN</td>\n",
       "      <td>NaN</td>\n",
       "      <td>https://twitter.com/dog_rates/status/891087950...</td>\n",
       "      <td>13</td>\n",
       "      <td>10</td>\n",
       "      <td>None</td>\n",
       "      <td>None</td>\n",
       "      <td>None</td>\n",
       "      <td>None</td>\n",
       "      <td>None</td>\n",
       "    </tr>\n",
       "    <tr>\n",
       "      <th>6</th>\n",
       "      <td>890971913173991426</td>\n",
       "      <td>NaN</td>\n",
       "      <td>NaN</td>\n",
       "      <td>2017-07-28 16:27:12 +0000</td>\n",
       "      <td>&lt;a href=\"http://twitter.com/download/iphone\" r...</td>\n",
       "      <td>Meet Jax. He enjoys ice cream so much he gets ...</td>\n",
       "      <td>NaN</td>\n",
       "      <td>NaN</td>\n",
       "      <td>NaN</td>\n",
       "      <td>https://gofundme.com/ydvmve-surgery-for-jax,ht...</td>\n",
       "      <td>13</td>\n",
       "      <td>10</td>\n",
       "      <td>Jax</td>\n",
       "      <td>None</td>\n",
       "      <td>None</td>\n",
       "      <td>None</td>\n",
       "      <td>None</td>\n",
       "    </tr>\n",
       "    <tr>\n",
       "      <th>7</th>\n",
       "      <td>890729181411237888</td>\n",
       "      <td>NaN</td>\n",
       "      <td>NaN</td>\n",
       "      <td>2017-07-28 00:22:40 +0000</td>\n",
       "      <td>&lt;a href=\"http://twitter.com/download/iphone\" r...</td>\n",
       "      <td>When you watch your owner call another dog a g...</td>\n",
       "      <td>NaN</td>\n",
       "      <td>NaN</td>\n",
       "      <td>NaN</td>\n",
       "      <td>https://twitter.com/dog_rates/status/890729181...</td>\n",
       "      <td>13</td>\n",
       "      <td>10</td>\n",
       "      <td>None</td>\n",
       "      <td>None</td>\n",
       "      <td>None</td>\n",
       "      <td>None</td>\n",
       "      <td>None</td>\n",
       "    </tr>\n",
       "    <tr>\n",
       "      <th>8</th>\n",
       "      <td>890609185150312448</td>\n",
       "      <td>NaN</td>\n",
       "      <td>NaN</td>\n",
       "      <td>2017-07-27 16:25:51 +0000</td>\n",
       "      <td>&lt;a href=\"http://twitter.com/download/iphone\" r...</td>\n",
       "      <td>This is Zoey. She doesn't want to be one of th...</td>\n",
       "      <td>NaN</td>\n",
       "      <td>NaN</td>\n",
       "      <td>NaN</td>\n",
       "      <td>https://twitter.com/dog_rates/status/890609185...</td>\n",
       "      <td>13</td>\n",
       "      <td>10</td>\n",
       "      <td>Zoey</td>\n",
       "      <td>None</td>\n",
       "      <td>None</td>\n",
       "      <td>None</td>\n",
       "      <td>None</td>\n",
       "    </tr>\n",
       "    <tr>\n",
       "      <th>9</th>\n",
       "      <td>890240255349198849</td>\n",
       "      <td>NaN</td>\n",
       "      <td>NaN</td>\n",
       "      <td>2017-07-26 15:59:51 +0000</td>\n",
       "      <td>&lt;a href=\"http://twitter.com/download/iphone\" r...</td>\n",
       "      <td>This is Cassie. She is a college pup. Studying...</td>\n",
       "      <td>NaN</td>\n",
       "      <td>NaN</td>\n",
       "      <td>NaN</td>\n",
       "      <td>https://twitter.com/dog_rates/status/890240255...</td>\n",
       "      <td>14</td>\n",
       "      <td>10</td>\n",
       "      <td>Cassie</td>\n",
       "      <td>doggo</td>\n",
       "      <td>None</td>\n",
       "      <td>None</td>\n",
       "      <td>None</td>\n",
       "    </tr>\n",
       "    <tr>\n",
       "      <th>10</th>\n",
       "      <td>890006608113172480</td>\n",
       "      <td>NaN</td>\n",
       "      <td>NaN</td>\n",
       "      <td>2017-07-26 00:31:25 +0000</td>\n",
       "      <td>&lt;a href=\"http://twitter.com/download/iphone\" r...</td>\n",
       "      <td>This is Koda. He is a South Australian decksha...</td>\n",
       "      <td>NaN</td>\n",
       "      <td>NaN</td>\n",
       "      <td>NaN</td>\n",
       "      <td>https://twitter.com/dog_rates/status/890006608...</td>\n",
       "      <td>13</td>\n",
       "      <td>10</td>\n",
       "      <td>Koda</td>\n",
       "      <td>None</td>\n",
       "      <td>None</td>\n",
       "      <td>None</td>\n",
       "      <td>None</td>\n",
       "    </tr>\n",
       "    <tr>\n",
       "      <th>11</th>\n",
       "      <td>889880896479866881</td>\n",
       "      <td>NaN</td>\n",
       "      <td>NaN</td>\n",
       "      <td>2017-07-25 16:11:53 +0000</td>\n",
       "      <td>&lt;a href=\"http://twitter.com/download/iphone\" r...</td>\n",
       "      <td>This is Bruno. He is a service shark. Only get...</td>\n",
       "      <td>NaN</td>\n",
       "      <td>NaN</td>\n",
       "      <td>NaN</td>\n",
       "      <td>https://twitter.com/dog_rates/status/889880896...</td>\n",
       "      <td>13</td>\n",
       "      <td>10</td>\n",
       "      <td>Bruno</td>\n",
       "      <td>None</td>\n",
       "      <td>None</td>\n",
       "      <td>None</td>\n",
       "      <td>None</td>\n",
       "    </tr>\n",
       "    <tr>\n",
       "      <th>12</th>\n",
       "      <td>889665388333682689</td>\n",
       "      <td>NaN</td>\n",
       "      <td>NaN</td>\n",
       "      <td>2017-07-25 01:55:32 +0000</td>\n",
       "      <td>&lt;a href=\"http://twitter.com/download/iphone\" r...</td>\n",
       "      <td>Here's a puppo that seems to be on the fence a...</td>\n",
       "      <td>NaN</td>\n",
       "      <td>NaN</td>\n",
       "      <td>NaN</td>\n",
       "      <td>https://twitter.com/dog_rates/status/889665388...</td>\n",
       "      <td>13</td>\n",
       "      <td>10</td>\n",
       "      <td>None</td>\n",
       "      <td>None</td>\n",
       "      <td>None</td>\n",
       "      <td>None</td>\n",
       "      <td>puppo</td>\n",
       "    </tr>\n",
       "    <tr>\n",
       "      <th>13</th>\n",
       "      <td>889638837579907072</td>\n",
       "      <td>NaN</td>\n",
       "      <td>NaN</td>\n",
       "      <td>2017-07-25 00:10:02 +0000</td>\n",
       "      <td>&lt;a href=\"http://twitter.com/download/iphone\" r...</td>\n",
       "      <td>This is Ted. He does his best. Sometimes that'...</td>\n",
       "      <td>NaN</td>\n",
       "      <td>NaN</td>\n",
       "      <td>NaN</td>\n",
       "      <td>https://twitter.com/dog_rates/status/889638837...</td>\n",
       "      <td>12</td>\n",
       "      <td>10</td>\n",
       "      <td>Ted</td>\n",
       "      <td>None</td>\n",
       "      <td>None</td>\n",
       "      <td>None</td>\n",
       "      <td>None</td>\n",
       "    </tr>\n",
       "    <tr>\n",
       "      <th>14</th>\n",
       "      <td>889531135344209921</td>\n",
       "      <td>NaN</td>\n",
       "      <td>NaN</td>\n",
       "      <td>2017-07-24 17:02:04 +0000</td>\n",
       "      <td>&lt;a href=\"http://twitter.com/download/iphone\" r...</td>\n",
       "      <td>This is Stuart. He's sporting his favorite fan...</td>\n",
       "      <td>NaN</td>\n",
       "      <td>NaN</td>\n",
       "      <td>NaN</td>\n",
       "      <td>https://twitter.com/dog_rates/status/889531135...</td>\n",
       "      <td>13</td>\n",
       "      <td>10</td>\n",
       "      <td>Stuart</td>\n",
       "      <td>None</td>\n",
       "      <td>None</td>\n",
       "      <td>None</td>\n",
       "      <td>puppo</td>\n",
       "    </tr>\n",
       "    <tr>\n",
       "      <th>15</th>\n",
       "      <td>889278841981685760</td>\n",
       "      <td>NaN</td>\n",
       "      <td>NaN</td>\n",
       "      <td>2017-07-24 00:19:32 +0000</td>\n",
       "      <td>&lt;a href=\"http://twitter.com/download/iphone\" r...</td>\n",
       "      <td>This is Oliver. You're witnessing one of his m...</td>\n",
       "      <td>NaN</td>\n",
       "      <td>NaN</td>\n",
       "      <td>NaN</td>\n",
       "      <td>https://twitter.com/dog_rates/status/889278841...</td>\n",
       "      <td>13</td>\n",
       "      <td>10</td>\n",
       "      <td>Oliver</td>\n",
       "      <td>None</td>\n",
       "      <td>None</td>\n",
       "      <td>None</td>\n",
       "      <td>None</td>\n",
       "    </tr>\n",
       "    <tr>\n",
       "      <th>16</th>\n",
       "      <td>888917238123831296</td>\n",
       "      <td>NaN</td>\n",
       "      <td>NaN</td>\n",
       "      <td>2017-07-23 00:22:39 +0000</td>\n",
       "      <td>&lt;a href=\"http://twitter.com/download/iphone\" r...</td>\n",
       "      <td>This is Jim. He found a fren. Taught him how t...</td>\n",
       "      <td>NaN</td>\n",
       "      <td>NaN</td>\n",
       "      <td>NaN</td>\n",
       "      <td>https://twitter.com/dog_rates/status/888917238...</td>\n",
       "      <td>12</td>\n",
       "      <td>10</td>\n",
       "      <td>Jim</td>\n",
       "      <td>None</td>\n",
       "      <td>None</td>\n",
       "      <td>None</td>\n",
       "      <td>None</td>\n",
       "    </tr>\n",
       "    <tr>\n",
       "      <th>17</th>\n",
       "      <td>888804989199671297</td>\n",
       "      <td>NaN</td>\n",
       "      <td>NaN</td>\n",
       "      <td>2017-07-22 16:56:37 +0000</td>\n",
       "      <td>&lt;a href=\"http://twitter.com/download/iphone\" r...</td>\n",
       "      <td>This is Zeke. He has a new stick. Very proud o...</td>\n",
       "      <td>NaN</td>\n",
       "      <td>NaN</td>\n",
       "      <td>NaN</td>\n",
       "      <td>https://twitter.com/dog_rates/status/888804989...</td>\n",
       "      <td>13</td>\n",
       "      <td>10</td>\n",
       "      <td>Zeke</td>\n",
       "      <td>None</td>\n",
       "      <td>None</td>\n",
       "      <td>None</td>\n",
       "      <td>None</td>\n",
       "    </tr>\n",
       "    <tr>\n",
       "      <th>18</th>\n",
       "      <td>888554962724278272</td>\n",
       "      <td>NaN</td>\n",
       "      <td>NaN</td>\n",
       "      <td>2017-07-22 00:23:06 +0000</td>\n",
       "      <td>&lt;a href=\"http://twitter.com/download/iphone\" r...</td>\n",
       "      <td>This is Ralphus. He's powering up. Attempting ...</td>\n",
       "      <td>NaN</td>\n",
       "      <td>NaN</td>\n",
       "      <td>NaN</td>\n",
       "      <td>https://twitter.com/dog_rates/status/888554962...</td>\n",
       "      <td>13</td>\n",
       "      <td>10</td>\n",
       "      <td>Ralphus</td>\n",
       "      <td>None</td>\n",
       "      <td>None</td>\n",
       "      <td>None</td>\n",
       "      <td>None</td>\n",
       "    </tr>\n",
       "    <tr>\n",
       "      <th>19</th>\n",
       "      <td>888202515573088257</td>\n",
       "      <td>NaN</td>\n",
       "      <td>NaN</td>\n",
       "      <td>2017-07-21 01:02:36 +0000</td>\n",
       "      <td>&lt;a href=\"http://twitter.com/download/iphone\" r...</td>\n",
       "      <td>RT @dog_rates: This is Canela. She attempted s...</td>\n",
       "      <td>8.874740e+17</td>\n",
       "      <td>4.196984e+09</td>\n",
       "      <td>2017-07-19 00:47:34 +0000</td>\n",
       "      <td>https://twitter.com/dog_rates/status/887473957...</td>\n",
       "      <td>13</td>\n",
       "      <td>10</td>\n",
       "      <td>Canela</td>\n",
       "      <td>None</td>\n",
       "      <td>None</td>\n",
       "      <td>None</td>\n",
       "      <td>None</td>\n",
       "    </tr>\n",
       "    <tr>\n",
       "      <th>20</th>\n",
       "      <td>888078434458587136</td>\n",
       "      <td>NaN</td>\n",
       "      <td>NaN</td>\n",
       "      <td>2017-07-20 16:49:33 +0000</td>\n",
       "      <td>&lt;a href=\"http://twitter.com/download/iphone\" r...</td>\n",
       "      <td>This is Gerald. He was just told he didn't get...</td>\n",
       "      <td>NaN</td>\n",
       "      <td>NaN</td>\n",
       "      <td>NaN</td>\n",
       "      <td>https://twitter.com/dog_rates/status/888078434...</td>\n",
       "      <td>12</td>\n",
       "      <td>10</td>\n",
       "      <td>Gerald</td>\n",
       "      <td>None</td>\n",
       "      <td>None</td>\n",
       "      <td>None</td>\n",
       "      <td>None</td>\n",
       "    </tr>\n",
       "    <tr>\n",
       "      <th>21</th>\n",
       "      <td>887705289381826560</td>\n",
       "      <td>NaN</td>\n",
       "      <td>NaN</td>\n",
       "      <td>2017-07-19 16:06:48 +0000</td>\n",
       "      <td>&lt;a href=\"http://twitter.com/download/iphone\" r...</td>\n",
       "      <td>This is Jeffrey. He has a monopoly on the pool...</td>\n",
       "      <td>NaN</td>\n",
       "      <td>NaN</td>\n",
       "      <td>NaN</td>\n",
       "      <td>https://twitter.com/dog_rates/status/887705289...</td>\n",
       "      <td>13</td>\n",
       "      <td>10</td>\n",
       "      <td>Jeffrey</td>\n",
       "      <td>None</td>\n",
       "      <td>None</td>\n",
       "      <td>None</td>\n",
       "      <td>None</td>\n",
       "    </tr>\n",
       "    <tr>\n",
       "      <th>22</th>\n",
       "      <td>887517139158093824</td>\n",
       "      <td>NaN</td>\n",
       "      <td>NaN</td>\n",
       "      <td>2017-07-19 03:39:09 +0000</td>\n",
       "      <td>&lt;a href=\"http://twitter.com/download/iphone\" r...</td>\n",
       "      <td>I've yet to rate a Venezuelan Hover Wiener. Th...</td>\n",
       "      <td>NaN</td>\n",
       "      <td>NaN</td>\n",
       "      <td>NaN</td>\n",
       "      <td>https://twitter.com/dog_rates/status/887517139...</td>\n",
       "      <td>14</td>\n",
       "      <td>10</td>\n",
       "      <td>such</td>\n",
       "      <td>None</td>\n",
       "      <td>None</td>\n",
       "      <td>None</td>\n",
       "      <td>None</td>\n",
       "    </tr>\n",
       "    <tr>\n",
       "      <th>23</th>\n",
       "      <td>887473957103951883</td>\n",
       "      <td>NaN</td>\n",
       "      <td>NaN</td>\n",
       "      <td>2017-07-19 00:47:34 +0000</td>\n",
       "      <td>&lt;a href=\"http://twitter.com/download/iphone\" r...</td>\n",
       "      <td>This is Canela. She attempted some fancy porch...</td>\n",
       "      <td>NaN</td>\n",
       "      <td>NaN</td>\n",
       "      <td>NaN</td>\n",
       "      <td>https://twitter.com/dog_rates/status/887473957...</td>\n",
       "      <td>13</td>\n",
       "      <td>10</td>\n",
       "      <td>Canela</td>\n",
       "      <td>None</td>\n",
       "      <td>None</td>\n",
       "      <td>None</td>\n",
       "      <td>None</td>\n",
       "    </tr>\n",
       "    <tr>\n",
       "      <th>24</th>\n",
       "      <td>887343217045368832</td>\n",
       "      <td>NaN</td>\n",
       "      <td>NaN</td>\n",
       "      <td>2017-07-18 16:08:03 +0000</td>\n",
       "      <td>&lt;a href=\"http://twitter.com/download/iphone\" r...</td>\n",
       "      <td>You may not have known you needed to see this ...</td>\n",
       "      <td>NaN</td>\n",
       "      <td>NaN</td>\n",
       "      <td>NaN</td>\n",
       "      <td>https://twitter.com/dog_rates/status/887343217...</td>\n",
       "      <td>13</td>\n",
       "      <td>10</td>\n",
       "      <td>None</td>\n",
       "      <td>None</td>\n",
       "      <td>None</td>\n",
       "      <td>None</td>\n",
       "      <td>None</td>\n",
       "    </tr>\n",
       "    <tr>\n",
       "      <th>25</th>\n",
       "      <td>887101392804085760</td>\n",
       "      <td>NaN</td>\n",
       "      <td>NaN</td>\n",
       "      <td>2017-07-18 00:07:08 +0000</td>\n",
       "      <td>&lt;a href=\"http://twitter.com/download/iphone\" r...</td>\n",
       "      <td>This... is a Jubilant Antarctic House Bear. We...</td>\n",
       "      <td>NaN</td>\n",
       "      <td>NaN</td>\n",
       "      <td>NaN</td>\n",
       "      <td>https://twitter.com/dog_rates/status/887101392...</td>\n",
       "      <td>12</td>\n",
       "      <td>10</td>\n",
       "      <td>None</td>\n",
       "      <td>None</td>\n",
       "      <td>None</td>\n",
       "      <td>None</td>\n",
       "      <td>None</td>\n",
       "    </tr>\n",
       "    <tr>\n",
       "      <th>26</th>\n",
       "      <td>886983233522544640</td>\n",
       "      <td>NaN</td>\n",
       "      <td>NaN</td>\n",
       "      <td>2017-07-17 16:17:36 +0000</td>\n",
       "      <td>&lt;a href=\"http://twitter.com/download/iphone\" r...</td>\n",
       "      <td>This is Maya. She's very shy. Rarely leaves he...</td>\n",
       "      <td>NaN</td>\n",
       "      <td>NaN</td>\n",
       "      <td>NaN</td>\n",
       "      <td>https://twitter.com/dog_rates/status/886983233...</td>\n",
       "      <td>13</td>\n",
       "      <td>10</td>\n",
       "      <td>Maya</td>\n",
       "      <td>None</td>\n",
       "      <td>None</td>\n",
       "      <td>None</td>\n",
       "      <td>None</td>\n",
       "    </tr>\n",
       "    <tr>\n",
       "      <th>27</th>\n",
       "      <td>886736880519319552</td>\n",
       "      <td>NaN</td>\n",
       "      <td>NaN</td>\n",
       "      <td>2017-07-16 23:58:41 +0000</td>\n",
       "      <td>&lt;a href=\"http://twitter.com/download/iphone\" r...</td>\n",
       "      <td>This is Mingus. He's a wonderful father to his...</td>\n",
       "      <td>NaN</td>\n",
       "      <td>NaN</td>\n",
       "      <td>NaN</td>\n",
       "      <td>https://www.gofundme.com/mingusneedsus,https:/...</td>\n",
       "      <td>13</td>\n",
       "      <td>10</td>\n",
       "      <td>Mingus</td>\n",
       "      <td>None</td>\n",
       "      <td>None</td>\n",
       "      <td>None</td>\n",
       "      <td>None</td>\n",
       "    </tr>\n",
       "    <tr>\n",
       "      <th>28</th>\n",
       "      <td>886680336477933568</td>\n",
       "      <td>NaN</td>\n",
       "      <td>NaN</td>\n",
       "      <td>2017-07-16 20:14:00 +0000</td>\n",
       "      <td>&lt;a href=\"http://twitter.com/download/iphone\" r...</td>\n",
       "      <td>This is Derek. He's late for a dog meeting. 13...</td>\n",
       "      <td>NaN</td>\n",
       "      <td>NaN</td>\n",
       "      <td>NaN</td>\n",
       "      <td>https://twitter.com/dog_rates/status/886680336...</td>\n",
       "      <td>13</td>\n",
       "      <td>10</td>\n",
       "      <td>Derek</td>\n",
       "      <td>None</td>\n",
       "      <td>None</td>\n",
       "      <td>None</td>\n",
       "      <td>None</td>\n",
       "    </tr>\n",
       "    <tr>\n",
       "      <th>29</th>\n",
       "      <td>886366144734445568</td>\n",
       "      <td>NaN</td>\n",
       "      <td>NaN</td>\n",
       "      <td>2017-07-15 23:25:31 +0000</td>\n",
       "      <td>&lt;a href=\"http://twitter.com/download/iphone\" r...</td>\n",
       "      <td>This is Roscoe. Another pupper fallen victim t...</td>\n",
       "      <td>NaN</td>\n",
       "      <td>NaN</td>\n",
       "      <td>NaN</td>\n",
       "      <td>https://twitter.com/dog_rates/status/886366144...</td>\n",
       "      <td>12</td>\n",
       "      <td>10</td>\n",
       "      <td>Roscoe</td>\n",
       "      <td>None</td>\n",
       "      <td>None</td>\n",
       "      <td>pupper</td>\n",
       "      <td>None</td>\n",
       "    </tr>\n",
       "    <tr>\n",
       "      <th>...</th>\n",
       "      <td>...</td>\n",
       "      <td>...</td>\n",
       "      <td>...</td>\n",
       "      <td>...</td>\n",
       "      <td>...</td>\n",
       "      <td>...</td>\n",
       "      <td>...</td>\n",
       "      <td>...</td>\n",
       "      <td>...</td>\n",
       "      <td>...</td>\n",
       "      <td>...</td>\n",
       "      <td>...</td>\n",
       "      <td>...</td>\n",
       "      <td>...</td>\n",
       "      <td>...</td>\n",
       "      <td>...</td>\n",
       "      <td>...</td>\n",
       "    </tr>\n",
       "    <tr>\n",
       "      <th>2326</th>\n",
       "      <td>666411507551481857</td>\n",
       "      <td>NaN</td>\n",
       "      <td>NaN</td>\n",
       "      <td>2015-11-17 00:24:19 +0000</td>\n",
       "      <td>&lt;a href=\"http://twitter.com/download/iphone\" r...</td>\n",
       "      <td>This is quite the dog. Gets really excited whe...</td>\n",
       "      <td>NaN</td>\n",
       "      <td>NaN</td>\n",
       "      <td>NaN</td>\n",
       "      <td>https://twitter.com/dog_rates/status/666411507...</td>\n",
       "      <td>2</td>\n",
       "      <td>10</td>\n",
       "      <td>quite</td>\n",
       "      <td>None</td>\n",
       "      <td>None</td>\n",
       "      <td>None</td>\n",
       "      <td>None</td>\n",
       "    </tr>\n",
       "    <tr>\n",
       "      <th>2327</th>\n",
       "      <td>666407126856765440</td>\n",
       "      <td>NaN</td>\n",
       "      <td>NaN</td>\n",
       "      <td>2015-11-17 00:06:54 +0000</td>\n",
       "      <td>&lt;a href=\"http://twitter.com/download/iphone\" r...</td>\n",
       "      <td>This is a southern Vesuvius bumblegruff. Can d...</td>\n",
       "      <td>NaN</td>\n",
       "      <td>NaN</td>\n",
       "      <td>NaN</td>\n",
       "      <td>https://twitter.com/dog_rates/status/666407126...</td>\n",
       "      <td>7</td>\n",
       "      <td>10</td>\n",
       "      <td>a</td>\n",
       "      <td>None</td>\n",
       "      <td>None</td>\n",
       "      <td>None</td>\n",
       "      <td>None</td>\n",
       "    </tr>\n",
       "    <tr>\n",
       "      <th>2328</th>\n",
       "      <td>666396247373291520</td>\n",
       "      <td>NaN</td>\n",
       "      <td>NaN</td>\n",
       "      <td>2015-11-16 23:23:41 +0000</td>\n",
       "      <td>&lt;a href=\"http://twitter.com/download/iphone\" r...</td>\n",
       "      <td>Oh goodness. A super rare northeast Qdoba kang...</td>\n",
       "      <td>NaN</td>\n",
       "      <td>NaN</td>\n",
       "      <td>NaN</td>\n",
       "      <td>https://twitter.com/dog_rates/status/666396247...</td>\n",
       "      <td>9</td>\n",
       "      <td>10</td>\n",
       "      <td>None</td>\n",
       "      <td>None</td>\n",
       "      <td>None</td>\n",
       "      <td>None</td>\n",
       "      <td>None</td>\n",
       "    </tr>\n",
       "    <tr>\n",
       "      <th>2329</th>\n",
       "      <td>666373753744588802</td>\n",
       "      <td>NaN</td>\n",
       "      <td>NaN</td>\n",
       "      <td>2015-11-16 21:54:18 +0000</td>\n",
       "      <td>&lt;a href=\"http://twitter.com/download/iphone\" r...</td>\n",
       "      <td>Those are sunglasses and a jean jacket. 11/10 ...</td>\n",
       "      <td>NaN</td>\n",
       "      <td>NaN</td>\n",
       "      <td>NaN</td>\n",
       "      <td>https://twitter.com/dog_rates/status/666373753...</td>\n",
       "      <td>11</td>\n",
       "      <td>10</td>\n",
       "      <td>None</td>\n",
       "      <td>None</td>\n",
       "      <td>None</td>\n",
       "      <td>None</td>\n",
       "      <td>None</td>\n",
       "    </tr>\n",
       "    <tr>\n",
       "      <th>2330</th>\n",
       "      <td>666362758909284353</td>\n",
       "      <td>NaN</td>\n",
       "      <td>NaN</td>\n",
       "      <td>2015-11-16 21:10:36 +0000</td>\n",
       "      <td>&lt;a href=\"http://twitter.com/download/iphone\" r...</td>\n",
       "      <td>Unique dog here. Very small. Lives in containe...</td>\n",
       "      <td>NaN</td>\n",
       "      <td>NaN</td>\n",
       "      <td>NaN</td>\n",
       "      <td>https://twitter.com/dog_rates/status/666362758...</td>\n",
       "      <td>6</td>\n",
       "      <td>10</td>\n",
       "      <td>None</td>\n",
       "      <td>None</td>\n",
       "      <td>None</td>\n",
       "      <td>None</td>\n",
       "      <td>None</td>\n",
       "    </tr>\n",
       "    <tr>\n",
       "      <th>2331</th>\n",
       "      <td>666353288456101888</td>\n",
       "      <td>NaN</td>\n",
       "      <td>NaN</td>\n",
       "      <td>2015-11-16 20:32:58 +0000</td>\n",
       "      <td>&lt;a href=\"http://twitter.com/download/iphone\" r...</td>\n",
       "      <td>Here we have a mixed Asiago from the Galápagos...</td>\n",
       "      <td>NaN</td>\n",
       "      <td>NaN</td>\n",
       "      <td>NaN</td>\n",
       "      <td>https://twitter.com/dog_rates/status/666353288...</td>\n",
       "      <td>8</td>\n",
       "      <td>10</td>\n",
       "      <td>None</td>\n",
       "      <td>None</td>\n",
       "      <td>None</td>\n",
       "      <td>None</td>\n",
       "      <td>None</td>\n",
       "    </tr>\n",
       "    <tr>\n",
       "      <th>2332</th>\n",
       "      <td>666345417576210432</td>\n",
       "      <td>NaN</td>\n",
       "      <td>NaN</td>\n",
       "      <td>2015-11-16 20:01:42 +0000</td>\n",
       "      <td>&lt;a href=\"http://twitter.com/download/iphone\" r...</td>\n",
       "      <td>Look at this jokester thinking seat belt laws ...</td>\n",
       "      <td>NaN</td>\n",
       "      <td>NaN</td>\n",
       "      <td>NaN</td>\n",
       "      <td>https://twitter.com/dog_rates/status/666345417...</td>\n",
       "      <td>10</td>\n",
       "      <td>10</td>\n",
       "      <td>None</td>\n",
       "      <td>None</td>\n",
       "      <td>None</td>\n",
       "      <td>None</td>\n",
       "      <td>None</td>\n",
       "    </tr>\n",
       "    <tr>\n",
       "      <th>2333</th>\n",
       "      <td>666337882303524864</td>\n",
       "      <td>NaN</td>\n",
       "      <td>NaN</td>\n",
       "      <td>2015-11-16 19:31:45 +0000</td>\n",
       "      <td>&lt;a href=\"http://twitter.com/download/iphone\" r...</td>\n",
       "      <td>This is an extremely rare horned Parthenon. No...</td>\n",
       "      <td>NaN</td>\n",
       "      <td>NaN</td>\n",
       "      <td>NaN</td>\n",
       "      <td>https://twitter.com/dog_rates/status/666337882...</td>\n",
       "      <td>9</td>\n",
       "      <td>10</td>\n",
       "      <td>an</td>\n",
       "      <td>None</td>\n",
       "      <td>None</td>\n",
       "      <td>None</td>\n",
       "      <td>None</td>\n",
       "    </tr>\n",
       "    <tr>\n",
       "      <th>2334</th>\n",
       "      <td>666293911632134144</td>\n",
       "      <td>NaN</td>\n",
       "      <td>NaN</td>\n",
       "      <td>2015-11-16 16:37:02 +0000</td>\n",
       "      <td>&lt;a href=\"http://twitter.com/download/iphone\" r...</td>\n",
       "      <td>This is a funny dog. Weird toes. Won't come do...</td>\n",
       "      <td>NaN</td>\n",
       "      <td>NaN</td>\n",
       "      <td>NaN</td>\n",
       "      <td>https://twitter.com/dog_rates/status/666293911...</td>\n",
       "      <td>3</td>\n",
       "      <td>10</td>\n",
       "      <td>a</td>\n",
       "      <td>None</td>\n",
       "      <td>None</td>\n",
       "      <td>None</td>\n",
       "      <td>None</td>\n",
       "    </tr>\n",
       "    <tr>\n",
       "      <th>2335</th>\n",
       "      <td>666287406224695296</td>\n",
       "      <td>NaN</td>\n",
       "      <td>NaN</td>\n",
       "      <td>2015-11-16 16:11:11 +0000</td>\n",
       "      <td>&lt;a href=\"http://twitter.com/download/iphone\" r...</td>\n",
       "      <td>This is an Albanian 3 1/2 legged  Episcopalian...</td>\n",
       "      <td>NaN</td>\n",
       "      <td>NaN</td>\n",
       "      <td>NaN</td>\n",
       "      <td>https://twitter.com/dog_rates/status/666287406...</td>\n",
       "      <td>1</td>\n",
       "      <td>2</td>\n",
       "      <td>an</td>\n",
       "      <td>None</td>\n",
       "      <td>None</td>\n",
       "      <td>None</td>\n",
       "      <td>None</td>\n",
       "    </tr>\n",
       "    <tr>\n",
       "      <th>2336</th>\n",
       "      <td>666273097616637952</td>\n",
       "      <td>NaN</td>\n",
       "      <td>NaN</td>\n",
       "      <td>2015-11-16 15:14:19 +0000</td>\n",
       "      <td>&lt;a href=\"http://twitter.com/download/iphone\" r...</td>\n",
       "      <td>Can take selfies 11/10 https://t.co/ws2AMaNwPW</td>\n",
       "      <td>NaN</td>\n",
       "      <td>NaN</td>\n",
       "      <td>NaN</td>\n",
       "      <td>https://twitter.com/dog_rates/status/666273097...</td>\n",
       "      <td>11</td>\n",
       "      <td>10</td>\n",
       "      <td>None</td>\n",
       "      <td>None</td>\n",
       "      <td>None</td>\n",
       "      <td>None</td>\n",
       "      <td>None</td>\n",
       "    </tr>\n",
       "    <tr>\n",
       "      <th>2337</th>\n",
       "      <td>666268910803644416</td>\n",
       "      <td>NaN</td>\n",
       "      <td>NaN</td>\n",
       "      <td>2015-11-16 14:57:41 +0000</td>\n",
       "      <td>&lt;a href=\"http://twitter.com/download/iphone\" r...</td>\n",
       "      <td>Very concerned about fellow dog trapped in com...</td>\n",
       "      <td>NaN</td>\n",
       "      <td>NaN</td>\n",
       "      <td>NaN</td>\n",
       "      <td>https://twitter.com/dog_rates/status/666268910...</td>\n",
       "      <td>10</td>\n",
       "      <td>10</td>\n",
       "      <td>None</td>\n",
       "      <td>None</td>\n",
       "      <td>None</td>\n",
       "      <td>None</td>\n",
       "      <td>None</td>\n",
       "    </tr>\n",
       "    <tr>\n",
       "      <th>2338</th>\n",
       "      <td>666104133288665088</td>\n",
       "      <td>NaN</td>\n",
       "      <td>NaN</td>\n",
       "      <td>2015-11-16 04:02:55 +0000</td>\n",
       "      <td>&lt;a href=\"http://twitter.com/download/iphone\" r...</td>\n",
       "      <td>Not familiar with this breed. No tail (weird)....</td>\n",
       "      <td>NaN</td>\n",
       "      <td>NaN</td>\n",
       "      <td>NaN</td>\n",
       "      <td>https://twitter.com/dog_rates/status/666104133...</td>\n",
       "      <td>1</td>\n",
       "      <td>10</td>\n",
       "      <td>None</td>\n",
       "      <td>None</td>\n",
       "      <td>None</td>\n",
       "      <td>None</td>\n",
       "      <td>None</td>\n",
       "    </tr>\n",
       "    <tr>\n",
       "      <th>2339</th>\n",
       "      <td>666102155909144576</td>\n",
       "      <td>NaN</td>\n",
       "      <td>NaN</td>\n",
       "      <td>2015-11-16 03:55:04 +0000</td>\n",
       "      <td>&lt;a href=\"http://twitter.com/download/iphone\" r...</td>\n",
       "      <td>Oh my. Here you are seeing an Adobe Setter giv...</td>\n",
       "      <td>NaN</td>\n",
       "      <td>NaN</td>\n",
       "      <td>NaN</td>\n",
       "      <td>https://twitter.com/dog_rates/status/666102155...</td>\n",
       "      <td>11</td>\n",
       "      <td>10</td>\n",
       "      <td>None</td>\n",
       "      <td>None</td>\n",
       "      <td>None</td>\n",
       "      <td>None</td>\n",
       "      <td>None</td>\n",
       "    </tr>\n",
       "    <tr>\n",
       "      <th>2340</th>\n",
       "      <td>666099513787052032</td>\n",
       "      <td>NaN</td>\n",
       "      <td>NaN</td>\n",
       "      <td>2015-11-16 03:44:34 +0000</td>\n",
       "      <td>&lt;a href=\"http://twitter.com/download/iphone\" r...</td>\n",
       "      <td>Can stand on stump for what seems like a while...</td>\n",
       "      <td>NaN</td>\n",
       "      <td>NaN</td>\n",
       "      <td>NaN</td>\n",
       "      <td>https://twitter.com/dog_rates/status/666099513...</td>\n",
       "      <td>8</td>\n",
       "      <td>10</td>\n",
       "      <td>None</td>\n",
       "      <td>None</td>\n",
       "      <td>None</td>\n",
       "      <td>None</td>\n",
       "      <td>None</td>\n",
       "    </tr>\n",
       "    <tr>\n",
       "      <th>2341</th>\n",
       "      <td>666094000022159362</td>\n",
       "      <td>NaN</td>\n",
       "      <td>NaN</td>\n",
       "      <td>2015-11-16 03:22:39 +0000</td>\n",
       "      <td>&lt;a href=\"http://twitter.com/download/iphone\" r...</td>\n",
       "      <td>This appears to be a Mongolian Presbyterian mi...</td>\n",
       "      <td>NaN</td>\n",
       "      <td>NaN</td>\n",
       "      <td>NaN</td>\n",
       "      <td>https://twitter.com/dog_rates/status/666094000...</td>\n",
       "      <td>9</td>\n",
       "      <td>10</td>\n",
       "      <td>None</td>\n",
       "      <td>None</td>\n",
       "      <td>None</td>\n",
       "      <td>None</td>\n",
       "      <td>None</td>\n",
       "    </tr>\n",
       "    <tr>\n",
       "      <th>2342</th>\n",
       "      <td>666082916733198337</td>\n",
       "      <td>NaN</td>\n",
       "      <td>NaN</td>\n",
       "      <td>2015-11-16 02:38:37 +0000</td>\n",
       "      <td>&lt;a href=\"http://twitter.com/download/iphone\" r...</td>\n",
       "      <td>Here we have a well-established sunblockerspan...</td>\n",
       "      <td>NaN</td>\n",
       "      <td>NaN</td>\n",
       "      <td>NaN</td>\n",
       "      <td>https://twitter.com/dog_rates/status/666082916...</td>\n",
       "      <td>6</td>\n",
       "      <td>10</td>\n",
       "      <td>None</td>\n",
       "      <td>None</td>\n",
       "      <td>None</td>\n",
       "      <td>None</td>\n",
       "      <td>None</td>\n",
       "    </tr>\n",
       "    <tr>\n",
       "      <th>2343</th>\n",
       "      <td>666073100786774016</td>\n",
       "      <td>NaN</td>\n",
       "      <td>NaN</td>\n",
       "      <td>2015-11-16 01:59:36 +0000</td>\n",
       "      <td>&lt;a href=\"http://twitter.com/download/iphone\" r...</td>\n",
       "      <td>Let's hope this flight isn't Malaysian (lol). ...</td>\n",
       "      <td>NaN</td>\n",
       "      <td>NaN</td>\n",
       "      <td>NaN</td>\n",
       "      <td>https://twitter.com/dog_rates/status/666073100...</td>\n",
       "      <td>10</td>\n",
       "      <td>10</td>\n",
       "      <td>None</td>\n",
       "      <td>None</td>\n",
       "      <td>None</td>\n",
       "      <td>None</td>\n",
       "      <td>None</td>\n",
       "    </tr>\n",
       "    <tr>\n",
       "      <th>2344</th>\n",
       "      <td>666071193221509120</td>\n",
       "      <td>NaN</td>\n",
       "      <td>NaN</td>\n",
       "      <td>2015-11-16 01:52:02 +0000</td>\n",
       "      <td>&lt;a href=\"http://twitter.com/download/iphone\" r...</td>\n",
       "      <td>Here we have a northern speckled Rhododendron....</td>\n",
       "      <td>NaN</td>\n",
       "      <td>NaN</td>\n",
       "      <td>NaN</td>\n",
       "      <td>https://twitter.com/dog_rates/status/666071193...</td>\n",
       "      <td>9</td>\n",
       "      <td>10</td>\n",
       "      <td>None</td>\n",
       "      <td>None</td>\n",
       "      <td>None</td>\n",
       "      <td>None</td>\n",
       "      <td>None</td>\n",
       "    </tr>\n",
       "    <tr>\n",
       "      <th>2345</th>\n",
       "      <td>666063827256086533</td>\n",
       "      <td>NaN</td>\n",
       "      <td>NaN</td>\n",
       "      <td>2015-11-16 01:22:45 +0000</td>\n",
       "      <td>&lt;a href=\"http://twitter.com/download/iphone\" r...</td>\n",
       "      <td>This is the happiest dog you will ever see. Ve...</td>\n",
       "      <td>NaN</td>\n",
       "      <td>NaN</td>\n",
       "      <td>NaN</td>\n",
       "      <td>https://twitter.com/dog_rates/status/666063827...</td>\n",
       "      <td>10</td>\n",
       "      <td>10</td>\n",
       "      <td>the</td>\n",
       "      <td>None</td>\n",
       "      <td>None</td>\n",
       "      <td>None</td>\n",
       "      <td>None</td>\n",
       "    </tr>\n",
       "    <tr>\n",
       "      <th>2346</th>\n",
       "      <td>666058600524156928</td>\n",
       "      <td>NaN</td>\n",
       "      <td>NaN</td>\n",
       "      <td>2015-11-16 01:01:59 +0000</td>\n",
       "      <td>&lt;a href=\"http://twitter.com/download/iphone\" r...</td>\n",
       "      <td>Here is the Rand Paul of retrievers folks! He'...</td>\n",
       "      <td>NaN</td>\n",
       "      <td>NaN</td>\n",
       "      <td>NaN</td>\n",
       "      <td>https://twitter.com/dog_rates/status/666058600...</td>\n",
       "      <td>8</td>\n",
       "      <td>10</td>\n",
       "      <td>the</td>\n",
       "      <td>None</td>\n",
       "      <td>None</td>\n",
       "      <td>None</td>\n",
       "      <td>None</td>\n",
       "    </tr>\n",
       "    <tr>\n",
       "      <th>2347</th>\n",
       "      <td>666057090499244032</td>\n",
       "      <td>NaN</td>\n",
       "      <td>NaN</td>\n",
       "      <td>2015-11-16 00:55:59 +0000</td>\n",
       "      <td>&lt;a href=\"http://twitter.com/download/iphone\" r...</td>\n",
       "      <td>My oh my. This is a rare blond Canadian terrie...</td>\n",
       "      <td>NaN</td>\n",
       "      <td>NaN</td>\n",
       "      <td>NaN</td>\n",
       "      <td>https://twitter.com/dog_rates/status/666057090...</td>\n",
       "      <td>9</td>\n",
       "      <td>10</td>\n",
       "      <td>a</td>\n",
       "      <td>None</td>\n",
       "      <td>None</td>\n",
       "      <td>None</td>\n",
       "      <td>None</td>\n",
       "    </tr>\n",
       "    <tr>\n",
       "      <th>2348</th>\n",
       "      <td>666055525042405380</td>\n",
       "      <td>NaN</td>\n",
       "      <td>NaN</td>\n",
       "      <td>2015-11-16 00:49:46 +0000</td>\n",
       "      <td>&lt;a href=\"http://twitter.com/download/iphone\" r...</td>\n",
       "      <td>Here is a Siberian heavily armored polar bear ...</td>\n",
       "      <td>NaN</td>\n",
       "      <td>NaN</td>\n",
       "      <td>NaN</td>\n",
       "      <td>https://twitter.com/dog_rates/status/666055525...</td>\n",
       "      <td>10</td>\n",
       "      <td>10</td>\n",
       "      <td>a</td>\n",
       "      <td>None</td>\n",
       "      <td>None</td>\n",
       "      <td>None</td>\n",
       "      <td>None</td>\n",
       "    </tr>\n",
       "    <tr>\n",
       "      <th>2349</th>\n",
       "      <td>666051853826850816</td>\n",
       "      <td>NaN</td>\n",
       "      <td>NaN</td>\n",
       "      <td>2015-11-16 00:35:11 +0000</td>\n",
       "      <td>&lt;a href=\"http://twitter.com/download/iphone\" r...</td>\n",
       "      <td>This is an odd dog. Hard on the outside but lo...</td>\n",
       "      <td>NaN</td>\n",
       "      <td>NaN</td>\n",
       "      <td>NaN</td>\n",
       "      <td>https://twitter.com/dog_rates/status/666051853...</td>\n",
       "      <td>2</td>\n",
       "      <td>10</td>\n",
       "      <td>an</td>\n",
       "      <td>None</td>\n",
       "      <td>None</td>\n",
       "      <td>None</td>\n",
       "      <td>None</td>\n",
       "    </tr>\n",
       "    <tr>\n",
       "      <th>2350</th>\n",
       "      <td>666050758794694657</td>\n",
       "      <td>NaN</td>\n",
       "      <td>NaN</td>\n",
       "      <td>2015-11-16 00:30:50 +0000</td>\n",
       "      <td>&lt;a href=\"http://twitter.com/download/iphone\" r...</td>\n",
       "      <td>This is a truly beautiful English Wilson Staff...</td>\n",
       "      <td>NaN</td>\n",
       "      <td>NaN</td>\n",
       "      <td>NaN</td>\n",
       "      <td>https://twitter.com/dog_rates/status/666050758...</td>\n",
       "      <td>10</td>\n",
       "      <td>10</td>\n",
       "      <td>a</td>\n",
       "      <td>None</td>\n",
       "      <td>None</td>\n",
       "      <td>None</td>\n",
       "      <td>None</td>\n",
       "    </tr>\n",
       "    <tr>\n",
       "      <th>2351</th>\n",
       "      <td>666049248165822465</td>\n",
       "      <td>NaN</td>\n",
       "      <td>NaN</td>\n",
       "      <td>2015-11-16 00:24:50 +0000</td>\n",
       "      <td>&lt;a href=\"http://twitter.com/download/iphone\" r...</td>\n",
       "      <td>Here we have a 1949 1st generation vulpix. Enj...</td>\n",
       "      <td>NaN</td>\n",
       "      <td>NaN</td>\n",
       "      <td>NaN</td>\n",
       "      <td>https://twitter.com/dog_rates/status/666049248...</td>\n",
       "      <td>5</td>\n",
       "      <td>10</td>\n",
       "      <td>None</td>\n",
       "      <td>None</td>\n",
       "      <td>None</td>\n",
       "      <td>None</td>\n",
       "      <td>None</td>\n",
       "    </tr>\n",
       "    <tr>\n",
       "      <th>2352</th>\n",
       "      <td>666044226329800704</td>\n",
       "      <td>NaN</td>\n",
       "      <td>NaN</td>\n",
       "      <td>2015-11-16 00:04:52 +0000</td>\n",
       "      <td>&lt;a href=\"http://twitter.com/download/iphone\" r...</td>\n",
       "      <td>This is a purebred Piers Morgan. Loves to Netf...</td>\n",
       "      <td>NaN</td>\n",
       "      <td>NaN</td>\n",
       "      <td>NaN</td>\n",
       "      <td>https://twitter.com/dog_rates/status/666044226...</td>\n",
       "      <td>6</td>\n",
       "      <td>10</td>\n",
       "      <td>a</td>\n",
       "      <td>None</td>\n",
       "      <td>None</td>\n",
       "      <td>None</td>\n",
       "      <td>None</td>\n",
       "    </tr>\n",
       "    <tr>\n",
       "      <th>2353</th>\n",
       "      <td>666033412701032449</td>\n",
       "      <td>NaN</td>\n",
       "      <td>NaN</td>\n",
       "      <td>2015-11-15 23:21:54 +0000</td>\n",
       "      <td>&lt;a href=\"http://twitter.com/download/iphone\" r...</td>\n",
       "      <td>Here is a very happy pup. Big fan of well-main...</td>\n",
       "      <td>NaN</td>\n",
       "      <td>NaN</td>\n",
       "      <td>NaN</td>\n",
       "      <td>https://twitter.com/dog_rates/status/666033412...</td>\n",
       "      <td>9</td>\n",
       "      <td>10</td>\n",
       "      <td>a</td>\n",
       "      <td>None</td>\n",
       "      <td>None</td>\n",
       "      <td>None</td>\n",
       "      <td>None</td>\n",
       "    </tr>\n",
       "    <tr>\n",
       "      <th>2354</th>\n",
       "      <td>666029285002620928</td>\n",
       "      <td>NaN</td>\n",
       "      <td>NaN</td>\n",
       "      <td>2015-11-15 23:05:30 +0000</td>\n",
       "      <td>&lt;a href=\"http://twitter.com/download/iphone\" r...</td>\n",
       "      <td>This is a western brown Mitsubishi terrier. Up...</td>\n",
       "      <td>NaN</td>\n",
       "      <td>NaN</td>\n",
       "      <td>NaN</td>\n",
       "      <td>https://twitter.com/dog_rates/status/666029285...</td>\n",
       "      <td>7</td>\n",
       "      <td>10</td>\n",
       "      <td>a</td>\n",
       "      <td>None</td>\n",
       "      <td>None</td>\n",
       "      <td>None</td>\n",
       "      <td>None</td>\n",
       "    </tr>\n",
       "    <tr>\n",
       "      <th>2355</th>\n",
       "      <td>666020888022790149</td>\n",
       "      <td>NaN</td>\n",
       "      <td>NaN</td>\n",
       "      <td>2015-11-15 22:32:08 +0000</td>\n",
       "      <td>&lt;a href=\"http://twitter.com/download/iphone\" r...</td>\n",
       "      <td>Here we have a Japanese Irish Setter. Lost eye...</td>\n",
       "      <td>NaN</td>\n",
       "      <td>NaN</td>\n",
       "      <td>NaN</td>\n",
       "      <td>https://twitter.com/dog_rates/status/666020888...</td>\n",
       "      <td>8</td>\n",
       "      <td>10</td>\n",
       "      <td>None</td>\n",
       "      <td>None</td>\n",
       "      <td>None</td>\n",
       "      <td>None</td>\n",
       "      <td>None</td>\n",
       "    </tr>\n",
       "  </tbody>\n",
       "</table>\n",
       "<p>2356 rows × 17 columns</p>\n",
       "</div>"
      ],
      "text/plain": [
       "                tweet_id  in_reply_to_status_id  in_reply_to_user_id  \\\n",
       "0     892420643555336193                    NaN                  NaN   \n",
       "1     892177421306343426                    NaN                  NaN   \n",
       "2     891815181378084864                    NaN                  NaN   \n",
       "3     891689557279858688                    NaN                  NaN   \n",
       "4     891327558926688256                    NaN                  NaN   \n",
       "5     891087950875897856                    NaN                  NaN   \n",
       "6     890971913173991426                    NaN                  NaN   \n",
       "7     890729181411237888                    NaN                  NaN   \n",
       "8     890609185150312448                    NaN                  NaN   \n",
       "9     890240255349198849                    NaN                  NaN   \n",
       "10    890006608113172480                    NaN                  NaN   \n",
       "11    889880896479866881                    NaN                  NaN   \n",
       "12    889665388333682689                    NaN                  NaN   \n",
       "13    889638837579907072                    NaN                  NaN   \n",
       "14    889531135344209921                    NaN                  NaN   \n",
       "15    889278841981685760                    NaN                  NaN   \n",
       "16    888917238123831296                    NaN                  NaN   \n",
       "17    888804989199671297                    NaN                  NaN   \n",
       "18    888554962724278272                    NaN                  NaN   \n",
       "19    888202515573088257                    NaN                  NaN   \n",
       "20    888078434458587136                    NaN                  NaN   \n",
       "21    887705289381826560                    NaN                  NaN   \n",
       "22    887517139158093824                    NaN                  NaN   \n",
       "23    887473957103951883                    NaN                  NaN   \n",
       "24    887343217045368832                    NaN                  NaN   \n",
       "25    887101392804085760                    NaN                  NaN   \n",
       "26    886983233522544640                    NaN                  NaN   \n",
       "27    886736880519319552                    NaN                  NaN   \n",
       "28    886680336477933568                    NaN                  NaN   \n",
       "29    886366144734445568                    NaN                  NaN   \n",
       "...                  ...                    ...                  ...   \n",
       "2326  666411507551481857                    NaN                  NaN   \n",
       "2327  666407126856765440                    NaN                  NaN   \n",
       "2328  666396247373291520                    NaN                  NaN   \n",
       "2329  666373753744588802                    NaN                  NaN   \n",
       "2330  666362758909284353                    NaN                  NaN   \n",
       "2331  666353288456101888                    NaN                  NaN   \n",
       "2332  666345417576210432                    NaN                  NaN   \n",
       "2333  666337882303524864                    NaN                  NaN   \n",
       "2334  666293911632134144                    NaN                  NaN   \n",
       "2335  666287406224695296                    NaN                  NaN   \n",
       "2336  666273097616637952                    NaN                  NaN   \n",
       "2337  666268910803644416                    NaN                  NaN   \n",
       "2338  666104133288665088                    NaN                  NaN   \n",
       "2339  666102155909144576                    NaN                  NaN   \n",
       "2340  666099513787052032                    NaN                  NaN   \n",
       "2341  666094000022159362                    NaN                  NaN   \n",
       "2342  666082916733198337                    NaN                  NaN   \n",
       "2343  666073100786774016                    NaN                  NaN   \n",
       "2344  666071193221509120                    NaN                  NaN   \n",
       "2345  666063827256086533                    NaN                  NaN   \n",
       "2346  666058600524156928                    NaN                  NaN   \n",
       "2347  666057090499244032                    NaN                  NaN   \n",
       "2348  666055525042405380                    NaN                  NaN   \n",
       "2349  666051853826850816                    NaN                  NaN   \n",
       "2350  666050758794694657                    NaN                  NaN   \n",
       "2351  666049248165822465                    NaN                  NaN   \n",
       "2352  666044226329800704                    NaN                  NaN   \n",
       "2353  666033412701032449                    NaN                  NaN   \n",
       "2354  666029285002620928                    NaN                  NaN   \n",
       "2355  666020888022790149                    NaN                  NaN   \n",
       "\n",
       "                      timestamp  \\\n",
       "0     2017-08-01 16:23:56 +0000   \n",
       "1     2017-08-01 00:17:27 +0000   \n",
       "2     2017-07-31 00:18:03 +0000   \n",
       "3     2017-07-30 15:58:51 +0000   \n",
       "4     2017-07-29 16:00:24 +0000   \n",
       "5     2017-07-29 00:08:17 +0000   \n",
       "6     2017-07-28 16:27:12 +0000   \n",
       "7     2017-07-28 00:22:40 +0000   \n",
       "8     2017-07-27 16:25:51 +0000   \n",
       "9     2017-07-26 15:59:51 +0000   \n",
       "10    2017-07-26 00:31:25 +0000   \n",
       "11    2017-07-25 16:11:53 +0000   \n",
       "12    2017-07-25 01:55:32 +0000   \n",
       "13    2017-07-25 00:10:02 +0000   \n",
       "14    2017-07-24 17:02:04 +0000   \n",
       "15    2017-07-24 00:19:32 +0000   \n",
       "16    2017-07-23 00:22:39 +0000   \n",
       "17    2017-07-22 16:56:37 +0000   \n",
       "18    2017-07-22 00:23:06 +0000   \n",
       "19    2017-07-21 01:02:36 +0000   \n",
       "20    2017-07-20 16:49:33 +0000   \n",
       "21    2017-07-19 16:06:48 +0000   \n",
       "22    2017-07-19 03:39:09 +0000   \n",
       "23    2017-07-19 00:47:34 +0000   \n",
       "24    2017-07-18 16:08:03 +0000   \n",
       "25    2017-07-18 00:07:08 +0000   \n",
       "26    2017-07-17 16:17:36 +0000   \n",
       "27    2017-07-16 23:58:41 +0000   \n",
       "28    2017-07-16 20:14:00 +0000   \n",
       "29    2017-07-15 23:25:31 +0000   \n",
       "...                         ...   \n",
       "2326  2015-11-17 00:24:19 +0000   \n",
       "2327  2015-11-17 00:06:54 +0000   \n",
       "2328  2015-11-16 23:23:41 +0000   \n",
       "2329  2015-11-16 21:54:18 +0000   \n",
       "2330  2015-11-16 21:10:36 +0000   \n",
       "2331  2015-11-16 20:32:58 +0000   \n",
       "2332  2015-11-16 20:01:42 +0000   \n",
       "2333  2015-11-16 19:31:45 +0000   \n",
       "2334  2015-11-16 16:37:02 +0000   \n",
       "2335  2015-11-16 16:11:11 +0000   \n",
       "2336  2015-11-16 15:14:19 +0000   \n",
       "2337  2015-11-16 14:57:41 +0000   \n",
       "2338  2015-11-16 04:02:55 +0000   \n",
       "2339  2015-11-16 03:55:04 +0000   \n",
       "2340  2015-11-16 03:44:34 +0000   \n",
       "2341  2015-11-16 03:22:39 +0000   \n",
       "2342  2015-11-16 02:38:37 +0000   \n",
       "2343  2015-11-16 01:59:36 +0000   \n",
       "2344  2015-11-16 01:52:02 +0000   \n",
       "2345  2015-11-16 01:22:45 +0000   \n",
       "2346  2015-11-16 01:01:59 +0000   \n",
       "2347  2015-11-16 00:55:59 +0000   \n",
       "2348  2015-11-16 00:49:46 +0000   \n",
       "2349  2015-11-16 00:35:11 +0000   \n",
       "2350  2015-11-16 00:30:50 +0000   \n",
       "2351  2015-11-16 00:24:50 +0000   \n",
       "2352  2015-11-16 00:04:52 +0000   \n",
       "2353  2015-11-15 23:21:54 +0000   \n",
       "2354  2015-11-15 23:05:30 +0000   \n",
       "2355  2015-11-15 22:32:08 +0000   \n",
       "\n",
       "                                                 source  \\\n",
       "0     <a href=\"http://twitter.com/download/iphone\" r...   \n",
       "1     <a href=\"http://twitter.com/download/iphone\" r...   \n",
       "2     <a href=\"http://twitter.com/download/iphone\" r...   \n",
       "3     <a href=\"http://twitter.com/download/iphone\" r...   \n",
       "4     <a href=\"http://twitter.com/download/iphone\" r...   \n",
       "5     <a href=\"http://twitter.com/download/iphone\" r...   \n",
       "6     <a href=\"http://twitter.com/download/iphone\" r...   \n",
       "7     <a href=\"http://twitter.com/download/iphone\" r...   \n",
       "8     <a href=\"http://twitter.com/download/iphone\" r...   \n",
       "9     <a href=\"http://twitter.com/download/iphone\" r...   \n",
       "10    <a href=\"http://twitter.com/download/iphone\" r...   \n",
       "11    <a href=\"http://twitter.com/download/iphone\" r...   \n",
       "12    <a href=\"http://twitter.com/download/iphone\" r...   \n",
       "13    <a href=\"http://twitter.com/download/iphone\" r...   \n",
       "14    <a href=\"http://twitter.com/download/iphone\" r...   \n",
       "15    <a href=\"http://twitter.com/download/iphone\" r...   \n",
       "16    <a href=\"http://twitter.com/download/iphone\" r...   \n",
       "17    <a href=\"http://twitter.com/download/iphone\" r...   \n",
       "18    <a href=\"http://twitter.com/download/iphone\" r...   \n",
       "19    <a href=\"http://twitter.com/download/iphone\" r...   \n",
       "20    <a href=\"http://twitter.com/download/iphone\" r...   \n",
       "21    <a href=\"http://twitter.com/download/iphone\" r...   \n",
       "22    <a href=\"http://twitter.com/download/iphone\" r...   \n",
       "23    <a href=\"http://twitter.com/download/iphone\" r...   \n",
       "24    <a href=\"http://twitter.com/download/iphone\" r...   \n",
       "25    <a href=\"http://twitter.com/download/iphone\" r...   \n",
       "26    <a href=\"http://twitter.com/download/iphone\" r...   \n",
       "27    <a href=\"http://twitter.com/download/iphone\" r...   \n",
       "28    <a href=\"http://twitter.com/download/iphone\" r...   \n",
       "29    <a href=\"http://twitter.com/download/iphone\" r...   \n",
       "...                                                 ...   \n",
       "2326  <a href=\"http://twitter.com/download/iphone\" r...   \n",
       "2327  <a href=\"http://twitter.com/download/iphone\" r...   \n",
       "2328  <a href=\"http://twitter.com/download/iphone\" r...   \n",
       "2329  <a href=\"http://twitter.com/download/iphone\" r...   \n",
       "2330  <a href=\"http://twitter.com/download/iphone\" r...   \n",
       "2331  <a href=\"http://twitter.com/download/iphone\" r...   \n",
       "2332  <a href=\"http://twitter.com/download/iphone\" r...   \n",
       "2333  <a href=\"http://twitter.com/download/iphone\" r...   \n",
       "2334  <a href=\"http://twitter.com/download/iphone\" r...   \n",
       "2335  <a href=\"http://twitter.com/download/iphone\" r...   \n",
       "2336  <a href=\"http://twitter.com/download/iphone\" r...   \n",
       "2337  <a href=\"http://twitter.com/download/iphone\" r...   \n",
       "2338  <a href=\"http://twitter.com/download/iphone\" r...   \n",
       "2339  <a href=\"http://twitter.com/download/iphone\" r...   \n",
       "2340  <a href=\"http://twitter.com/download/iphone\" r...   \n",
       "2341  <a href=\"http://twitter.com/download/iphone\" r...   \n",
       "2342  <a href=\"http://twitter.com/download/iphone\" r...   \n",
       "2343  <a href=\"http://twitter.com/download/iphone\" r...   \n",
       "2344  <a href=\"http://twitter.com/download/iphone\" r...   \n",
       "2345  <a href=\"http://twitter.com/download/iphone\" r...   \n",
       "2346  <a href=\"http://twitter.com/download/iphone\" r...   \n",
       "2347  <a href=\"http://twitter.com/download/iphone\" r...   \n",
       "2348  <a href=\"http://twitter.com/download/iphone\" r...   \n",
       "2349  <a href=\"http://twitter.com/download/iphone\" r...   \n",
       "2350  <a href=\"http://twitter.com/download/iphone\" r...   \n",
       "2351  <a href=\"http://twitter.com/download/iphone\" r...   \n",
       "2352  <a href=\"http://twitter.com/download/iphone\" r...   \n",
       "2353  <a href=\"http://twitter.com/download/iphone\" r...   \n",
       "2354  <a href=\"http://twitter.com/download/iphone\" r...   \n",
       "2355  <a href=\"http://twitter.com/download/iphone\" r...   \n",
       "\n",
       "                                                   text  retweeted_status_id  \\\n",
       "0     This is Phineas. He's a mystical boy. Only eve...                  NaN   \n",
       "1     This is Tilly. She's just checking pup on you....                  NaN   \n",
       "2     This is Archie. He is a rare Norwegian Pouncin...                  NaN   \n",
       "3     This is Darla. She commenced a snooze mid meal...                  NaN   \n",
       "4     This is Franklin. He would like you to stop ca...                  NaN   \n",
       "5     Here we have a majestic great white breaching ...                  NaN   \n",
       "6     Meet Jax. He enjoys ice cream so much he gets ...                  NaN   \n",
       "7     When you watch your owner call another dog a g...                  NaN   \n",
       "8     This is Zoey. She doesn't want to be one of th...                  NaN   \n",
       "9     This is Cassie. She is a college pup. Studying...                  NaN   \n",
       "10    This is Koda. He is a South Australian decksha...                  NaN   \n",
       "11    This is Bruno. He is a service shark. Only get...                  NaN   \n",
       "12    Here's a puppo that seems to be on the fence a...                  NaN   \n",
       "13    This is Ted. He does his best. Sometimes that'...                  NaN   \n",
       "14    This is Stuart. He's sporting his favorite fan...                  NaN   \n",
       "15    This is Oliver. You're witnessing one of his m...                  NaN   \n",
       "16    This is Jim. He found a fren. Taught him how t...                  NaN   \n",
       "17    This is Zeke. He has a new stick. Very proud o...                  NaN   \n",
       "18    This is Ralphus. He's powering up. Attempting ...                  NaN   \n",
       "19    RT @dog_rates: This is Canela. She attempted s...         8.874740e+17   \n",
       "20    This is Gerald. He was just told he didn't get...                  NaN   \n",
       "21    This is Jeffrey. He has a monopoly on the pool...                  NaN   \n",
       "22    I've yet to rate a Venezuelan Hover Wiener. Th...                  NaN   \n",
       "23    This is Canela. She attempted some fancy porch...                  NaN   \n",
       "24    You may not have known you needed to see this ...                  NaN   \n",
       "25    This... is a Jubilant Antarctic House Bear. We...                  NaN   \n",
       "26    This is Maya. She's very shy. Rarely leaves he...                  NaN   \n",
       "27    This is Mingus. He's a wonderful father to his...                  NaN   \n",
       "28    This is Derek. He's late for a dog meeting. 13...                  NaN   \n",
       "29    This is Roscoe. Another pupper fallen victim t...                  NaN   \n",
       "...                                                 ...                  ...   \n",
       "2326  This is quite the dog. Gets really excited whe...                  NaN   \n",
       "2327  This is a southern Vesuvius bumblegruff. Can d...                  NaN   \n",
       "2328  Oh goodness. A super rare northeast Qdoba kang...                  NaN   \n",
       "2329  Those are sunglasses and a jean jacket. 11/10 ...                  NaN   \n",
       "2330  Unique dog here. Very small. Lives in containe...                  NaN   \n",
       "2331  Here we have a mixed Asiago from the Galápagos...                  NaN   \n",
       "2332  Look at this jokester thinking seat belt laws ...                  NaN   \n",
       "2333  This is an extremely rare horned Parthenon. No...                  NaN   \n",
       "2334  This is a funny dog. Weird toes. Won't come do...                  NaN   \n",
       "2335  This is an Albanian 3 1/2 legged  Episcopalian...                  NaN   \n",
       "2336     Can take selfies 11/10 https://t.co/ws2AMaNwPW                  NaN   \n",
       "2337  Very concerned about fellow dog trapped in com...                  NaN   \n",
       "2338  Not familiar with this breed. No tail (weird)....                  NaN   \n",
       "2339  Oh my. Here you are seeing an Adobe Setter giv...                  NaN   \n",
       "2340  Can stand on stump for what seems like a while...                  NaN   \n",
       "2341  This appears to be a Mongolian Presbyterian mi...                  NaN   \n",
       "2342  Here we have a well-established sunblockerspan...                  NaN   \n",
       "2343  Let's hope this flight isn't Malaysian (lol). ...                  NaN   \n",
       "2344  Here we have a northern speckled Rhododendron....                  NaN   \n",
       "2345  This is the happiest dog you will ever see. Ve...                  NaN   \n",
       "2346  Here is the Rand Paul of retrievers folks! He'...                  NaN   \n",
       "2347  My oh my. This is a rare blond Canadian terrie...                  NaN   \n",
       "2348  Here is a Siberian heavily armored polar bear ...                  NaN   \n",
       "2349  This is an odd dog. Hard on the outside but lo...                  NaN   \n",
       "2350  This is a truly beautiful English Wilson Staff...                  NaN   \n",
       "2351  Here we have a 1949 1st generation vulpix. Enj...                  NaN   \n",
       "2352  This is a purebred Piers Morgan. Loves to Netf...                  NaN   \n",
       "2353  Here is a very happy pup. Big fan of well-main...                  NaN   \n",
       "2354  This is a western brown Mitsubishi terrier. Up...                  NaN   \n",
       "2355  Here we have a Japanese Irish Setter. Lost eye...                  NaN   \n",
       "\n",
       "      retweeted_status_user_id retweeted_status_timestamp  \\\n",
       "0                          NaN                        NaN   \n",
       "1                          NaN                        NaN   \n",
       "2                          NaN                        NaN   \n",
       "3                          NaN                        NaN   \n",
       "4                          NaN                        NaN   \n",
       "5                          NaN                        NaN   \n",
       "6                          NaN                        NaN   \n",
       "7                          NaN                        NaN   \n",
       "8                          NaN                        NaN   \n",
       "9                          NaN                        NaN   \n",
       "10                         NaN                        NaN   \n",
       "11                         NaN                        NaN   \n",
       "12                         NaN                        NaN   \n",
       "13                         NaN                        NaN   \n",
       "14                         NaN                        NaN   \n",
       "15                         NaN                        NaN   \n",
       "16                         NaN                        NaN   \n",
       "17                         NaN                        NaN   \n",
       "18                         NaN                        NaN   \n",
       "19                4.196984e+09  2017-07-19 00:47:34 +0000   \n",
       "20                         NaN                        NaN   \n",
       "21                         NaN                        NaN   \n",
       "22                         NaN                        NaN   \n",
       "23                         NaN                        NaN   \n",
       "24                         NaN                        NaN   \n",
       "25                         NaN                        NaN   \n",
       "26                         NaN                        NaN   \n",
       "27                         NaN                        NaN   \n",
       "28                         NaN                        NaN   \n",
       "29                         NaN                        NaN   \n",
       "...                        ...                        ...   \n",
       "2326                       NaN                        NaN   \n",
       "2327                       NaN                        NaN   \n",
       "2328                       NaN                        NaN   \n",
       "2329                       NaN                        NaN   \n",
       "2330                       NaN                        NaN   \n",
       "2331                       NaN                        NaN   \n",
       "2332                       NaN                        NaN   \n",
       "2333                       NaN                        NaN   \n",
       "2334                       NaN                        NaN   \n",
       "2335                       NaN                        NaN   \n",
       "2336                       NaN                        NaN   \n",
       "2337                       NaN                        NaN   \n",
       "2338                       NaN                        NaN   \n",
       "2339                       NaN                        NaN   \n",
       "2340                       NaN                        NaN   \n",
       "2341                       NaN                        NaN   \n",
       "2342                       NaN                        NaN   \n",
       "2343                       NaN                        NaN   \n",
       "2344                       NaN                        NaN   \n",
       "2345                       NaN                        NaN   \n",
       "2346                       NaN                        NaN   \n",
       "2347                       NaN                        NaN   \n",
       "2348                       NaN                        NaN   \n",
       "2349                       NaN                        NaN   \n",
       "2350                       NaN                        NaN   \n",
       "2351                       NaN                        NaN   \n",
       "2352                       NaN                        NaN   \n",
       "2353                       NaN                        NaN   \n",
       "2354                       NaN                        NaN   \n",
       "2355                       NaN                        NaN   \n",
       "\n",
       "                                          expanded_urls  rating_numerator  \\\n",
       "0     https://twitter.com/dog_rates/status/892420643...                13   \n",
       "1     https://twitter.com/dog_rates/status/892177421...                13   \n",
       "2     https://twitter.com/dog_rates/status/891815181...                12   \n",
       "3     https://twitter.com/dog_rates/status/891689557...                13   \n",
       "4     https://twitter.com/dog_rates/status/891327558...                12   \n",
       "5     https://twitter.com/dog_rates/status/891087950...                13   \n",
       "6     https://gofundme.com/ydvmve-surgery-for-jax,ht...                13   \n",
       "7     https://twitter.com/dog_rates/status/890729181...                13   \n",
       "8     https://twitter.com/dog_rates/status/890609185...                13   \n",
       "9     https://twitter.com/dog_rates/status/890240255...                14   \n",
       "10    https://twitter.com/dog_rates/status/890006608...                13   \n",
       "11    https://twitter.com/dog_rates/status/889880896...                13   \n",
       "12    https://twitter.com/dog_rates/status/889665388...                13   \n",
       "13    https://twitter.com/dog_rates/status/889638837...                12   \n",
       "14    https://twitter.com/dog_rates/status/889531135...                13   \n",
       "15    https://twitter.com/dog_rates/status/889278841...                13   \n",
       "16    https://twitter.com/dog_rates/status/888917238...                12   \n",
       "17    https://twitter.com/dog_rates/status/888804989...                13   \n",
       "18    https://twitter.com/dog_rates/status/888554962...                13   \n",
       "19    https://twitter.com/dog_rates/status/887473957...                13   \n",
       "20    https://twitter.com/dog_rates/status/888078434...                12   \n",
       "21    https://twitter.com/dog_rates/status/887705289...                13   \n",
       "22    https://twitter.com/dog_rates/status/887517139...                14   \n",
       "23    https://twitter.com/dog_rates/status/887473957...                13   \n",
       "24    https://twitter.com/dog_rates/status/887343217...                13   \n",
       "25    https://twitter.com/dog_rates/status/887101392...                12   \n",
       "26    https://twitter.com/dog_rates/status/886983233...                13   \n",
       "27    https://www.gofundme.com/mingusneedsus,https:/...                13   \n",
       "28    https://twitter.com/dog_rates/status/886680336...                13   \n",
       "29    https://twitter.com/dog_rates/status/886366144...                12   \n",
       "...                                                 ...               ...   \n",
       "2326  https://twitter.com/dog_rates/status/666411507...                 2   \n",
       "2327  https://twitter.com/dog_rates/status/666407126...                 7   \n",
       "2328  https://twitter.com/dog_rates/status/666396247...                 9   \n",
       "2329  https://twitter.com/dog_rates/status/666373753...                11   \n",
       "2330  https://twitter.com/dog_rates/status/666362758...                 6   \n",
       "2331  https://twitter.com/dog_rates/status/666353288...                 8   \n",
       "2332  https://twitter.com/dog_rates/status/666345417...                10   \n",
       "2333  https://twitter.com/dog_rates/status/666337882...                 9   \n",
       "2334  https://twitter.com/dog_rates/status/666293911...                 3   \n",
       "2335  https://twitter.com/dog_rates/status/666287406...                 1   \n",
       "2336  https://twitter.com/dog_rates/status/666273097...                11   \n",
       "2337  https://twitter.com/dog_rates/status/666268910...                10   \n",
       "2338  https://twitter.com/dog_rates/status/666104133...                 1   \n",
       "2339  https://twitter.com/dog_rates/status/666102155...                11   \n",
       "2340  https://twitter.com/dog_rates/status/666099513...                 8   \n",
       "2341  https://twitter.com/dog_rates/status/666094000...                 9   \n",
       "2342  https://twitter.com/dog_rates/status/666082916...                 6   \n",
       "2343  https://twitter.com/dog_rates/status/666073100...                10   \n",
       "2344  https://twitter.com/dog_rates/status/666071193...                 9   \n",
       "2345  https://twitter.com/dog_rates/status/666063827...                10   \n",
       "2346  https://twitter.com/dog_rates/status/666058600...                 8   \n",
       "2347  https://twitter.com/dog_rates/status/666057090...                 9   \n",
       "2348  https://twitter.com/dog_rates/status/666055525...                10   \n",
       "2349  https://twitter.com/dog_rates/status/666051853...                 2   \n",
       "2350  https://twitter.com/dog_rates/status/666050758...                10   \n",
       "2351  https://twitter.com/dog_rates/status/666049248...                 5   \n",
       "2352  https://twitter.com/dog_rates/status/666044226...                 6   \n",
       "2353  https://twitter.com/dog_rates/status/666033412...                 9   \n",
       "2354  https://twitter.com/dog_rates/status/666029285...                 7   \n",
       "2355  https://twitter.com/dog_rates/status/666020888...                 8   \n",
       "\n",
       "      rating_denominator      name  doggo floofer  pupper  puppo  \n",
       "0                     10   Phineas   None    None    None   None  \n",
       "1                     10     Tilly   None    None    None   None  \n",
       "2                     10    Archie   None    None    None   None  \n",
       "3                     10     Darla   None    None    None   None  \n",
       "4                     10  Franklin   None    None    None   None  \n",
       "5                     10      None   None    None    None   None  \n",
       "6                     10       Jax   None    None    None   None  \n",
       "7                     10      None   None    None    None   None  \n",
       "8                     10      Zoey   None    None    None   None  \n",
       "9                     10    Cassie  doggo    None    None   None  \n",
       "10                    10      Koda   None    None    None   None  \n",
       "11                    10     Bruno   None    None    None   None  \n",
       "12                    10      None   None    None    None  puppo  \n",
       "13                    10       Ted   None    None    None   None  \n",
       "14                    10    Stuart   None    None    None  puppo  \n",
       "15                    10    Oliver   None    None    None   None  \n",
       "16                    10       Jim   None    None    None   None  \n",
       "17                    10      Zeke   None    None    None   None  \n",
       "18                    10   Ralphus   None    None    None   None  \n",
       "19                    10    Canela   None    None    None   None  \n",
       "20                    10    Gerald   None    None    None   None  \n",
       "21                    10   Jeffrey   None    None    None   None  \n",
       "22                    10      such   None    None    None   None  \n",
       "23                    10    Canela   None    None    None   None  \n",
       "24                    10      None   None    None    None   None  \n",
       "25                    10      None   None    None    None   None  \n",
       "26                    10      Maya   None    None    None   None  \n",
       "27                    10    Mingus   None    None    None   None  \n",
       "28                    10     Derek   None    None    None   None  \n",
       "29                    10    Roscoe   None    None  pupper   None  \n",
       "...                  ...       ...    ...     ...     ...    ...  \n",
       "2326                  10     quite   None    None    None   None  \n",
       "2327                  10         a   None    None    None   None  \n",
       "2328                  10      None   None    None    None   None  \n",
       "2329                  10      None   None    None    None   None  \n",
       "2330                  10      None   None    None    None   None  \n",
       "2331                  10      None   None    None    None   None  \n",
       "2332                  10      None   None    None    None   None  \n",
       "2333                  10        an   None    None    None   None  \n",
       "2334                  10         a   None    None    None   None  \n",
       "2335                   2        an   None    None    None   None  \n",
       "2336                  10      None   None    None    None   None  \n",
       "2337                  10      None   None    None    None   None  \n",
       "2338                  10      None   None    None    None   None  \n",
       "2339                  10      None   None    None    None   None  \n",
       "2340                  10      None   None    None    None   None  \n",
       "2341                  10      None   None    None    None   None  \n",
       "2342                  10      None   None    None    None   None  \n",
       "2343                  10      None   None    None    None   None  \n",
       "2344                  10      None   None    None    None   None  \n",
       "2345                  10       the   None    None    None   None  \n",
       "2346                  10       the   None    None    None   None  \n",
       "2347                  10         a   None    None    None   None  \n",
       "2348                  10         a   None    None    None   None  \n",
       "2349                  10        an   None    None    None   None  \n",
       "2350                  10         a   None    None    None   None  \n",
       "2351                  10      None   None    None    None   None  \n",
       "2352                  10         a   None    None    None   None  \n",
       "2353                  10         a   None    None    None   None  \n",
       "2354                  10         a   None    None    None   None  \n",
       "2355                  10      None   None    None    None   None  \n",
       "\n",
       "[2356 rows x 17 columns]"
      ]
     },
     "execution_count": 10,
     "metadata": {},
     "output_type": "execute_result"
    }
   ],
   "source": [
    "archive"
   ]
  },
  {
   "cell_type": "code",
   "execution_count": 11,
   "metadata": {},
   "outputs": [
    {
     "data": {
      "text/html": [
       "<div>\n",
       "<style>\n",
       "    .dataframe thead tr:only-child th {\n",
       "        text-align: right;\n",
       "    }\n",
       "\n",
       "    .dataframe thead th {\n",
       "        text-align: left;\n",
       "    }\n",
       "\n",
       "    .dataframe tbody tr th {\n",
       "        vertical-align: top;\n",
       "    }\n",
       "</style>\n",
       "<table border=\"1\" class=\"dataframe\">\n",
       "  <thead>\n",
       "    <tr style=\"text-align: right;\">\n",
       "      <th></th>\n",
       "      <th>tweet_id</th>\n",
       "      <th>in_reply_to_status_id</th>\n",
       "      <th>in_reply_to_user_id</th>\n",
       "      <th>retweeted_status_id</th>\n",
       "      <th>retweeted_status_user_id</th>\n",
       "      <th>rating_numerator</th>\n",
       "      <th>rating_denominator</th>\n",
       "    </tr>\n",
       "  </thead>\n",
       "  <tbody>\n",
       "    <tr>\n",
       "      <th>count</th>\n",
       "      <td>2.356000e+03</td>\n",
       "      <td>7.800000e+01</td>\n",
       "      <td>7.800000e+01</td>\n",
       "      <td>1.810000e+02</td>\n",
       "      <td>1.810000e+02</td>\n",
       "      <td>2356.000000</td>\n",
       "      <td>2356.000000</td>\n",
       "    </tr>\n",
       "    <tr>\n",
       "      <th>mean</th>\n",
       "      <td>7.427716e+17</td>\n",
       "      <td>7.455079e+17</td>\n",
       "      <td>2.014171e+16</td>\n",
       "      <td>7.720400e+17</td>\n",
       "      <td>1.241698e+16</td>\n",
       "      <td>13.126486</td>\n",
       "      <td>10.455433</td>\n",
       "    </tr>\n",
       "    <tr>\n",
       "      <th>std</th>\n",
       "      <td>6.856705e+16</td>\n",
       "      <td>7.582492e+16</td>\n",
       "      <td>1.252797e+17</td>\n",
       "      <td>6.236928e+16</td>\n",
       "      <td>9.599254e+16</td>\n",
       "      <td>45.876648</td>\n",
       "      <td>6.745237</td>\n",
       "    </tr>\n",
       "    <tr>\n",
       "      <th>min</th>\n",
       "      <td>6.660209e+17</td>\n",
       "      <td>6.658147e+17</td>\n",
       "      <td>1.185634e+07</td>\n",
       "      <td>6.661041e+17</td>\n",
       "      <td>7.832140e+05</td>\n",
       "      <td>0.000000</td>\n",
       "      <td>0.000000</td>\n",
       "    </tr>\n",
       "    <tr>\n",
       "      <th>25%</th>\n",
       "      <td>6.783989e+17</td>\n",
       "      <td>6.757419e+17</td>\n",
       "      <td>3.086374e+08</td>\n",
       "      <td>7.186315e+17</td>\n",
       "      <td>4.196984e+09</td>\n",
       "      <td>10.000000</td>\n",
       "      <td>10.000000</td>\n",
       "    </tr>\n",
       "    <tr>\n",
       "      <th>50%</th>\n",
       "      <td>7.196279e+17</td>\n",
       "      <td>7.038708e+17</td>\n",
       "      <td>4.196984e+09</td>\n",
       "      <td>7.804657e+17</td>\n",
       "      <td>4.196984e+09</td>\n",
       "      <td>11.000000</td>\n",
       "      <td>10.000000</td>\n",
       "    </tr>\n",
       "    <tr>\n",
       "      <th>75%</th>\n",
       "      <td>7.993373e+17</td>\n",
       "      <td>8.257804e+17</td>\n",
       "      <td>4.196984e+09</td>\n",
       "      <td>8.203146e+17</td>\n",
       "      <td>4.196984e+09</td>\n",
       "      <td>12.000000</td>\n",
       "      <td>10.000000</td>\n",
       "    </tr>\n",
       "    <tr>\n",
       "      <th>max</th>\n",
       "      <td>8.924206e+17</td>\n",
       "      <td>8.862664e+17</td>\n",
       "      <td>8.405479e+17</td>\n",
       "      <td>8.874740e+17</td>\n",
       "      <td>7.874618e+17</td>\n",
       "      <td>1776.000000</td>\n",
       "      <td>170.000000</td>\n",
       "    </tr>\n",
       "  </tbody>\n",
       "</table>\n",
       "</div>"
      ],
      "text/plain": [
       "           tweet_id  in_reply_to_status_id  in_reply_to_user_id  \\\n",
       "count  2.356000e+03           7.800000e+01         7.800000e+01   \n",
       "mean   7.427716e+17           7.455079e+17         2.014171e+16   \n",
       "std    6.856705e+16           7.582492e+16         1.252797e+17   \n",
       "min    6.660209e+17           6.658147e+17         1.185634e+07   \n",
       "25%    6.783989e+17           6.757419e+17         3.086374e+08   \n",
       "50%    7.196279e+17           7.038708e+17         4.196984e+09   \n",
       "75%    7.993373e+17           8.257804e+17         4.196984e+09   \n",
       "max    8.924206e+17           8.862664e+17         8.405479e+17   \n",
       "\n",
       "       retweeted_status_id  retweeted_status_user_id  rating_numerator  \\\n",
       "count         1.810000e+02              1.810000e+02       2356.000000   \n",
       "mean          7.720400e+17              1.241698e+16         13.126486   \n",
       "std           6.236928e+16              9.599254e+16         45.876648   \n",
       "min           6.661041e+17              7.832140e+05          0.000000   \n",
       "25%           7.186315e+17              4.196984e+09         10.000000   \n",
       "50%           7.804657e+17              4.196984e+09         11.000000   \n",
       "75%           8.203146e+17              4.196984e+09         12.000000   \n",
       "max           8.874740e+17              7.874618e+17       1776.000000   \n",
       "\n",
       "       rating_denominator  \n",
       "count         2356.000000  \n",
       "mean            10.455433  \n",
       "std              6.745237  \n",
       "min              0.000000  \n",
       "25%             10.000000  \n",
       "50%             10.000000  \n",
       "75%             10.000000  \n",
       "max            170.000000  "
      ]
     },
     "execution_count": 11,
     "metadata": {},
     "output_type": "execute_result"
    }
   ],
   "source": [
    "archive.describe()"
   ]
  },
  {
   "cell_type": "markdown",
   "metadata": {},
   "source": [
    "#### image_predictions:"
   ]
  },
  {
   "cell_type": "code",
   "execution_count": 12,
   "metadata": {},
   "outputs": [
    {
     "data": {
      "text/plain": [
       "(2075, 12)"
      ]
     },
     "execution_count": 12,
     "metadata": {},
     "output_type": "execute_result"
    }
   ],
   "source": [
    "image_predictions.shape"
   ]
  },
  {
   "cell_type": "code",
   "execution_count": 13,
   "metadata": {},
   "outputs": [
    {
     "name": "stdout",
     "output_type": "stream",
     "text": [
      "<class 'pandas.core.frame.DataFrame'>\n",
      "RangeIndex: 2075 entries, 0 to 2074\n",
      "Data columns (total 12 columns):\n",
      "tweet_id    2075 non-null int64\n",
      "jpg_url     2075 non-null object\n",
      "img_num     2075 non-null int64\n",
      "p1          2075 non-null object\n",
      "p1_conf     2075 non-null float64\n",
      "p1_dog      2075 non-null bool\n",
      "p2          2075 non-null object\n",
      "p2_conf     2075 non-null float64\n",
      "p2_dog      2075 non-null bool\n",
      "p3          2075 non-null object\n",
      "p3_conf     2075 non-null float64\n",
      "p3_dog      2075 non-null bool\n",
      "dtypes: bool(3), float64(3), int64(2), object(4)\n",
      "memory usage: 152.1+ KB\n"
     ]
    }
   ],
   "source": [
    "image_predictions.info()"
   ]
  },
  {
   "cell_type": "code",
   "execution_count": 14,
   "metadata": {},
   "outputs": [
    {
     "data": {
      "text/html": [
       "<div>\n",
       "<style>\n",
       "    .dataframe thead tr:only-child th {\n",
       "        text-align: right;\n",
       "    }\n",
       "\n",
       "    .dataframe thead th {\n",
       "        text-align: left;\n",
       "    }\n",
       "\n",
       "    .dataframe tbody tr th {\n",
       "        vertical-align: top;\n",
       "    }\n",
       "</style>\n",
       "<table border=\"1\" class=\"dataframe\">\n",
       "  <thead>\n",
       "    <tr style=\"text-align: right;\">\n",
       "      <th></th>\n",
       "      <th>tweet_id</th>\n",
       "      <th>jpg_url</th>\n",
       "      <th>img_num</th>\n",
       "      <th>p1</th>\n",
       "      <th>p1_conf</th>\n",
       "      <th>p1_dog</th>\n",
       "      <th>p2</th>\n",
       "      <th>p2_conf</th>\n",
       "      <th>p2_dog</th>\n",
       "      <th>p3</th>\n",
       "      <th>p3_conf</th>\n",
       "      <th>p3_dog</th>\n",
       "    </tr>\n",
       "  </thead>\n",
       "  <tbody>\n",
       "    <tr>\n",
       "      <th>0</th>\n",
       "      <td>666020888022790149</td>\n",
       "      <td>https://pbs.twimg.com/media/CT4udn0WwAA0aMy.jpg</td>\n",
       "      <td>1</td>\n",
       "      <td>Welsh_springer_spaniel</td>\n",
       "      <td>0.465074</td>\n",
       "      <td>True</td>\n",
       "      <td>collie</td>\n",
       "      <td>0.156665</td>\n",
       "      <td>True</td>\n",
       "      <td>Shetland_sheepdog</td>\n",
       "      <td>0.061428</td>\n",
       "      <td>True</td>\n",
       "    </tr>\n",
       "    <tr>\n",
       "      <th>1</th>\n",
       "      <td>666029285002620928</td>\n",
       "      <td>https://pbs.twimg.com/media/CT42GRgUYAA5iDo.jpg</td>\n",
       "      <td>1</td>\n",
       "      <td>redbone</td>\n",
       "      <td>0.506826</td>\n",
       "      <td>True</td>\n",
       "      <td>miniature_pinscher</td>\n",
       "      <td>0.074192</td>\n",
       "      <td>True</td>\n",
       "      <td>Rhodesian_ridgeback</td>\n",
       "      <td>0.072010</td>\n",
       "      <td>True</td>\n",
       "    </tr>\n",
       "    <tr>\n",
       "      <th>2</th>\n",
       "      <td>666033412701032449</td>\n",
       "      <td>https://pbs.twimg.com/media/CT4521TWwAEvMyu.jpg</td>\n",
       "      <td>1</td>\n",
       "      <td>German_shepherd</td>\n",
       "      <td>0.596461</td>\n",
       "      <td>True</td>\n",
       "      <td>malinois</td>\n",
       "      <td>0.138584</td>\n",
       "      <td>True</td>\n",
       "      <td>bloodhound</td>\n",
       "      <td>0.116197</td>\n",
       "      <td>True</td>\n",
       "    </tr>\n",
       "    <tr>\n",
       "      <th>3</th>\n",
       "      <td>666044226329800704</td>\n",
       "      <td>https://pbs.twimg.com/media/CT5Dr8HUEAA-lEu.jpg</td>\n",
       "      <td>1</td>\n",
       "      <td>Rhodesian_ridgeback</td>\n",
       "      <td>0.408143</td>\n",
       "      <td>True</td>\n",
       "      <td>redbone</td>\n",
       "      <td>0.360687</td>\n",
       "      <td>True</td>\n",
       "      <td>miniature_pinscher</td>\n",
       "      <td>0.222752</td>\n",
       "      <td>True</td>\n",
       "    </tr>\n",
       "    <tr>\n",
       "      <th>4</th>\n",
       "      <td>666049248165822465</td>\n",
       "      <td>https://pbs.twimg.com/media/CT5IQmsXIAAKY4A.jpg</td>\n",
       "      <td>1</td>\n",
       "      <td>miniature_pinscher</td>\n",
       "      <td>0.560311</td>\n",
       "      <td>True</td>\n",
       "      <td>Rottweiler</td>\n",
       "      <td>0.243682</td>\n",
       "      <td>True</td>\n",
       "      <td>Doberman</td>\n",
       "      <td>0.154629</td>\n",
       "      <td>True</td>\n",
       "    </tr>\n",
       "  </tbody>\n",
       "</table>\n",
       "</div>"
      ],
      "text/plain": [
       "             tweet_id                                          jpg_url  \\\n",
       "0  666020888022790149  https://pbs.twimg.com/media/CT4udn0WwAA0aMy.jpg   \n",
       "1  666029285002620928  https://pbs.twimg.com/media/CT42GRgUYAA5iDo.jpg   \n",
       "2  666033412701032449  https://pbs.twimg.com/media/CT4521TWwAEvMyu.jpg   \n",
       "3  666044226329800704  https://pbs.twimg.com/media/CT5Dr8HUEAA-lEu.jpg   \n",
       "4  666049248165822465  https://pbs.twimg.com/media/CT5IQmsXIAAKY4A.jpg   \n",
       "\n",
       "   img_num                      p1   p1_conf  p1_dog                  p2  \\\n",
       "0        1  Welsh_springer_spaniel  0.465074    True              collie   \n",
       "1        1                 redbone  0.506826    True  miniature_pinscher   \n",
       "2        1         German_shepherd  0.596461    True            malinois   \n",
       "3        1     Rhodesian_ridgeback  0.408143    True             redbone   \n",
       "4        1      miniature_pinscher  0.560311    True          Rottweiler   \n",
       "\n",
       "    p2_conf  p2_dog                   p3   p3_conf  p3_dog  \n",
       "0  0.156665    True    Shetland_sheepdog  0.061428    True  \n",
       "1  0.074192    True  Rhodesian_ridgeback  0.072010    True  \n",
       "2  0.138584    True           bloodhound  0.116197    True  \n",
       "3  0.360687    True   miniature_pinscher  0.222752    True  \n",
       "4  0.243682    True             Doberman  0.154629    True  "
      ]
     },
     "execution_count": 14,
     "metadata": {},
     "output_type": "execute_result"
    }
   ],
   "source": [
    "image_predictions.head()"
   ]
  },
  {
   "cell_type": "code",
   "execution_count": 15,
   "metadata": {},
   "outputs": [
    {
     "data": {
      "text/html": [
       "<div>\n",
       "<style>\n",
       "    .dataframe thead tr:only-child th {\n",
       "        text-align: right;\n",
       "    }\n",
       "\n",
       "    .dataframe thead th {\n",
       "        text-align: left;\n",
       "    }\n",
       "\n",
       "    .dataframe tbody tr th {\n",
       "        vertical-align: top;\n",
       "    }\n",
       "</style>\n",
       "<table border=\"1\" class=\"dataframe\">\n",
       "  <thead>\n",
       "    <tr style=\"text-align: right;\">\n",
       "      <th></th>\n",
       "      <th>tweet_id</th>\n",
       "      <th>img_num</th>\n",
       "      <th>p1_conf</th>\n",
       "      <th>p2_conf</th>\n",
       "      <th>p3_conf</th>\n",
       "    </tr>\n",
       "  </thead>\n",
       "  <tbody>\n",
       "    <tr>\n",
       "      <th>count</th>\n",
       "      <td>2.075000e+03</td>\n",
       "      <td>2075.000000</td>\n",
       "      <td>2075.000000</td>\n",
       "      <td>2.075000e+03</td>\n",
       "      <td>2.075000e+03</td>\n",
       "    </tr>\n",
       "    <tr>\n",
       "      <th>mean</th>\n",
       "      <td>7.384514e+17</td>\n",
       "      <td>1.203855</td>\n",
       "      <td>0.594548</td>\n",
       "      <td>1.345886e-01</td>\n",
       "      <td>6.032417e-02</td>\n",
       "    </tr>\n",
       "    <tr>\n",
       "      <th>std</th>\n",
       "      <td>6.785203e+16</td>\n",
       "      <td>0.561875</td>\n",
       "      <td>0.271174</td>\n",
       "      <td>1.006657e-01</td>\n",
       "      <td>5.090593e-02</td>\n",
       "    </tr>\n",
       "    <tr>\n",
       "      <th>min</th>\n",
       "      <td>6.660209e+17</td>\n",
       "      <td>1.000000</td>\n",
       "      <td>0.044333</td>\n",
       "      <td>1.011300e-08</td>\n",
       "      <td>1.740170e-10</td>\n",
       "    </tr>\n",
       "    <tr>\n",
       "      <th>25%</th>\n",
       "      <td>6.764835e+17</td>\n",
       "      <td>1.000000</td>\n",
       "      <td>0.364412</td>\n",
       "      <td>5.388625e-02</td>\n",
       "      <td>1.622240e-02</td>\n",
       "    </tr>\n",
       "    <tr>\n",
       "      <th>50%</th>\n",
       "      <td>7.119988e+17</td>\n",
       "      <td>1.000000</td>\n",
       "      <td>0.588230</td>\n",
       "      <td>1.181810e-01</td>\n",
       "      <td>4.944380e-02</td>\n",
       "    </tr>\n",
       "    <tr>\n",
       "      <th>75%</th>\n",
       "      <td>7.932034e+17</td>\n",
       "      <td>1.000000</td>\n",
       "      <td>0.843855</td>\n",
       "      <td>1.955655e-01</td>\n",
       "      <td>9.180755e-02</td>\n",
       "    </tr>\n",
       "    <tr>\n",
       "      <th>max</th>\n",
       "      <td>8.924206e+17</td>\n",
       "      <td>4.000000</td>\n",
       "      <td>1.000000</td>\n",
       "      <td>4.880140e-01</td>\n",
       "      <td>2.734190e-01</td>\n",
       "    </tr>\n",
       "  </tbody>\n",
       "</table>\n",
       "</div>"
      ],
      "text/plain": [
       "           tweet_id      img_num      p1_conf       p2_conf       p3_conf\n",
       "count  2.075000e+03  2075.000000  2075.000000  2.075000e+03  2.075000e+03\n",
       "mean   7.384514e+17     1.203855     0.594548  1.345886e-01  6.032417e-02\n",
       "std    6.785203e+16     0.561875     0.271174  1.006657e-01  5.090593e-02\n",
       "min    6.660209e+17     1.000000     0.044333  1.011300e-08  1.740170e-10\n",
       "25%    6.764835e+17     1.000000     0.364412  5.388625e-02  1.622240e-02\n",
       "50%    7.119988e+17     1.000000     0.588230  1.181810e-01  4.944380e-02\n",
       "75%    7.932034e+17     1.000000     0.843855  1.955655e-01  9.180755e-02\n",
       "max    8.924206e+17     4.000000     1.000000  4.880140e-01  2.734190e-01"
      ]
     },
     "execution_count": 15,
     "metadata": {},
     "output_type": "execute_result"
    }
   ],
   "source": [
    "image_predictions.describe()"
   ]
  },
  {
   "cell_type": "markdown",
   "metadata": {},
   "source": [
    "#### tweet:"
   ]
  },
  {
   "cell_type": "code",
   "execution_count": 16,
   "metadata": {},
   "outputs": [
    {
     "data": {
      "text/plain": [
       "(2340, 30)"
      ]
     },
     "execution_count": 16,
     "metadata": {},
     "output_type": "execute_result"
    }
   ],
   "source": [
    "tweet.shape"
   ]
  },
  {
   "cell_type": "code",
   "execution_count": 17,
   "metadata": {},
   "outputs": [
    {
     "name": "stdout",
     "output_type": "stream",
     "text": [
      "<class 'pandas.core.frame.DataFrame'>\n",
      "DatetimeIndex: 2340 entries, 1991-02-08 13:48:08.022790149 to 1998-04-12 22:37:23.555336193\n",
      "Data columns (total 30 columns):\n",
      "contributors                     0 non-null float64\n",
      "coordinates                      0 non-null float64\n",
      "created_at                       2340 non-null datetime64[ns]\n",
      "entities                         2340 non-null object\n",
      "extended_entities                1822 non-null object\n",
      "favorite_count                   2340 non-null int64\n",
      "favorited                        2340 non-null int64\n",
      "geo                              0 non-null float64\n",
      "id                               2340 non-null int64\n",
      "id_str                           2340 non-null int64\n",
      "in_reply_to_screen_name          77 non-null object\n",
      "in_reply_to_status_id            77 non-null float64\n",
      "in_reply_to_status_id_str        77 non-null float64\n",
      "in_reply_to_user_id              77 non-null float64\n",
      "in_reply_to_user_id_str          77 non-null float64\n",
      "is_quote_status                  2340 non-null int64\n",
      "lang                             2340 non-null object\n",
      "place                            1 non-null object\n",
      "possibly_sensitive               2205 non-null float64\n",
      "possibly_sensitive_appealable    2205 non-null float64\n",
      "quoted_status                    24 non-null object\n",
      "quoted_status_id                 26 non-null float64\n",
      "quoted_status_id_str             26 non-null float64\n",
      "retweet_count                    2340 non-null int64\n",
      "retweeted                        2340 non-null int64\n",
      "retweeted_status                 167 non-null object\n",
      "source                           2340 non-null object\n",
      "text                             2340 non-null object\n",
      "truncated                        2340 non-null int64\n",
      "user                             2340 non-null object\n",
      "dtypes: datetime64[ns](1), float64(11), int64(8), object(10)\n",
      "memory usage: 566.7+ KB\n"
     ]
    }
   ],
   "source": [
    "tweet.info()"
   ]
  },
  {
   "cell_type": "code",
   "execution_count": 18,
   "metadata": {},
   "outputs": [
    {
     "data": {
      "text/html": [
       "<div>\n",
       "<style>\n",
       "    .dataframe thead tr:only-child th {\n",
       "        text-align: right;\n",
       "    }\n",
       "\n",
       "    .dataframe thead th {\n",
       "        text-align: left;\n",
       "    }\n",
       "\n",
       "    .dataframe tbody tr th {\n",
       "        vertical-align: top;\n",
       "    }\n",
       "</style>\n",
       "<table border=\"1\" class=\"dataframe\">\n",
       "  <thead>\n",
       "    <tr style=\"text-align: right;\">\n",
       "      <th></th>\n",
       "      <th>contributors</th>\n",
       "      <th>coordinates</th>\n",
       "      <th>created_at</th>\n",
       "      <th>entities</th>\n",
       "      <th>extended_entities</th>\n",
       "      <th>favorite_count</th>\n",
       "      <th>favorited</th>\n",
       "      <th>geo</th>\n",
       "      <th>id</th>\n",
       "      <th>id_str</th>\n",
       "      <th>...</th>\n",
       "      <th>quoted_status</th>\n",
       "      <th>quoted_status_id</th>\n",
       "      <th>quoted_status_id_str</th>\n",
       "      <th>retweet_count</th>\n",
       "      <th>retweeted</th>\n",
       "      <th>retweeted_status</th>\n",
       "      <th>source</th>\n",
       "      <th>text</th>\n",
       "      <th>truncated</th>\n",
       "      <th>user</th>\n",
       "    </tr>\n",
       "  </thead>\n",
       "  <tbody>\n",
       "    <tr>\n",
       "      <th>1992-05-03 02:19:18.691414016</th>\n",
       "      <td>NaN</td>\n",
       "      <td>NaN</td>\n",
       "      <td>2016-03-02 02:43:09</td>\n",
       "      <td>{'hashtags': [], 'media': [{'display_url': 'pi...</td>\n",
       "      <td>{'media': [{'display_url': 'pic.twitter.com/81...</td>\n",
       "      <td>2351</td>\n",
       "      <td>0</td>\n",
       "      <td>NaN</td>\n",
       "      <td>704859558691414016</td>\n",
       "      <td>704859558691414016</td>\n",
       "      <td>...</td>\n",
       "      <td>NaN</td>\n",
       "      <td>NaN</td>\n",
       "      <td>NaN</td>\n",
       "      <td>579</td>\n",
       "      <td>0</td>\n",
       "      <td>NaN</td>\n",
       "      <td>&lt;a href=\"http://twitter.com/download/iphone\" r...</td>\n",
       "      <td>Here is a heartbreaking scene of an incredible...</td>\n",
       "      <td>0</td>\n",
       "      <td>{'contributors_enabled': False, 'created_at': ...</td>\n",
       "    </tr>\n",
       "    <tr>\n",
       "      <th>1994-01-03 15:41:04.640446465</th>\n",
       "      <td>NaN</td>\n",
       "      <td>NaN</td>\n",
       "      <td>2016-07-25 16:21:11</td>\n",
       "      <td>{'hashtags': [], 'media': [{'display_url': 'pi...</td>\n",
       "      <td>{'media': [{'display_url': 'pic.twitter.com/AV...</td>\n",
       "      <td>4807</td>\n",
       "      <td>0</td>\n",
       "      <td>NaN</td>\n",
       "      <td>757611664640446464</td>\n",
       "      <td>757611664640446464</td>\n",
       "      <td>...</td>\n",
       "      <td>NaN</td>\n",
       "      <td>NaN</td>\n",
       "      <td>NaN</td>\n",
       "      <td>1201</td>\n",
       "      <td>0</td>\n",
       "      <td>NaN</td>\n",
       "      <td>&lt;a href=\"http://twitter.com/download/iphone\" r...</td>\n",
       "      <td>This is Cooper. He tries to come across as fei...</td>\n",
       "      <td>0</td>\n",
       "      <td>{'contributors_enabled': False, 'created_at': ...</td>\n",
       "    </tr>\n",
       "    <tr>\n",
       "      <th>1991-05-20 10:58:50.913071104</th>\n",
       "      <td>NaN</td>\n",
       "      <td>NaN</td>\n",
       "      <td>2015-12-09 23:47:22</td>\n",
       "      <td>{'hashtags': [], 'media': [{'display_url': 'pi...</td>\n",
       "      <td>{'media': [{'display_url': 'pic.twitter.com/KN...</td>\n",
       "      <td>662</td>\n",
       "      <td>0</td>\n",
       "      <td>NaN</td>\n",
       "      <td>674737130913071104</td>\n",
       "      <td>674737130913071104</td>\n",
       "      <td>...</td>\n",
       "      <td>NaN</td>\n",
       "      <td>NaN</td>\n",
       "      <td>NaN</td>\n",
       "      <td>96</td>\n",
       "      <td>0</td>\n",
       "      <td>NaN</td>\n",
       "      <td>&lt;a href=\"http://twitter.com/download/iphone\" r...</td>\n",
       "      <td>Meet Rufio. He is unaware of the pink legless ...</td>\n",
       "      <td>0</td>\n",
       "      <td>{'contributors_enabled': False, 'created_at': ...</td>\n",
       "    </tr>\n",
       "  </tbody>\n",
       "</table>\n",
       "<p>3 rows × 30 columns</p>\n",
       "</div>"
      ],
      "text/plain": [
       "                               contributors  coordinates          created_at  \\\n",
       "1992-05-03 02:19:18.691414016           NaN          NaN 2016-03-02 02:43:09   \n",
       "1994-01-03 15:41:04.640446465           NaN          NaN 2016-07-25 16:21:11   \n",
       "1991-05-20 10:58:50.913071104           NaN          NaN 2015-12-09 23:47:22   \n",
       "\n",
       "                                                                        entities  \\\n",
       "1992-05-03 02:19:18.691414016  {'hashtags': [], 'media': [{'display_url': 'pi...   \n",
       "1994-01-03 15:41:04.640446465  {'hashtags': [], 'media': [{'display_url': 'pi...   \n",
       "1991-05-20 10:58:50.913071104  {'hashtags': [], 'media': [{'display_url': 'pi...   \n",
       "\n",
       "                                                               extended_entities  \\\n",
       "1992-05-03 02:19:18.691414016  {'media': [{'display_url': 'pic.twitter.com/81...   \n",
       "1994-01-03 15:41:04.640446465  {'media': [{'display_url': 'pic.twitter.com/AV...   \n",
       "1991-05-20 10:58:50.913071104  {'media': [{'display_url': 'pic.twitter.com/KN...   \n",
       "\n",
       "                               favorite_count  favorited  geo  \\\n",
       "1992-05-03 02:19:18.691414016            2351          0  NaN   \n",
       "1994-01-03 15:41:04.640446465            4807          0  NaN   \n",
       "1991-05-20 10:58:50.913071104             662          0  NaN   \n",
       "\n",
       "                                               id              id_str  \\\n",
       "1992-05-03 02:19:18.691414016  704859558691414016  704859558691414016   \n",
       "1994-01-03 15:41:04.640446465  757611664640446464  757611664640446464   \n",
       "1991-05-20 10:58:50.913071104  674737130913071104  674737130913071104   \n",
       "\n",
       "                                                     ...                          \\\n",
       "1992-05-03 02:19:18.691414016                        ...                           \n",
       "1994-01-03 15:41:04.640446465                        ...                           \n",
       "1991-05-20 10:58:50.913071104                        ...                           \n",
       "\n",
       "                              quoted_status  quoted_status_id  \\\n",
       "1992-05-03 02:19:18.691414016           NaN               NaN   \n",
       "1994-01-03 15:41:04.640446465           NaN               NaN   \n",
       "1991-05-20 10:58:50.913071104           NaN               NaN   \n",
       "\n",
       "                               quoted_status_id_str  retweet_count  retweeted  \\\n",
       "1992-05-03 02:19:18.691414016                   NaN            579          0   \n",
       "1994-01-03 15:41:04.640446465                   NaN           1201          0   \n",
       "1991-05-20 10:58:50.913071104                   NaN             96          0   \n",
       "\n",
       "                               retweeted_status  \\\n",
       "1992-05-03 02:19:18.691414016               NaN   \n",
       "1994-01-03 15:41:04.640446465               NaN   \n",
       "1991-05-20 10:58:50.913071104               NaN   \n",
       "\n",
       "                                                                          source  \\\n",
       "1992-05-03 02:19:18.691414016  <a href=\"http://twitter.com/download/iphone\" r...   \n",
       "1994-01-03 15:41:04.640446465  <a href=\"http://twitter.com/download/iphone\" r...   \n",
       "1991-05-20 10:58:50.913071104  <a href=\"http://twitter.com/download/iphone\" r...   \n",
       "\n",
       "                                                                            text  \\\n",
       "1992-05-03 02:19:18.691414016  Here is a heartbreaking scene of an incredible...   \n",
       "1994-01-03 15:41:04.640446465  This is Cooper. He tries to come across as fei...   \n",
       "1991-05-20 10:58:50.913071104  Meet Rufio. He is unaware of the pink legless ...   \n",
       "\n",
       "                               truncated  \\\n",
       "1992-05-03 02:19:18.691414016          0   \n",
       "1994-01-03 15:41:04.640446465          0   \n",
       "1991-05-20 10:58:50.913071104          0   \n",
       "\n",
       "                                                                            user  \n",
       "1992-05-03 02:19:18.691414016  {'contributors_enabled': False, 'created_at': ...  \n",
       "1994-01-03 15:41:04.640446465  {'contributors_enabled': False, 'created_at': ...  \n",
       "1991-05-20 10:58:50.913071104  {'contributors_enabled': False, 'created_at': ...  \n",
       "\n",
       "[3 rows x 30 columns]"
      ]
     },
     "execution_count": 18,
     "metadata": {},
     "output_type": "execute_result"
    }
   ],
   "source": [
    "tweet.sample(3)"
   ]
  },
  {
   "cell_type": "code",
   "execution_count": 19,
   "metadata": {},
   "outputs": [
    {
     "data": {
      "text/html": [
       "<div>\n",
       "<style>\n",
       "    .dataframe thead tr:only-child th {\n",
       "        text-align: right;\n",
       "    }\n",
       "\n",
       "    .dataframe thead th {\n",
       "        text-align: left;\n",
       "    }\n",
       "\n",
       "    .dataframe tbody tr th {\n",
       "        vertical-align: top;\n",
       "    }\n",
       "</style>\n",
       "<table border=\"1\" class=\"dataframe\">\n",
       "  <thead>\n",
       "    <tr style=\"text-align: right;\">\n",
       "      <th></th>\n",
       "      <th>contributors</th>\n",
       "      <th>coordinates</th>\n",
       "      <th>favorite_count</th>\n",
       "      <th>favorited</th>\n",
       "      <th>geo</th>\n",
       "      <th>id</th>\n",
       "      <th>id_str</th>\n",
       "      <th>in_reply_to_status_id</th>\n",
       "      <th>in_reply_to_status_id_str</th>\n",
       "      <th>in_reply_to_user_id</th>\n",
       "      <th>in_reply_to_user_id_str</th>\n",
       "      <th>is_quote_status</th>\n",
       "      <th>possibly_sensitive</th>\n",
       "      <th>possibly_sensitive_appealable</th>\n",
       "      <th>quoted_status_id</th>\n",
       "      <th>quoted_status_id_str</th>\n",
       "      <th>retweet_count</th>\n",
       "      <th>retweeted</th>\n",
       "      <th>truncated</th>\n",
       "    </tr>\n",
       "  </thead>\n",
       "  <tbody>\n",
       "    <tr>\n",
       "      <th>count</th>\n",
       "      <td>0.0</td>\n",
       "      <td>0.0</td>\n",
       "      <td>2340.000000</td>\n",
       "      <td>2340.0</td>\n",
       "      <td>0.0</td>\n",
       "      <td>2.340000e+03</td>\n",
       "      <td>2.340000e+03</td>\n",
       "      <td>7.700000e+01</td>\n",
       "      <td>7.700000e+01</td>\n",
       "      <td>7.700000e+01</td>\n",
       "      <td>7.700000e+01</td>\n",
       "      <td>2340.000000</td>\n",
       "      <td>2205.0</td>\n",
       "      <td>2205.0</td>\n",
       "      <td>2.600000e+01</td>\n",
       "      <td>2.600000e+01</td>\n",
       "      <td>2340.000000</td>\n",
       "      <td>2340.0</td>\n",
       "      <td>2340.000000</td>\n",
       "    </tr>\n",
       "    <tr>\n",
       "      <th>mean</th>\n",
       "      <td>NaN</td>\n",
       "      <td>NaN</td>\n",
       "      <td>7941.805128</td>\n",
       "      <td>0.0</td>\n",
       "      <td>NaN</td>\n",
       "      <td>7.422176e+17</td>\n",
       "      <td>7.422176e+17</td>\n",
       "      <td>7.440692e+17</td>\n",
       "      <td>7.440692e+17</td>\n",
       "      <td>2.040329e+16</td>\n",
       "      <td>2.040329e+16</td>\n",
       "      <td>0.013248</td>\n",
       "      <td>0.0</td>\n",
       "      <td>0.0</td>\n",
       "      <td>8.113972e+17</td>\n",
       "      <td>8.113972e+17</td>\n",
       "      <td>2918.194444</td>\n",
       "      <td>0.0</td>\n",
       "      <td>0.105556</td>\n",
       "    </tr>\n",
       "    <tr>\n",
       "      <th>std</th>\n",
       "      <td>NaN</td>\n",
       "      <td>NaN</td>\n",
       "      <td>12301.367669</td>\n",
       "      <td>0.0</td>\n",
       "      <td>NaN</td>\n",
       "      <td>6.832564e+16</td>\n",
       "      <td>6.832564e+16</td>\n",
       "      <td>7.524295e+16</td>\n",
       "      <td>7.524295e+16</td>\n",
       "      <td>1.260797e+17</td>\n",
       "      <td>1.260797e+17</td>\n",
       "      <td>0.114359</td>\n",
       "      <td>0.0</td>\n",
       "      <td>0.0</td>\n",
       "      <td>6.295843e+16</td>\n",
       "      <td>6.295843e+16</td>\n",
       "      <td>4916.590607</td>\n",
       "      <td>0.0</td>\n",
       "      <td>0.307334</td>\n",
       "    </tr>\n",
       "    <tr>\n",
       "      <th>min</th>\n",
       "      <td>NaN</td>\n",
       "      <td>NaN</td>\n",
       "      <td>0.000000</td>\n",
       "      <td>0.0</td>\n",
       "      <td>NaN</td>\n",
       "      <td>6.660209e+17</td>\n",
       "      <td>6.660209e+17</td>\n",
       "      <td>6.658147e+17</td>\n",
       "      <td>6.658147e+17</td>\n",
       "      <td>1.185634e+07</td>\n",
       "      <td>1.185634e+07</td>\n",
       "      <td>0.000000</td>\n",
       "      <td>0.0</td>\n",
       "      <td>0.0</td>\n",
       "      <td>6.721083e+17</td>\n",
       "      <td>6.721083e+17</td>\n",
       "      <td>0.000000</td>\n",
       "      <td>0.0</td>\n",
       "      <td>0.000000</td>\n",
       "    </tr>\n",
       "    <tr>\n",
       "      <th>25%</th>\n",
       "      <td>NaN</td>\n",
       "      <td>NaN</td>\n",
       "      <td>1371.000000</td>\n",
       "      <td>0.0</td>\n",
       "      <td>NaN</td>\n",
       "      <td>6.783394e+17</td>\n",
       "      <td>6.783394e+17</td>\n",
       "      <td>6.757073e+17</td>\n",
       "      <td>6.757073e+17</td>\n",
       "      <td>3.589728e+08</td>\n",
       "      <td>3.589728e+08</td>\n",
       "      <td>0.000000</td>\n",
       "      <td>0.0</td>\n",
       "      <td>0.0</td>\n",
       "      <td>7.761338e+17</td>\n",
       "      <td>7.761338e+17</td>\n",
       "      <td>584.750000</td>\n",
       "      <td>0.0</td>\n",
       "      <td>0.000000</td>\n",
       "    </tr>\n",
       "    <tr>\n",
       "      <th>50%</th>\n",
       "      <td>NaN</td>\n",
       "      <td>NaN</td>\n",
       "      <td>3451.500000</td>\n",
       "      <td>0.0</td>\n",
       "      <td>NaN</td>\n",
       "      <td>7.186224e+17</td>\n",
       "      <td>7.186224e+17</td>\n",
       "      <td>7.032559e+17</td>\n",
       "      <td>7.032559e+17</td>\n",
       "      <td>4.196984e+09</td>\n",
       "      <td>4.196984e+09</td>\n",
       "      <td>0.000000</td>\n",
       "      <td>0.0</td>\n",
       "      <td>0.0</td>\n",
       "      <td>8.281173e+17</td>\n",
       "      <td>8.281173e+17</td>\n",
       "      <td>1361.000000</td>\n",
       "      <td>0.0</td>\n",
       "      <td>0.000000</td>\n",
       "    </tr>\n",
       "    <tr>\n",
       "      <th>75%</th>\n",
       "      <td>NaN</td>\n",
       "      <td>NaN</td>\n",
       "      <td>9721.250000</td>\n",
       "      <td>0.0</td>\n",
       "      <td>NaN</td>\n",
       "      <td>7.986954e+17</td>\n",
       "      <td>7.986954e+17</td>\n",
       "      <td>8.233264e+17</td>\n",
       "      <td>8.233264e+17</td>\n",
       "      <td>4.196984e+09</td>\n",
       "      <td>4.196984e+09</td>\n",
       "      <td>0.000000</td>\n",
       "      <td>0.0</td>\n",
       "      <td>0.0</td>\n",
       "      <td>8.637581e+17</td>\n",
       "      <td>8.637581e+17</td>\n",
       "      <td>3399.000000</td>\n",
       "      <td>0.0</td>\n",
       "      <td>0.000000</td>\n",
       "    </tr>\n",
       "    <tr>\n",
       "      <th>max</th>\n",
       "      <td>NaN</td>\n",
       "      <td>NaN</td>\n",
       "      <td>163857.000000</td>\n",
       "      <td>0.0</td>\n",
       "      <td>NaN</td>\n",
       "      <td>8.924206e+17</td>\n",
       "      <td>8.924206e+17</td>\n",
       "      <td>8.862664e+17</td>\n",
       "      <td>8.862664e+17</td>\n",
       "      <td>8.405479e+17</td>\n",
       "      <td>8.405479e+17</td>\n",
       "      <td>1.000000</td>\n",
       "      <td>0.0</td>\n",
       "      <td>0.0</td>\n",
       "      <td>8.860534e+17</td>\n",
       "      <td>8.860534e+17</td>\n",
       "      <td>83327.000000</td>\n",
       "      <td>0.0</td>\n",
       "      <td>1.000000</td>\n",
       "    </tr>\n",
       "  </tbody>\n",
       "</table>\n",
       "</div>"
      ],
      "text/plain": [
       "       contributors  coordinates  favorite_count  favorited  geo  \\\n",
       "count           0.0          0.0     2340.000000     2340.0  0.0   \n",
       "mean            NaN          NaN     7941.805128        0.0  NaN   \n",
       "std             NaN          NaN    12301.367669        0.0  NaN   \n",
       "min             NaN          NaN        0.000000        0.0  NaN   \n",
       "25%             NaN          NaN     1371.000000        0.0  NaN   \n",
       "50%             NaN          NaN     3451.500000        0.0  NaN   \n",
       "75%             NaN          NaN     9721.250000        0.0  NaN   \n",
       "max             NaN          NaN   163857.000000        0.0  NaN   \n",
       "\n",
       "                 id        id_str  in_reply_to_status_id  \\\n",
       "count  2.340000e+03  2.340000e+03           7.700000e+01   \n",
       "mean   7.422176e+17  7.422176e+17           7.440692e+17   \n",
       "std    6.832564e+16  6.832564e+16           7.524295e+16   \n",
       "min    6.660209e+17  6.660209e+17           6.658147e+17   \n",
       "25%    6.783394e+17  6.783394e+17           6.757073e+17   \n",
       "50%    7.186224e+17  7.186224e+17           7.032559e+17   \n",
       "75%    7.986954e+17  7.986954e+17           8.233264e+17   \n",
       "max    8.924206e+17  8.924206e+17           8.862664e+17   \n",
       "\n",
       "       in_reply_to_status_id_str  in_reply_to_user_id  \\\n",
       "count               7.700000e+01         7.700000e+01   \n",
       "mean                7.440692e+17         2.040329e+16   \n",
       "std                 7.524295e+16         1.260797e+17   \n",
       "min                 6.658147e+17         1.185634e+07   \n",
       "25%                 6.757073e+17         3.589728e+08   \n",
       "50%                 7.032559e+17         4.196984e+09   \n",
       "75%                 8.233264e+17         4.196984e+09   \n",
       "max                 8.862664e+17         8.405479e+17   \n",
       "\n",
       "       in_reply_to_user_id_str  is_quote_status  possibly_sensitive  \\\n",
       "count             7.700000e+01      2340.000000              2205.0   \n",
       "mean              2.040329e+16         0.013248                 0.0   \n",
       "std               1.260797e+17         0.114359                 0.0   \n",
       "min               1.185634e+07         0.000000                 0.0   \n",
       "25%               3.589728e+08         0.000000                 0.0   \n",
       "50%               4.196984e+09         0.000000                 0.0   \n",
       "75%               4.196984e+09         0.000000                 0.0   \n",
       "max               8.405479e+17         1.000000                 0.0   \n",
       "\n",
       "       possibly_sensitive_appealable  quoted_status_id  quoted_status_id_str  \\\n",
       "count                         2205.0      2.600000e+01          2.600000e+01   \n",
       "mean                             0.0      8.113972e+17          8.113972e+17   \n",
       "std                              0.0      6.295843e+16          6.295843e+16   \n",
       "min                              0.0      6.721083e+17          6.721083e+17   \n",
       "25%                              0.0      7.761338e+17          7.761338e+17   \n",
       "50%                              0.0      8.281173e+17          8.281173e+17   \n",
       "75%                              0.0      8.637581e+17          8.637581e+17   \n",
       "max                              0.0      8.860534e+17          8.860534e+17   \n",
       "\n",
       "       retweet_count  retweeted    truncated  \n",
       "count    2340.000000     2340.0  2340.000000  \n",
       "mean     2918.194444        0.0     0.105556  \n",
       "std      4916.590607        0.0     0.307334  \n",
       "min         0.000000        0.0     0.000000  \n",
       "25%       584.750000        0.0     0.000000  \n",
       "50%      1361.000000        0.0     0.000000  \n",
       "75%      3399.000000        0.0     0.000000  \n",
       "max     83327.000000        0.0     1.000000  "
      ]
     },
     "execution_count": 19,
     "metadata": {},
     "output_type": "execute_result"
    }
   ],
   "source": [
    "tweet.describe()"
   ]
  },
  {
   "cell_type": "markdown",
   "metadata": {},
   "source": [
    "### Quality issues:\n",
    ">##### 1) In dataframe \"archive\" there are missing data: some of the names of the dogs, in the column \"name\", are not real names (eg. \"an\", \"by\", etc). They can be recognized as they start with a lowercase letter. We will need to use \"str.islower\" function to identify and fix them.\n",
    ">##### 2) In dataframe \"archive\", we would need to remove all the rows that are not original tweets: if the column 'retweeted_status_id' is not null it means that is a retweet and those rows should be removed. We have 181 non-null instances that will have to be removed.\n",
    ">##### 3) In \"archive\" dataframe, \"tweet_id\" column needs to be converted from a number to string value.\n",
    ">##### 4) In the \"archive\" dataframe, we have not a constant value in the \"rating_denominator\", which makes a real rating difficult to do just looking at the numerator value.\n",
    ">##### 5) In dataframe \"image_predictions\", not all the values of the columns \"p1\", \"p2\" and \"p3\" starts with a capital letter. Capitalize them with \"str.capitalize\" function to achieve consistency.\n",
    ">##### 6) In dataframe \"image_predictions\", in the coulmns \"p1\", \"p2\" and \"p3\", remove the underscore \"_\" between the words.\n",
    ">##### 7) In the dataframe 'image_predictions', convert 'tweet_id' from number to string data type to achieve consistency\n",
    ">##### 8) In dataframe \"tweet\", convert \"id\" column from a number to a string.\n",
    ">##### 9) In dataframe \"tweet\", rename the column \"id\" to \"tweet_id\" to achieve consistency with the other two dataframes.\n",
    ">##### 10) In dataframe \"tweet\", 167 records have a non-null \"retweeted_status\", therefore they will need to be removed. "
   ]
  },
  {
   "cell_type": "markdown",
   "metadata": {},
   "source": [
    "### Tidyness issues:\n",
    ">##### 1) In \"archive\" dataframe, convert the \"timestamp\" column from string to datetime object, then split it into 2 seperate columns \"date\" and \"time\".\n",
    ">##### 2) In \"archive\" dataframe, there is one variable in four columns (doggo, floofer, pupper, and puppo), so we will need to combine each dog stage column into a single column named \"stage\".\n",
    ">##### 3) In \"archive\" dataframe, drop columns that are not required for the analysis.\n",
    ">##### 4) Merge all 3 dataframes into a unique dataframe"
   ]
  },
  {
   "cell_type": "markdown",
   "metadata": {},
   "source": [
    "## Cleaning Data"
   ]
  },
  {
   "cell_type": "code",
   "execution_count": 20,
   "metadata": {},
   "outputs": [],
   "source": [
    "# create copy of original dataframes \n",
    "archive_clean = archive.copy()\n",
    "image_predictions_clean = image_predictions.copy()\n",
    "tweet_clean = tweet.copy()"
   ]
  },
  {
   "cell_type": "markdown",
   "metadata": {},
   "source": [
    "### Quality"
   ]
  },
  {
   "cell_type": "markdown",
   "metadata": {},
   "source": [
    "####  1) In dataframe \"archive\" there are missing data: some of the names of the dogs, in the column \"name\", are not real names (eg. \"an\", \"by\", etc). They can be recognized as they start with a lowercase letter. We will need to use \"str.islower\" function to identify and fix them."
   ]
  },
  {
   "cell_type": "markdown",
   "metadata": {},
   "source": [
    "#### Define"
   ]
  },
  {
   "cell_type": "markdown",
   "metadata": {},
   "source": [
    "Find rows where the value of 'name' is lowercase with the function str.islower, indicating that it's not an actual name, and replace it with 'None'"
   ]
  },
  {
   "cell_type": "markdown",
   "metadata": {},
   "source": [
    "#### Code"
   ]
  },
  {
   "cell_type": "code",
   "execution_count": 21,
   "metadata": {},
   "outputs": [],
   "source": [
    "no_name = archive_clean.loc[(archive_clean['name'].str.islower())]\n",
    "no_name_list = no_name['text'].tolist()\n",
    "\n",
    "# iterate replace \"None\" where name is lowercase\n",
    "for i in no_name_list:\n",
    "    archive_clean.loc[archive_clean.text == i, 'name'] = \"None\""
   ]
  },
  {
   "cell_type": "markdown",
   "metadata": {},
   "source": [
    "#### Test"
   ]
  },
  {
   "cell_type": "code",
   "execution_count": 22,
   "metadata": {},
   "outputs": [
    {
     "data": {
      "text/plain": [
       "True"
      ]
     },
     "execution_count": 22,
     "metadata": {},
     "output_type": "execute_result"
    }
   ],
   "source": [
    "len(archive_clean[(archive_clean['name'].str.islower())]) == 0  # True if all names start with Upper case"
   ]
  },
  {
   "cell_type": "markdown",
   "metadata": {},
   "source": [
    "#### 2) In dataframe \"archive\", we would need to remove all the rows that are not original tweets: if the column 'retweeted_status_id' is not null it means that is a retweet and those rows should be removed. We have 181 non-null instances that will have to be removed."
   ]
  },
  {
   "cell_type": "markdown",
   "metadata": {},
   "source": [
    "#### Define"
   ]
  },
  {
   "cell_type": "markdown",
   "metadata": {},
   "source": [
    "Drop tweets that have a \"retweeted_status_id\" not null because the tweet is a retweet, thus not original."
   ]
  },
  {
   "cell_type": "markdown",
   "metadata": {},
   "source": [
    "#### Code"
   ]
  },
  {
   "cell_type": "code",
   "execution_count": 23,
   "metadata": {},
   "outputs": [],
   "source": [
    "# remove these values from the dataframe using the drop() function\n",
    "archive_clean.drop(archive_clean[archive_clean['retweeted_status_id'].notnull()== True].index,inplace=True)"
   ]
  },
  {
   "cell_type": "markdown",
   "metadata": {},
   "source": [
    "#### Test"
   ]
  },
  {
   "cell_type": "code",
   "execution_count": 24,
   "metadata": {},
   "outputs": [
    {
     "name": "stdout",
     "output_type": "stream",
     "text": [
      "<class 'pandas.core.frame.DataFrame'>\n",
      "Int64Index: 2175 entries, 0 to 2355\n",
      "Data columns (total 17 columns):\n",
      "tweet_id                      2175 non-null int64\n",
      "in_reply_to_status_id         78 non-null float64\n",
      "in_reply_to_user_id           78 non-null float64\n",
      "timestamp                     2175 non-null object\n",
      "source                        2175 non-null object\n",
      "text                          2175 non-null object\n",
      "retweeted_status_id           0 non-null float64\n",
      "retweeted_status_user_id      0 non-null float64\n",
      "retweeted_status_timestamp    0 non-null object\n",
      "expanded_urls                 2117 non-null object\n",
      "rating_numerator              2175 non-null int64\n",
      "rating_denominator            2175 non-null int64\n",
      "name                          2175 non-null object\n",
      "doggo                         2175 non-null object\n",
      "floofer                       2175 non-null object\n",
      "pupper                        2175 non-null object\n",
      "puppo                         2175 non-null object\n",
      "dtypes: float64(4), int64(3), object(10)\n",
      "memory usage: 305.9+ KB\n"
     ]
    }
   ],
   "source": [
    "archive_clean.info()"
   ]
  },
  {
   "cell_type": "markdown",
   "metadata": {},
   "source": [
    "#### 3) In \"archive\" dataframe, \"tweet_id\" column needs to be converted from a number to string value."
   ]
  },
  {
   "cell_type": "markdown",
   "metadata": {},
   "source": [
    "#### Define"
   ]
  },
  {
   "cell_type": "markdown",
   "metadata": {},
   "source": [
    "Convert 'tweet_id' column from number to string using .astype(string) function"
   ]
  },
  {
   "cell_type": "markdown",
   "metadata": {},
   "source": [
    "#### Code"
   ]
  },
  {
   "cell_type": "code",
   "execution_count": 25,
   "metadata": {},
   "outputs": [],
   "source": [
    "archive_clean.tweet_id = archive_clean.tweet_id.astype(str)"
   ]
  },
  {
   "cell_type": "markdown",
   "metadata": {},
   "source": [
    "#### Test"
   ]
  },
  {
   "cell_type": "code",
   "execution_count": 26,
   "metadata": {},
   "outputs": [
    {
     "data": {
      "text/plain": [
       "str"
      ]
     },
     "execution_count": 26,
     "metadata": {},
     "output_type": "execute_result"
    }
   ],
   "source": [
    "type(archive_clean['tweet_id'].iloc[0])"
   ]
  },
  {
   "cell_type": "markdown",
   "metadata": {},
   "source": [
    "#### 4) In the \"archive\" dataframe, we have not a constant value in the \"rating_denominator\", which makes a real rating difficult to do just looking at the numerator value."
   ]
  },
  {
   "cell_type": "markdown",
   "metadata": {},
   "source": [
    "#### Define"
   ]
  },
  {
   "cell_type": "markdown",
   "metadata": {},
   "source": [
    "As we don't have a consistent value for the column \"rating_denominator\", we need a new column to normalize the dog ratings, which will be the ratio between \"rating_numerator\" and \"rating_denominator\""
   ]
  },
  {
   "cell_type": "code",
   "execution_count": 27,
   "metadata": {},
   "outputs": [
    {
     "data": {
      "text/plain": [
       "10     2153\n",
       "50        3\n",
       "80        2\n",
       "11        2\n",
       "20        2\n",
       "2         1\n",
       "16        1\n",
       "40        1\n",
       "70        1\n",
       "15        1\n",
       "90        1\n",
       "110       1\n",
       "120       1\n",
       "130       1\n",
       "150       1\n",
       "170       1\n",
       "7         1\n",
       "0         1\n",
       "Name: rating_denominator, dtype: int64"
      ]
     },
     "execution_count": 27,
     "metadata": {},
     "output_type": "execute_result"
    }
   ],
   "source": [
    "archive_clean.rating_denominator.value_counts()"
   ]
  },
  {
   "cell_type": "markdown",
   "metadata": {},
   "source": [
    "#### Code"
   ]
  },
  {
   "cell_type": "code",
   "execution_count": 28,
   "metadata": {},
   "outputs": [],
   "source": [
    "archive_clean['dog_rating'] = archive_clean.rating_numerator / archive_clean.rating_denominator"
   ]
  },
  {
   "cell_type": "markdown",
   "metadata": {},
   "source": [
    "#### Test"
   ]
  },
  {
   "cell_type": "code",
   "execution_count": 29,
   "metadata": {},
   "outputs": [
    {
     "data": {
      "text/plain": [
       "0    1.3\n",
       "1    1.3\n",
       "2    1.2\n",
       "3    1.3\n",
       "4    1.2\n",
       "Name: dog_rating, dtype: float64"
      ]
     },
     "execution_count": 29,
     "metadata": {},
     "output_type": "execute_result"
    }
   ],
   "source": [
    "archive_clean.dog_rating.head(5)"
   ]
  },
  {
   "cell_type": "markdown",
   "metadata": {},
   "source": [
    "#### 5) In dataframe \"image_predictions\", not all the values of the columns \"p1\", \"p2\" and \"p3\" starts with a capital letter. Capitalize them with \"str.capitalize\" function to achieve consistency."
   ]
  },
  {
   "cell_type": "markdown",
   "metadata": {},
   "source": [
    "#### Define"
   ]
  },
  {
   "cell_type": "markdown",
   "metadata": {},
   "source": [
    "Capitalize columns 'p1', 'p2' and 'p3' to achieve consistenci, using str.capitalise function"
   ]
  },
  {
   "cell_type": "markdown",
   "metadata": {},
   "source": [
    "#### Code"
   ]
  },
  {
   "cell_type": "code",
   "execution_count": 30,
   "metadata": {},
   "outputs": [],
   "source": [
    "image_predictions_clean.p1 = image_predictions_clean.p1.str.capitalize()\n",
    "image_predictions_clean.p2 = image_predictions_clean.p2.str.capitalize()\n",
    "image_predictions_clean.p3 = image_predictions_clean.p3.str.capitalize()"
   ]
  },
  {
   "cell_type": "markdown",
   "metadata": {},
   "source": [
    "#### Test\n"
   ]
  },
  {
   "cell_type": "code",
   "execution_count": 31,
   "metadata": {},
   "outputs": [
    {
     "data": {
      "text/plain": [
       "0    Welsh_springer_spaniel\n",
       "1                   Redbone\n",
       "2           German_shepherd\n",
       "3       Rhodesian_ridgeback\n",
       "4        Miniature_pinscher\n",
       "Name: p1, dtype: object"
      ]
     },
     "execution_count": 31,
     "metadata": {},
     "output_type": "execute_result"
    }
   ],
   "source": [
    "image_predictions_clean.p1.head()"
   ]
  },
  {
   "cell_type": "code",
   "execution_count": 32,
   "metadata": {},
   "outputs": [
    {
     "data": {
      "text/plain": [
       "0                Collie\n",
       "1    Miniature_pinscher\n",
       "2              Malinois\n",
       "3               Redbone\n",
       "4            Rottweiler\n",
       "Name: p2, dtype: object"
      ]
     },
     "execution_count": 32,
     "metadata": {},
     "output_type": "execute_result"
    }
   ],
   "source": [
    "image_predictions_clean.p2.head()"
   ]
  },
  {
   "cell_type": "code",
   "execution_count": 33,
   "metadata": {},
   "outputs": [
    {
     "data": {
      "text/plain": [
       "0      Shetland_sheepdog\n",
       "1    Rhodesian_ridgeback\n",
       "2             Bloodhound\n",
       "3     Miniature_pinscher\n",
       "4               Doberman\n",
       "Name: p3, dtype: object"
      ]
     },
     "execution_count": 33,
     "metadata": {},
     "output_type": "execute_result"
    }
   ],
   "source": [
    "image_predictions_clean.p3.head()"
   ]
  },
  {
   "cell_type": "markdown",
   "metadata": {},
   "source": [
    "#### 6) In dataframe \"image_predictions\", in the columns \"p1\", \"p2\" and \"p3\", remove the underscore \"_\" between the words"
   ]
  },
  {
   "cell_type": "markdown",
   "metadata": {},
   "source": [
    "#### Define"
   ]
  },
  {
   "cell_type": "markdown",
   "metadata": {},
   "source": [
    "For all the 3 columns, use the str.replace function to replace the underscore \"_\" with a space \" \"."
   ]
  },
  {
   "cell_type": "markdown",
   "metadata": {},
   "source": [
    "#### Code"
   ]
  },
  {
   "cell_type": "code",
   "execution_count": 34,
   "metadata": {},
   "outputs": [],
   "source": [
    "image_predictions_clean.p1 = image_predictions_clean.p1.str.replace('_', ' ')\n",
    "image_predictions_clean.p2 = image_predictions_clean.p2.str.replace('_', ' ')\n",
    "image_predictions_clean.p3 = image_predictions_clean.p3.str.replace('_', ' ')"
   ]
  },
  {
   "cell_type": "markdown",
   "metadata": {},
   "source": [
    "#### Test"
   ]
  },
  {
   "cell_type": "code",
   "execution_count": 35,
   "metadata": {},
   "outputs": [
    {
     "data": {
      "text/plain": [
       "0    Welsh springer spaniel\n",
       "1                   Redbone\n",
       "2           German shepherd\n",
       "3       Rhodesian ridgeback\n",
       "4        Miniature pinscher\n",
       "Name: p1, dtype: object"
      ]
     },
     "execution_count": 35,
     "metadata": {},
     "output_type": "execute_result"
    }
   ],
   "source": [
    "image_predictions_clean.p1.head()"
   ]
  },
  {
   "cell_type": "code",
   "execution_count": 36,
   "metadata": {},
   "outputs": [
    {
     "data": {
      "text/plain": [
       "0                Collie\n",
       "1    Miniature pinscher\n",
       "2              Malinois\n",
       "3               Redbone\n",
       "4            Rottweiler\n",
       "Name: p2, dtype: object"
      ]
     },
     "execution_count": 36,
     "metadata": {},
     "output_type": "execute_result"
    }
   ],
   "source": [
    "image_predictions_clean.p2.head()"
   ]
  },
  {
   "cell_type": "code",
   "execution_count": 37,
   "metadata": {},
   "outputs": [
    {
     "data": {
      "text/plain": [
       "0      Shetland sheepdog\n",
       "1    Rhodesian ridgeback\n",
       "2             Bloodhound\n",
       "3     Miniature pinscher\n",
       "4               Doberman\n",
       "Name: p3, dtype: object"
      ]
     },
     "execution_count": 37,
     "metadata": {},
     "output_type": "execute_result"
    }
   ],
   "source": [
    "image_predictions_clean.p3.head()"
   ]
  },
  {
   "cell_type": "markdown",
   "metadata": {},
   "source": [
    "#### 7) In the dataframe 'image_predictions', convert 'tweet_id' from number to string data type to achieve consistency."
   ]
  },
  {
   "cell_type": "markdown",
   "metadata": {},
   "source": [
    "#### Define"
   ]
  },
  {
   "cell_type": "markdown",
   "metadata": {},
   "source": [
    "Use .astype(str) function to convert the column 'tweet_id' from number to string"
   ]
  },
  {
   "cell_type": "markdown",
   "metadata": {},
   "source": [
    "#### Code"
   ]
  },
  {
   "cell_type": "code",
   "execution_count": 38,
   "metadata": {},
   "outputs": [
    {
     "data": {
      "text/plain": [
       "numpy.int64"
      ]
     },
     "execution_count": 38,
     "metadata": {},
     "output_type": "execute_result"
    }
   ],
   "source": [
    "type(image_predictions_clean.tweet_id[0]) "
   ]
  },
  {
   "cell_type": "code",
   "execution_count": 39,
   "metadata": {},
   "outputs": [],
   "source": [
    "image_predictions_clean.tweet_id = image_predictions_clean.tweet_id.astype(str)"
   ]
  },
  {
   "cell_type": "markdown",
   "metadata": {},
   "source": [
    "#### Test"
   ]
  },
  {
   "cell_type": "code",
   "execution_count": 40,
   "metadata": {},
   "outputs": [
    {
     "data": {
      "text/plain": [
       "str"
      ]
     },
     "execution_count": 40,
     "metadata": {},
     "output_type": "execute_result"
    }
   ],
   "source": [
    "type(image_predictions_clean.tweet_id[0]) "
   ]
  },
  {
   "cell_type": "markdown",
   "metadata": {},
   "source": [
    "#### 8) In dataframe \"tweet\", convert \"id\" column from a number to a string"
   ]
  },
  {
   "cell_type": "markdown",
   "metadata": {},
   "source": [
    "#### Define"
   ]
  },
  {
   "cell_type": "markdown",
   "metadata": {},
   "source": [
    "Let's use the astype(str) function to convert column \"id\" from number to string "
   ]
  },
  {
   "cell_type": "markdown",
   "metadata": {},
   "source": [
    "#### Code"
   ]
  },
  {
   "cell_type": "code",
   "execution_count": 41,
   "metadata": {},
   "outputs": [],
   "source": [
    "tweet_clean.id = tweet_clean.id.astype(str)"
   ]
  },
  {
   "cell_type": "markdown",
   "metadata": {},
   "source": [
    "#### Test"
   ]
  },
  {
   "cell_type": "code",
   "execution_count": 42,
   "metadata": {},
   "outputs": [
    {
     "data": {
      "text/plain": [
       "str"
      ]
     },
     "execution_count": 42,
     "metadata": {},
     "output_type": "execute_result"
    }
   ],
   "source": [
    "type(tweet_clean.id[0]) "
   ]
  },
  {
   "cell_type": "markdown",
   "metadata": {},
   "source": [
    "#### 9) In dataframe \"tweet\", rename the column \"id\" to \"tweet_id\" to achieve consistency with the other two dataframes"
   ]
  },
  {
   "cell_type": "markdown",
   "metadata": {},
   "source": [
    "#### Define"
   ]
  },
  {
   "cell_type": "markdown",
   "metadata": {},
   "source": [
    "Let's use the rename function to rename the column 'id' to 'tweet_id'"
   ]
  },
  {
   "cell_type": "markdown",
   "metadata": {},
   "source": [
    "#### Code"
   ]
  },
  {
   "cell_type": "code",
   "execution_count": 43,
   "metadata": {},
   "outputs": [],
   "source": [
    "tweet_clean.rename(columns = {'id':'tweet_id'}, inplace=True)"
   ]
  },
  {
   "cell_type": "markdown",
   "metadata": {},
   "source": [
    "#### Test"
   ]
  },
  {
   "cell_type": "code",
   "execution_count": 44,
   "metadata": {},
   "outputs": [
    {
     "data": {
      "text/html": [
       "<div>\n",
       "<style>\n",
       "    .dataframe thead tr:only-child th {\n",
       "        text-align: right;\n",
       "    }\n",
       "\n",
       "    .dataframe thead th {\n",
       "        text-align: left;\n",
       "    }\n",
       "\n",
       "    .dataframe tbody tr th {\n",
       "        vertical-align: top;\n",
       "    }\n",
       "</style>\n",
       "<table border=\"1\" class=\"dataframe\">\n",
       "  <thead>\n",
       "    <tr style=\"text-align: right;\">\n",
       "      <th></th>\n",
       "      <th>contributors</th>\n",
       "      <th>coordinates</th>\n",
       "      <th>created_at</th>\n",
       "      <th>entities</th>\n",
       "      <th>extended_entities</th>\n",
       "      <th>favorite_count</th>\n",
       "      <th>favorited</th>\n",
       "      <th>geo</th>\n",
       "      <th>tweet_id</th>\n",
       "      <th>id_str</th>\n",
       "      <th>...</th>\n",
       "      <th>quoted_status</th>\n",
       "      <th>quoted_status_id</th>\n",
       "      <th>quoted_status_id_str</th>\n",
       "      <th>retweet_count</th>\n",
       "      <th>retweeted</th>\n",
       "      <th>retweeted_status</th>\n",
       "      <th>source</th>\n",
       "      <th>text</th>\n",
       "      <th>truncated</th>\n",
       "      <th>user</th>\n",
       "    </tr>\n",
       "  </thead>\n",
       "  <tbody>\n",
       "    <tr>\n",
       "      <th>1991-02-08 13:48:08.022790149</th>\n",
       "      <td>NaN</td>\n",
       "      <td>NaN</td>\n",
       "      <td>2015-11-15 22:32:08</td>\n",
       "      <td>{'hashtags': [], 'media': [{'display_url': 'pi...</td>\n",
       "      <td>{'media': [{'display_url': 'pic.twitter.com/BL...</td>\n",
       "      <td>2531</td>\n",
       "      <td>0</td>\n",
       "      <td>NaN</td>\n",
       "      <td>666020888022790144</td>\n",
       "      <td>666020888022790144</td>\n",
       "      <td>...</td>\n",
       "      <td>NaN</td>\n",
       "      <td>NaN</td>\n",
       "      <td>NaN</td>\n",
       "      <td>498</td>\n",
       "      <td>0</td>\n",
       "      <td>NaN</td>\n",
       "      <td>&lt;a href=\"http://twitter.com/download/iphone\" r...</td>\n",
       "      <td>Here we have a Japanese Irish Setter. Lost eye...</td>\n",
       "      <td>0</td>\n",
       "      <td>{'contributors_enabled': False, 'created_at': ...</td>\n",
       "    </tr>\n",
       "  </tbody>\n",
       "</table>\n",
       "<p>1 rows × 30 columns</p>\n",
       "</div>"
      ],
      "text/plain": [
       "                               contributors  coordinates          created_at  \\\n",
       "1991-02-08 13:48:08.022790149           NaN          NaN 2015-11-15 22:32:08   \n",
       "\n",
       "                                                                        entities  \\\n",
       "1991-02-08 13:48:08.022790149  {'hashtags': [], 'media': [{'display_url': 'pi...   \n",
       "\n",
       "                                                               extended_entities  \\\n",
       "1991-02-08 13:48:08.022790149  {'media': [{'display_url': 'pic.twitter.com/BL...   \n",
       "\n",
       "                               favorite_count  favorited  geo  \\\n",
       "1991-02-08 13:48:08.022790149            2531          0  NaN   \n",
       "\n",
       "                                         tweet_id              id_str  \\\n",
       "1991-02-08 13:48:08.022790149  666020888022790144  666020888022790144   \n",
       "\n",
       "                                                     ...                          \\\n",
       "1991-02-08 13:48:08.022790149                        ...                           \n",
       "\n",
       "                              quoted_status  quoted_status_id  \\\n",
       "1991-02-08 13:48:08.022790149           NaN               NaN   \n",
       "\n",
       "                               quoted_status_id_str  retweet_count  retweeted  \\\n",
       "1991-02-08 13:48:08.022790149                   NaN            498          0   \n",
       "\n",
       "                               retweeted_status  \\\n",
       "1991-02-08 13:48:08.022790149               NaN   \n",
       "\n",
       "                                                                          source  \\\n",
       "1991-02-08 13:48:08.022790149  <a href=\"http://twitter.com/download/iphone\" r...   \n",
       "\n",
       "                                                                            text  \\\n",
       "1991-02-08 13:48:08.022790149  Here we have a Japanese Irish Setter. Lost eye...   \n",
       "\n",
       "                               truncated  \\\n",
       "1991-02-08 13:48:08.022790149          0   \n",
       "\n",
       "                                                                            user  \n",
       "1991-02-08 13:48:08.022790149  {'contributors_enabled': False, 'created_at': ...  \n",
       "\n",
       "[1 rows x 30 columns]"
      ]
     },
     "execution_count": 44,
     "metadata": {},
     "output_type": "execute_result"
    }
   ],
   "source": [
    "tweet_clean.head(1)"
   ]
  },
  {
   "cell_type": "code",
   "execution_count": 45,
   "metadata": {},
   "outputs": [
    {
     "name": "stdout",
     "output_type": "stream",
     "text": [
      "<class 'str'>\n",
      "<class 'str'>\n",
      "<class 'str'>\n"
     ]
    }
   ],
   "source": [
    "# further check for name and datatype consistency\n",
    "print(type(archive_clean['tweet_id'][0]))\n",
    "print(type(image_predictions_clean['tweet_id'][0]))\n",
    "print(type(tweet_clean['tweet_id'][0]))"
   ]
  },
  {
   "cell_type": "markdown",
   "metadata": {},
   "source": [
    "#### 10) In dataframe \"tweet\", 167 records have a non-null \"retweeted_status\", therefore they will need to be removed"
   ]
  },
  {
   "cell_type": "markdown",
   "metadata": {},
   "source": [
    "#### Define"
   ]
  },
  {
   "cell_type": "markdown",
   "metadata": {},
   "source": [
    "Let's use the function .drop() to drop the columns where the condition: \"retweeted_status is null\" is not met"
   ]
  },
  {
   "cell_type": "markdown",
   "metadata": {},
   "source": [
    "#### Code"
   ]
  },
  {
   "cell_type": "code",
   "execution_count": 46,
   "metadata": {},
   "outputs": [],
   "source": [
    "list_index = tweet_clean[tweet_clean.retweeted_status.isnull()== False].index"
   ]
  },
  {
   "cell_type": "code",
   "execution_count": 47,
   "metadata": {},
   "outputs": [],
   "source": [
    "tweet_clean.drop(list_index, inplace=True)"
   ]
  },
  {
   "cell_type": "markdown",
   "metadata": {},
   "source": [
    "#### Test"
   ]
  },
  {
   "cell_type": "code",
   "execution_count": 48,
   "metadata": {},
   "outputs": [
    {
     "data": {
      "text/plain": [
       "True"
      ]
     },
     "execution_count": 48,
     "metadata": {},
     "output_type": "execute_result"
    }
   ],
   "source": [
    "len(tweet_clean[tweet_clean.retweeted_status.isnull()== False])==0 # True if the 'retweeted_status' has only null values "
   ]
  },
  {
   "cell_type": "markdown",
   "metadata": {},
   "source": [
    "### Tidyness"
   ]
  },
  {
   "cell_type": "markdown",
   "metadata": {},
   "source": [
    "#### 1) In \"archive\" dataframe, convert the \"timestamp\" column from string to datetime object, then split it into 2 seperate columns \"date\" and \"time\"."
   ]
  },
  {
   "cell_type": "markdown",
   "metadata": {},
   "source": [
    "#### Define"
   ]
  },
  {
   "cell_type": "markdown",
   "metadata": {},
   "source": [
    "Change 'timestamp' column from string to datetime object using timestamp function, then split it in 2 columns: 'date' & 'time' using time.strftime function"
   ]
  },
  {
   "cell_type": "code",
   "execution_count": 49,
   "metadata": {},
   "outputs": [
    {
     "data": {
      "text/plain": [
       "str"
      ]
     },
     "execution_count": 49,
     "metadata": {},
     "output_type": "execute_result"
    }
   ],
   "source": [
    "# current data type for timestamp\n",
    "type(archive_clean.timestamp.iloc[0])"
   ]
  },
  {
   "cell_type": "markdown",
   "metadata": {},
   "source": [
    "#### Code"
   ]
  },
  {
   "cell_type": "code",
   "execution_count": 50,
   "metadata": {},
   "outputs": [],
   "source": [
    "# use pd.to_datetime to convert 'timestamp' from string to datetime object\n",
    "archive_clean.timestamp = pd.to_datetime(archive_clean.timestamp)\n",
    "\n",
    "# create 2 new columns 'date' and 'time' based on 'timestamp'\n",
    "archive_clean['date'] = archive_clean.timestamp.apply(lambda time: time.strftime('%m-%d-%Y'))\n",
    "archive_clean['time'] = archive_clean.timestamp.apply(lambda time: time.strftime('%H:%M'))"
   ]
  },
  {
   "cell_type": "markdown",
   "metadata": {},
   "source": [
    "#### Test"
   ]
  },
  {
   "cell_type": "code",
   "execution_count": 51,
   "metadata": {},
   "outputs": [
    {
     "data": {
      "text/html": [
       "<div>\n",
       "<style>\n",
       "    .dataframe thead tr:only-child th {\n",
       "        text-align: right;\n",
       "    }\n",
       "\n",
       "    .dataframe thead th {\n",
       "        text-align: left;\n",
       "    }\n",
       "\n",
       "    .dataframe tbody tr th {\n",
       "        vertical-align: top;\n",
       "    }\n",
       "</style>\n",
       "<table border=\"1\" class=\"dataframe\">\n",
       "  <thead>\n",
       "    <tr style=\"text-align: right;\">\n",
       "      <th></th>\n",
       "      <th>tweet_id</th>\n",
       "      <th>in_reply_to_status_id</th>\n",
       "      <th>in_reply_to_user_id</th>\n",
       "      <th>timestamp</th>\n",
       "      <th>source</th>\n",
       "      <th>text</th>\n",
       "      <th>retweeted_status_id</th>\n",
       "      <th>retweeted_status_user_id</th>\n",
       "      <th>retweeted_status_timestamp</th>\n",
       "      <th>expanded_urls</th>\n",
       "      <th>rating_numerator</th>\n",
       "      <th>rating_denominator</th>\n",
       "      <th>name</th>\n",
       "      <th>doggo</th>\n",
       "      <th>floofer</th>\n",
       "      <th>pupper</th>\n",
       "      <th>puppo</th>\n",
       "      <th>dog_rating</th>\n",
       "      <th>date</th>\n",
       "      <th>time</th>\n",
       "    </tr>\n",
       "  </thead>\n",
       "  <tbody>\n",
       "    <tr>\n",
       "      <th>0</th>\n",
       "      <td>892420643555336193</td>\n",
       "      <td>NaN</td>\n",
       "      <td>NaN</td>\n",
       "      <td>2017-08-01 16:23:56</td>\n",
       "      <td>&lt;a href=\"http://twitter.com/download/iphone\" r...</td>\n",
       "      <td>This is Phineas. He's a mystical boy. Only eve...</td>\n",
       "      <td>NaN</td>\n",
       "      <td>NaN</td>\n",
       "      <td>NaN</td>\n",
       "      <td>https://twitter.com/dog_rates/status/892420643...</td>\n",
       "      <td>13</td>\n",
       "      <td>10</td>\n",
       "      <td>Phineas</td>\n",
       "      <td>None</td>\n",
       "      <td>None</td>\n",
       "      <td>None</td>\n",
       "      <td>None</td>\n",
       "      <td>1.3</td>\n",
       "      <td>08-01-2017</td>\n",
       "      <td>16:23</td>\n",
       "    </tr>\n",
       "    <tr>\n",
       "      <th>1</th>\n",
       "      <td>892177421306343426</td>\n",
       "      <td>NaN</td>\n",
       "      <td>NaN</td>\n",
       "      <td>2017-08-01 00:17:27</td>\n",
       "      <td>&lt;a href=\"http://twitter.com/download/iphone\" r...</td>\n",
       "      <td>This is Tilly. She's just checking pup on you....</td>\n",
       "      <td>NaN</td>\n",
       "      <td>NaN</td>\n",
       "      <td>NaN</td>\n",
       "      <td>https://twitter.com/dog_rates/status/892177421...</td>\n",
       "      <td>13</td>\n",
       "      <td>10</td>\n",
       "      <td>Tilly</td>\n",
       "      <td>None</td>\n",
       "      <td>None</td>\n",
       "      <td>None</td>\n",
       "      <td>None</td>\n",
       "      <td>1.3</td>\n",
       "      <td>08-01-2017</td>\n",
       "      <td>00:17</td>\n",
       "    </tr>\n",
       "  </tbody>\n",
       "</table>\n",
       "</div>"
      ],
      "text/plain": [
       "             tweet_id  in_reply_to_status_id  in_reply_to_user_id  \\\n",
       "0  892420643555336193                    NaN                  NaN   \n",
       "1  892177421306343426                    NaN                  NaN   \n",
       "\n",
       "            timestamp                                             source  \\\n",
       "0 2017-08-01 16:23:56  <a href=\"http://twitter.com/download/iphone\" r...   \n",
       "1 2017-08-01 00:17:27  <a href=\"http://twitter.com/download/iphone\" r...   \n",
       "\n",
       "                                                text  retweeted_status_id  \\\n",
       "0  This is Phineas. He's a mystical boy. Only eve...                  NaN   \n",
       "1  This is Tilly. She's just checking pup on you....                  NaN   \n",
       "\n",
       "   retweeted_status_user_id retweeted_status_timestamp  \\\n",
       "0                       NaN                        NaN   \n",
       "1                       NaN                        NaN   \n",
       "\n",
       "                                       expanded_urls  rating_numerator  \\\n",
       "0  https://twitter.com/dog_rates/status/892420643...                13   \n",
       "1  https://twitter.com/dog_rates/status/892177421...                13   \n",
       "\n",
       "   rating_denominator     name doggo floofer pupper puppo  dog_rating  \\\n",
       "0                  10  Phineas  None    None   None  None         1.3   \n",
       "1                  10    Tilly  None    None   None  None         1.3   \n",
       "\n",
       "         date   time  \n",
       "0  08-01-2017  16:23  \n",
       "1  08-01-2017  00:17  "
      ]
     },
     "execution_count": 51,
     "metadata": {},
     "output_type": "execute_result"
    }
   ],
   "source": [
    "archive_clean.head(2)"
   ]
  },
  {
   "cell_type": "code",
   "execution_count": 52,
   "metadata": {},
   "outputs": [
    {
     "data": {
      "text/plain": [
       "str"
      ]
     },
     "execution_count": 52,
     "metadata": {},
     "output_type": "execute_result"
    }
   ],
   "source": [
    "type(archive_clean.date.iloc[0])"
   ]
  },
  {
   "cell_type": "code",
   "execution_count": 53,
   "metadata": {},
   "outputs": [
    {
     "data": {
      "text/plain": [
       "str"
      ]
     },
     "execution_count": 53,
     "metadata": {},
     "output_type": "execute_result"
    }
   ],
   "source": [
    "type(archive_clean.time.iloc[0])"
   ]
  },
  {
   "cell_type": "markdown",
   "metadata": {},
   "source": [
    "#### 2) In \"archive\" dataframe, there is one variable in four columns (doggo, floofer, pupper, and puppo), so we will need to combine each dog stage column into a single column named \"stage\""
   ]
  },
  {
   "cell_type": "markdown",
   "metadata": {},
   "source": [
    "#### Define"
   ]
  },
  {
   "cell_type": "markdown",
   "metadata": {},
   "source": [
    "We are going to create a new column called \"stage\", fill it with the info extracted from the above mentioned 4 columns with the str.ectract function, and finally drop these 4 columns."
   ]
  },
  {
   "cell_type": "markdown",
   "metadata": {},
   "source": [
    "#### Code"
   ]
  },
  {
   "cell_type": "code",
   "execution_count": 54,
   "metadata": {},
   "outputs": [],
   "source": [
    "# Create 'dog_stage' variable which is made by extracting the dog stage variables from the text column when available \n",
    "archive_clean['stage'] = archive_clean['text'].str.extract('(puppo|pupper|floofer|doggo)', expand=True)"
   ]
  },
  {
   "cell_type": "code",
   "execution_count": 55,
   "metadata": {},
   "outputs": [],
   "source": [
    "# Remove columns that are no longer needed\n",
    "archive_clean = archive_clean.drop(['doggo', 'floofer', 'pupper', 'puppo'], axis=1)"
   ]
  },
  {
   "cell_type": "markdown",
   "metadata": {},
   "source": [
    "#### Test"
   ]
  },
  {
   "cell_type": "code",
   "execution_count": 56,
   "metadata": {},
   "outputs": [
    {
     "data": {
      "text/html": [
       "<div>\n",
       "<style>\n",
       "    .dataframe thead tr:only-child th {\n",
       "        text-align: right;\n",
       "    }\n",
       "\n",
       "    .dataframe thead th {\n",
       "        text-align: left;\n",
       "    }\n",
       "\n",
       "    .dataframe tbody tr th {\n",
       "        vertical-align: top;\n",
       "    }\n",
       "</style>\n",
       "<table border=\"1\" class=\"dataframe\">\n",
       "  <thead>\n",
       "    <tr style=\"text-align: right;\">\n",
       "      <th></th>\n",
       "      <th>tweet_id</th>\n",
       "      <th>in_reply_to_status_id</th>\n",
       "      <th>in_reply_to_user_id</th>\n",
       "      <th>timestamp</th>\n",
       "      <th>source</th>\n",
       "      <th>text</th>\n",
       "      <th>retweeted_status_id</th>\n",
       "      <th>retweeted_status_user_id</th>\n",
       "      <th>retweeted_status_timestamp</th>\n",
       "      <th>expanded_urls</th>\n",
       "      <th>rating_numerator</th>\n",
       "      <th>rating_denominator</th>\n",
       "      <th>name</th>\n",
       "      <th>dog_rating</th>\n",
       "      <th>date</th>\n",
       "      <th>time</th>\n",
       "      <th>stage</th>\n",
       "    </tr>\n",
       "  </thead>\n",
       "  <tbody>\n",
       "    <tr>\n",
       "      <th>0</th>\n",
       "      <td>892420643555336193</td>\n",
       "      <td>NaN</td>\n",
       "      <td>NaN</td>\n",
       "      <td>2017-08-01 16:23:56</td>\n",
       "      <td>&lt;a href=\"http://twitter.com/download/iphone\" r...</td>\n",
       "      <td>This is Phineas. He's a mystical boy. Only eve...</td>\n",
       "      <td>NaN</td>\n",
       "      <td>NaN</td>\n",
       "      <td>NaN</td>\n",
       "      <td>https://twitter.com/dog_rates/status/892420643...</td>\n",
       "      <td>13</td>\n",
       "      <td>10</td>\n",
       "      <td>Phineas</td>\n",
       "      <td>1.3</td>\n",
       "      <td>08-01-2017</td>\n",
       "      <td>16:23</td>\n",
       "      <td>NaN</td>\n",
       "    </tr>\n",
       "    <tr>\n",
       "      <th>1</th>\n",
       "      <td>892177421306343426</td>\n",
       "      <td>NaN</td>\n",
       "      <td>NaN</td>\n",
       "      <td>2017-08-01 00:17:27</td>\n",
       "      <td>&lt;a href=\"http://twitter.com/download/iphone\" r...</td>\n",
       "      <td>This is Tilly. She's just checking pup on you....</td>\n",
       "      <td>NaN</td>\n",
       "      <td>NaN</td>\n",
       "      <td>NaN</td>\n",
       "      <td>https://twitter.com/dog_rates/status/892177421...</td>\n",
       "      <td>13</td>\n",
       "      <td>10</td>\n",
       "      <td>Tilly</td>\n",
       "      <td>1.3</td>\n",
       "      <td>08-01-2017</td>\n",
       "      <td>00:17</td>\n",
       "      <td>NaN</td>\n",
       "    </tr>\n",
       "  </tbody>\n",
       "</table>\n",
       "</div>"
      ],
      "text/plain": [
       "             tweet_id  in_reply_to_status_id  in_reply_to_user_id  \\\n",
       "0  892420643555336193                    NaN                  NaN   \n",
       "1  892177421306343426                    NaN                  NaN   \n",
       "\n",
       "            timestamp                                             source  \\\n",
       "0 2017-08-01 16:23:56  <a href=\"http://twitter.com/download/iphone\" r...   \n",
       "1 2017-08-01 00:17:27  <a href=\"http://twitter.com/download/iphone\" r...   \n",
       "\n",
       "                                                text  retweeted_status_id  \\\n",
       "0  This is Phineas. He's a mystical boy. Only eve...                  NaN   \n",
       "1  This is Tilly. She's just checking pup on you....                  NaN   \n",
       "\n",
       "   retweeted_status_user_id retweeted_status_timestamp  \\\n",
       "0                       NaN                        NaN   \n",
       "1                       NaN                        NaN   \n",
       "\n",
       "                                       expanded_urls  rating_numerator  \\\n",
       "0  https://twitter.com/dog_rates/status/892420643...                13   \n",
       "1  https://twitter.com/dog_rates/status/892177421...                13   \n",
       "\n",
       "   rating_denominator     name  dog_rating        date   time stage  \n",
       "0                  10  Phineas         1.3  08-01-2017  16:23   NaN  \n",
       "1                  10    Tilly         1.3  08-01-2017  00:17   NaN  "
      ]
     },
     "execution_count": 56,
     "metadata": {},
     "output_type": "execute_result"
    }
   ],
   "source": [
    "archive_clean.head(2)"
   ]
  },
  {
   "cell_type": "markdown",
   "metadata": {},
   "source": [
    "#### 3) In \"archive\" dataframe, drop columns that are not required for the analysis"
   ]
  },
  {
   "cell_type": "code",
   "execution_count": 57,
   "metadata": {},
   "outputs": [
    {
     "data": {
      "text/html": [
       "<div>\n",
       "<style>\n",
       "    .dataframe thead tr:only-child th {\n",
       "        text-align: right;\n",
       "    }\n",
       "\n",
       "    .dataframe thead th {\n",
       "        text-align: left;\n",
       "    }\n",
       "\n",
       "    .dataframe tbody tr th {\n",
       "        vertical-align: top;\n",
       "    }\n",
       "</style>\n",
       "<table border=\"1\" class=\"dataframe\">\n",
       "  <thead>\n",
       "    <tr style=\"text-align: right;\">\n",
       "      <th></th>\n",
       "      <th>tweet_id</th>\n",
       "      <th>in_reply_to_status_id</th>\n",
       "      <th>in_reply_to_user_id</th>\n",
       "      <th>timestamp</th>\n",
       "      <th>source</th>\n",
       "      <th>text</th>\n",
       "      <th>retweeted_status_id</th>\n",
       "      <th>retweeted_status_user_id</th>\n",
       "      <th>retweeted_status_timestamp</th>\n",
       "      <th>expanded_urls</th>\n",
       "      <th>rating_numerator</th>\n",
       "      <th>rating_denominator</th>\n",
       "      <th>name</th>\n",
       "      <th>dog_rating</th>\n",
       "      <th>date</th>\n",
       "      <th>time</th>\n",
       "      <th>stage</th>\n",
       "    </tr>\n",
       "  </thead>\n",
       "  <tbody>\n",
       "    <tr>\n",
       "      <th>0</th>\n",
       "      <td>892420643555336193</td>\n",
       "      <td>NaN</td>\n",
       "      <td>NaN</td>\n",
       "      <td>2017-08-01 16:23:56</td>\n",
       "      <td>&lt;a href=\"http://twitter.com/download/iphone\" r...</td>\n",
       "      <td>This is Phineas. He's a mystical boy. Only eve...</td>\n",
       "      <td>NaN</td>\n",
       "      <td>NaN</td>\n",
       "      <td>NaN</td>\n",
       "      <td>https://twitter.com/dog_rates/status/892420643...</td>\n",
       "      <td>13</td>\n",
       "      <td>10</td>\n",
       "      <td>Phineas</td>\n",
       "      <td>1.3</td>\n",
       "      <td>08-01-2017</td>\n",
       "      <td>16:23</td>\n",
       "      <td>NaN</td>\n",
       "    </tr>\n",
       "  </tbody>\n",
       "</table>\n",
       "</div>"
      ],
      "text/plain": [
       "             tweet_id  in_reply_to_status_id  in_reply_to_user_id  \\\n",
       "0  892420643555336193                    NaN                  NaN   \n",
       "\n",
       "            timestamp                                             source  \\\n",
       "0 2017-08-01 16:23:56  <a href=\"http://twitter.com/download/iphone\" r...   \n",
       "\n",
       "                                                text  retweeted_status_id  \\\n",
       "0  This is Phineas. He's a mystical boy. Only eve...                  NaN   \n",
       "\n",
       "   retweeted_status_user_id retweeted_status_timestamp  \\\n",
       "0                       NaN                        NaN   \n",
       "\n",
       "                                       expanded_urls  rating_numerator  \\\n",
       "0  https://twitter.com/dog_rates/status/892420643...                13   \n",
       "\n",
       "   rating_denominator     name  dog_rating        date   time stage  \n",
       "0                  10  Phineas         1.3  08-01-2017  16:23   NaN  "
      ]
     },
     "execution_count": 57,
     "metadata": {},
     "output_type": "execute_result"
    }
   ],
   "source": [
    "archive_clean.head(1)"
   ]
  },
  {
   "cell_type": "markdown",
   "metadata": {},
   "source": [
    "#### Define"
   ]
  },
  {
   "cell_type": "markdown",
   "metadata": {},
   "source": [
    "Remove unwanted columns from archive_clean"
   ]
  },
  {
   "cell_type": "markdown",
   "metadata": {},
   "source": [
    "#### Code"
   ]
  },
  {
   "cell_type": "code",
   "execution_count": 58,
   "metadata": {},
   "outputs": [],
   "source": [
    "# remove unwanted columns from archive_clean \n",
    "archive_clean.drop(['in_reply_to_status_id', 'in_reply_to_user_id','timestamp','source','text',\n",
    "                    'retweeted_status_id','retweeted_status_user_id',\n",
    "                    'retweeted_status_timestamp','expanded_urls',\n",
    "                    ], axis=1,inplace=True)"
   ]
  },
  {
   "cell_type": "markdown",
   "metadata": {},
   "source": [
    "#### Test"
   ]
  },
  {
   "cell_type": "code",
   "execution_count": 59,
   "metadata": {},
   "outputs": [
    {
     "data": {
      "text/html": [
       "<div>\n",
       "<style>\n",
       "    .dataframe thead tr:only-child th {\n",
       "        text-align: right;\n",
       "    }\n",
       "\n",
       "    .dataframe thead th {\n",
       "        text-align: left;\n",
       "    }\n",
       "\n",
       "    .dataframe tbody tr th {\n",
       "        vertical-align: top;\n",
       "    }\n",
       "</style>\n",
       "<table border=\"1\" class=\"dataframe\">\n",
       "  <thead>\n",
       "    <tr style=\"text-align: right;\">\n",
       "      <th></th>\n",
       "      <th>tweet_id</th>\n",
       "      <th>rating_numerator</th>\n",
       "      <th>rating_denominator</th>\n",
       "      <th>name</th>\n",
       "      <th>dog_rating</th>\n",
       "      <th>date</th>\n",
       "      <th>time</th>\n",
       "      <th>stage</th>\n",
       "    </tr>\n",
       "  </thead>\n",
       "  <tbody>\n",
       "    <tr>\n",
       "      <th>0</th>\n",
       "      <td>892420643555336193</td>\n",
       "      <td>13</td>\n",
       "      <td>10</td>\n",
       "      <td>Phineas</td>\n",
       "      <td>1.3</td>\n",
       "      <td>08-01-2017</td>\n",
       "      <td>16:23</td>\n",
       "      <td>NaN</td>\n",
       "    </tr>\n",
       "    <tr>\n",
       "      <th>1</th>\n",
       "      <td>892177421306343426</td>\n",
       "      <td>13</td>\n",
       "      <td>10</td>\n",
       "      <td>Tilly</td>\n",
       "      <td>1.3</td>\n",
       "      <td>08-01-2017</td>\n",
       "      <td>00:17</td>\n",
       "      <td>NaN</td>\n",
       "    </tr>\n",
       "    <tr>\n",
       "      <th>2</th>\n",
       "      <td>891815181378084864</td>\n",
       "      <td>12</td>\n",
       "      <td>10</td>\n",
       "      <td>Archie</td>\n",
       "      <td>1.2</td>\n",
       "      <td>07-31-2017</td>\n",
       "      <td>00:18</td>\n",
       "      <td>NaN</td>\n",
       "    </tr>\n",
       "    <tr>\n",
       "      <th>3</th>\n",
       "      <td>891689557279858688</td>\n",
       "      <td>13</td>\n",
       "      <td>10</td>\n",
       "      <td>Darla</td>\n",
       "      <td>1.3</td>\n",
       "      <td>07-30-2017</td>\n",
       "      <td>15:58</td>\n",
       "      <td>NaN</td>\n",
       "    </tr>\n",
       "    <tr>\n",
       "      <th>4</th>\n",
       "      <td>891327558926688256</td>\n",
       "      <td>12</td>\n",
       "      <td>10</td>\n",
       "      <td>Franklin</td>\n",
       "      <td>1.2</td>\n",
       "      <td>07-29-2017</td>\n",
       "      <td>16:00</td>\n",
       "      <td>NaN</td>\n",
       "    </tr>\n",
       "  </tbody>\n",
       "</table>\n",
       "</div>"
      ],
      "text/plain": [
       "             tweet_id  rating_numerator  rating_denominator      name  \\\n",
       "0  892420643555336193                13                  10   Phineas   \n",
       "1  892177421306343426                13                  10     Tilly   \n",
       "2  891815181378084864                12                  10    Archie   \n",
       "3  891689557279858688                13                  10     Darla   \n",
       "4  891327558926688256                12                  10  Franklin   \n",
       "\n",
       "   dog_rating        date   time stage  \n",
       "0         1.3  08-01-2017  16:23   NaN  \n",
       "1         1.3  08-01-2017  00:17   NaN  \n",
       "2         1.2  07-31-2017  00:18   NaN  \n",
       "3         1.3  07-30-2017  15:58   NaN  \n",
       "4         1.2  07-29-2017  16:00   NaN  "
      ]
     },
     "execution_count": 59,
     "metadata": {},
     "output_type": "execute_result"
    }
   ],
   "source": [
    "archive_clean.head()"
   ]
  },
  {
   "cell_type": "markdown",
   "metadata": {},
   "source": [
    "#### 4) Merge all 3 dataframes into a unique dataframe"
   ]
  },
  {
   "cell_type": "markdown",
   "metadata": {},
   "source": [
    "#### Define"
   ]
  },
  {
   "cell_type": "markdown",
   "metadata": {},
   "source": [
    "Use .merge() function to merge the 3 dataframes, using \"inner\" as merging type and  \"tweet_id\" as the column to merge on."
   ]
  },
  {
   "cell_type": "markdown",
   "metadata": {},
   "source": [
    "#### Code"
   ]
  },
  {
   "cell_type": "code",
   "execution_count": 60,
   "metadata": {},
   "outputs": [],
   "source": [
    "# perform nested merge between the 3 dataframes\n",
    "twitter_archive_master = pd.merge(pd.merge(archive_clean,image_predictions_clean, on='tweet_id', how='inner'),tweet_clean, on='tweet_id', how='inner')"
   ]
  },
  {
   "cell_type": "markdown",
   "metadata": {},
   "source": [
    "#### Test"
   ]
  },
  {
   "cell_type": "code",
   "execution_count": 61,
   "metadata": {},
   "outputs": [
    {
     "data": {
      "text/html": [
       "<div>\n",
       "<style>\n",
       "    .dataframe thead tr:only-child th {\n",
       "        text-align: right;\n",
       "    }\n",
       "\n",
       "    .dataframe thead th {\n",
       "        text-align: left;\n",
       "    }\n",
       "\n",
       "    .dataframe tbody tr th {\n",
       "        vertical-align: top;\n",
       "    }\n",
       "</style>\n",
       "<table border=\"1\" class=\"dataframe\">\n",
       "  <thead>\n",
       "    <tr style=\"text-align: right;\">\n",
       "      <th></th>\n",
       "      <th>tweet_id</th>\n",
       "      <th>rating_numerator</th>\n",
       "      <th>rating_denominator</th>\n",
       "      <th>name</th>\n",
       "      <th>dog_rating</th>\n",
       "      <th>date</th>\n",
       "      <th>time</th>\n",
       "      <th>stage</th>\n",
       "      <th>jpg_url</th>\n",
       "      <th>img_num</th>\n",
       "      <th>...</th>\n",
       "      <th>quoted_status</th>\n",
       "      <th>quoted_status_id</th>\n",
       "      <th>quoted_status_id_str</th>\n",
       "      <th>retweet_count</th>\n",
       "      <th>retweeted</th>\n",
       "      <th>retweeted_status</th>\n",
       "      <th>source</th>\n",
       "      <th>text</th>\n",
       "      <th>truncated</th>\n",
       "      <th>user</th>\n",
       "    </tr>\n",
       "  </thead>\n",
       "  <tbody>\n",
       "    <tr>\n",
       "      <th>0</th>\n",
       "      <td>891815181378084864</td>\n",
       "      <td>12</td>\n",
       "      <td>10</td>\n",
       "      <td>Archie</td>\n",
       "      <td>1.2</td>\n",
       "      <td>07-31-2017</td>\n",
       "      <td>00:18</td>\n",
       "      <td>NaN</td>\n",
       "      <td>https://pbs.twimg.com/media/DGBdLU1WsAANxJ9.jpg</td>\n",
       "      <td>1</td>\n",
       "      <td>...</td>\n",
       "      <td>NaN</td>\n",
       "      <td>NaN</td>\n",
       "      <td>NaN</td>\n",
       "      <td>4054</td>\n",
       "      <td>0</td>\n",
       "      <td>NaN</td>\n",
       "      <td>&lt;a href=\"http://twitter.com/download/iphone\" r...</td>\n",
       "      <td>This is Archie. He is a rare Norwegian Pouncin...</td>\n",
       "      <td>1</td>\n",
       "      <td>{'contributors_enabled': False, 'created_at': ...</td>\n",
       "    </tr>\n",
       "    <tr>\n",
       "      <th>1</th>\n",
       "      <td>891689557279858688</td>\n",
       "      <td>13</td>\n",
       "      <td>10</td>\n",
       "      <td>Darla</td>\n",
       "      <td>1.3</td>\n",
       "      <td>07-30-2017</td>\n",
       "      <td>15:58</td>\n",
       "      <td>NaN</td>\n",
       "      <td>https://pbs.twimg.com/media/DF_q7IAWsAEuuN8.jpg</td>\n",
       "      <td>1</td>\n",
       "      <td>...</td>\n",
       "      <td>NaN</td>\n",
       "      <td>NaN</td>\n",
       "      <td>NaN</td>\n",
       "      <td>8425</td>\n",
       "      <td>0</td>\n",
       "      <td>NaN</td>\n",
       "      <td>&lt;a href=\"http://twitter.com/download/iphone\" r...</td>\n",
       "      <td>This is Darla. She commenced a snooze mid meal...</td>\n",
       "      <td>0</td>\n",
       "      <td>{'contributors_enabled': False, 'created_at': ...</td>\n",
       "    </tr>\n",
       "  </tbody>\n",
       "</table>\n",
       "<p>2 rows × 48 columns</p>\n",
       "</div>"
      ],
      "text/plain": [
       "             tweet_id  rating_numerator  rating_denominator    name  \\\n",
       "0  891815181378084864                12                  10  Archie   \n",
       "1  891689557279858688                13                  10   Darla   \n",
       "\n",
       "   dog_rating        date   time stage  \\\n",
       "0         1.2  07-31-2017  00:18   NaN   \n",
       "1         1.3  07-30-2017  15:58   NaN   \n",
       "\n",
       "                                           jpg_url  img_num  \\\n",
       "0  https://pbs.twimg.com/media/DGBdLU1WsAANxJ9.jpg        1   \n",
       "1  https://pbs.twimg.com/media/DF_q7IAWsAEuuN8.jpg        1   \n",
       "\n",
       "                         ...                         quoted_status  \\\n",
       "0                        ...                                   NaN   \n",
       "1                        ...                                   NaN   \n",
       "\n",
       "   quoted_status_id  quoted_status_id_str retweet_count  retweeted  \\\n",
       "0               NaN                   NaN          4054          0   \n",
       "1               NaN                   NaN          8425          0   \n",
       "\n",
       "   retweeted_status                                             source  \\\n",
       "0               NaN  <a href=\"http://twitter.com/download/iphone\" r...   \n",
       "1               NaN  <a href=\"http://twitter.com/download/iphone\" r...   \n",
       "\n",
       "                                                text  truncated  \\\n",
       "0  This is Archie. He is a rare Norwegian Pouncin...          1   \n",
       "1  This is Darla. She commenced a snooze mid meal...          0   \n",
       "\n",
       "                                                user  \n",
       "0  {'contributors_enabled': False, 'created_at': ...  \n",
       "1  {'contributors_enabled': False, 'created_at': ...  \n",
       "\n",
       "[2 rows x 48 columns]"
      ]
     },
     "execution_count": 61,
     "metadata": {},
     "output_type": "execute_result"
    }
   ],
   "source": [
    "twitter_archive_master.head(2)"
   ]
  },
  {
   "cell_type": "markdown",
   "metadata": {},
   "source": [
    " ## Storing, Analyzing, and Visualizing Data"
   ]
  },
  {
   "cell_type": "markdown",
   "metadata": {},
   "source": [
    "#### Save the final datafrime to a .csv file in the working directory"
   ]
  },
  {
   "cell_type": "code",
   "execution_count": 62,
   "metadata": {},
   "outputs": [],
   "source": [
    "twitter_archive_master.to_csv('twitter_archive_master.csv') "
   ]
  },
  {
   "cell_type": "markdown",
   "metadata": {},
   "source": [
    "### Data Analysis"
   ]
  },
  {
   "cell_type": "markdown",
   "metadata": {},
   "source": [
    "#### At the moment the dataframe \"twitter_archive_master\" is composed by 49 columns and not all of them are relevant for the data analysis I'm going to carry out. Let's create a new dataframe named \"df\" with only the meaningful column for the data analysis."
   ]
  },
  {
   "cell_type": "code",
   "execution_count": 63,
   "metadata": {},
   "outputs": [
    {
     "data": {
      "text/plain": [
       "Index(['tweet_id', 'rating_numerator', 'rating_denominator', 'name',\n",
       "       'dog_rating', 'date', 'time', 'stage', 'jpg_url', 'img_num', 'p1',\n",
       "       'p1_conf', 'p1_dog', 'p2', 'p2_conf', 'p2_dog', 'p3', 'p3_conf',\n",
       "       'p3_dog', 'contributors', 'coordinates', 'created_at', 'entities',\n",
       "       'extended_entities', 'favorite_count', 'favorited', 'geo', 'id_str',\n",
       "       'in_reply_to_screen_name', 'in_reply_to_status_id',\n",
       "       'in_reply_to_status_id_str', 'in_reply_to_user_id',\n",
       "       'in_reply_to_user_id_str', 'is_quote_status', 'lang', 'place',\n",
       "       'possibly_sensitive', 'possibly_sensitive_appealable', 'quoted_status',\n",
       "       'quoted_status_id', 'quoted_status_id_str', 'retweet_count',\n",
       "       'retweeted', 'retweeted_status', 'source', 'text', 'truncated', 'user'],\n",
       "      dtype='object')"
      ]
     },
     "execution_count": 63,
     "metadata": {},
     "output_type": "execute_result"
    }
   ],
   "source": [
    "# Let's visualize all the columns\n",
    "twitter_archive_master.columns"
   ]
  },
  {
   "cell_type": "code",
   "execution_count": 64,
   "metadata": {},
   "outputs": [
    {
     "data": {
      "text/html": [
       "<div>\n",
       "<style>\n",
       "    .dataframe thead tr:only-child th {\n",
       "        text-align: right;\n",
       "    }\n",
       "\n",
       "    .dataframe thead th {\n",
       "        text-align: left;\n",
       "    }\n",
       "\n",
       "    .dataframe tbody tr th {\n",
       "        vertical-align: top;\n",
       "    }\n",
       "</style>\n",
       "<table border=\"1\" class=\"dataframe\">\n",
       "  <thead>\n",
       "    <tr style=\"text-align: right;\">\n",
       "      <th></th>\n",
       "      <th>tweet_id</th>\n",
       "      <th>name</th>\n",
       "      <th>date</th>\n",
       "      <th>time</th>\n",
       "      <th>jpg_url</th>\n",
       "      <th>p1</th>\n",
       "      <th>p1_conf</th>\n",
       "      <th>dog_rating</th>\n",
       "      <th>favorite_count</th>\n",
       "      <th>retweet_count</th>\n",
       "      <th>stage</th>\n",
       "      <th>text</th>\n",
       "    </tr>\n",
       "  </thead>\n",
       "  <tbody>\n",
       "    <tr>\n",
       "      <th>0</th>\n",
       "      <td>891815181378084864</td>\n",
       "      <td>Archie</td>\n",
       "      <td>07-31-2017</td>\n",
       "      <td>00:18</td>\n",
       "      <td>https://pbs.twimg.com/media/DGBdLU1WsAANxJ9.jpg</td>\n",
       "      <td>Chihuahua</td>\n",
       "      <td>0.716012</td>\n",
       "      <td>1.2</td>\n",
       "      <td>24532</td>\n",
       "      <td>4054</td>\n",
       "      <td>NaN</td>\n",
       "      <td>This is Archie. He is a rare Norwegian Pouncin...</td>\n",
       "    </tr>\n",
       "    <tr>\n",
       "      <th>1</th>\n",
       "      <td>891689557279858688</td>\n",
       "      <td>Darla</td>\n",
       "      <td>07-30-2017</td>\n",
       "      <td>15:58</td>\n",
       "      <td>https://pbs.twimg.com/media/DF_q7IAWsAEuuN8.jpg</td>\n",
       "      <td>Paper towel</td>\n",
       "      <td>0.170278</td>\n",
       "      <td>1.3</td>\n",
       "      <td>41288</td>\n",
       "      <td>8425</td>\n",
       "      <td>NaN</td>\n",
       "      <td>This is Darla. She commenced a snooze mid meal...</td>\n",
       "    </tr>\n",
       "  </tbody>\n",
       "</table>\n",
       "</div>"
      ],
      "text/plain": [
       "             tweet_id    name        date   time  \\\n",
       "0  891815181378084864  Archie  07-31-2017  00:18   \n",
       "1  891689557279858688   Darla  07-30-2017  15:58   \n",
       "\n",
       "                                           jpg_url           p1   p1_conf  \\\n",
       "0  https://pbs.twimg.com/media/DGBdLU1WsAANxJ9.jpg    Chihuahua  0.716012   \n",
       "1  https://pbs.twimg.com/media/DF_q7IAWsAEuuN8.jpg  Paper towel  0.170278   \n",
       "\n",
       "   dog_rating  favorite_count  retweet_count stage  \\\n",
       "0         1.2           24532           4054   NaN   \n",
       "1         1.3           41288           8425   NaN   \n",
       "\n",
       "                                                text  \n",
       "0  This is Archie. He is a rare Norwegian Pouncin...  \n",
       "1  This is Darla. She commenced a snooze mid meal...  "
      ]
     },
     "execution_count": 64,
     "metadata": {},
     "output_type": "execute_result"
    }
   ],
   "source": [
    "df = twitter_archive_master[['tweet_id', 'name', 'date', 'time', 'jpg_url', 'p1', 'p1_conf','dog_rating', 'favorite_count', 'retweet_count','stage', 'text']]\n",
    "df.head(2)"
   ]
  },
  {
   "cell_type": "markdown",
   "metadata": {},
   "source": [
    "#### As mentioned in the Cleaning phase, with the Quality issue number 4) fixed, we can have a reliable indicator of the dog rating looking at the column \"dog_rating\". Although I'm sure they are all great dogs, we want to consider as \"best dogs\" the ones with a normalised rating with a value of 1 standard deviation above the mean."
   ]
  },
  {
   "cell_type": "markdown",
   "metadata": {},
   "source": [
    "### First insight\n",
    "#### It's always very important to investigate the outliers, to understand the reasons why they have those values and to understand if they are appropriate for the analysis and the model we are building. So let's investigate the outliers in term of dog_rating first"
   ]
  },
  {
   "cell_type": "code",
   "execution_count": 101,
   "metadata": {},
   "outputs": [
    {
     "data": {
      "text/html": [
       "<div>\n",
       "<style>\n",
       "    .dataframe thead tr:only-child th {\n",
       "        text-align: right;\n",
       "    }\n",
       "\n",
       "    .dataframe thead th {\n",
       "        text-align: left;\n",
       "    }\n",
       "\n",
       "    .dataframe tbody tr th {\n",
       "        vertical-align: top;\n",
       "    }\n",
       "</style>\n",
       "<table border=\"1\" class=\"dataframe\">\n",
       "  <thead>\n",
       "    <tr style=\"text-align: right;\">\n",
       "      <th></th>\n",
       "      <th>p1_conf</th>\n",
       "      <th>dog_rating</th>\n",
       "      <th>favorite_count</th>\n",
       "      <th>retweet_count</th>\n",
       "    </tr>\n",
       "  </thead>\n",
       "  <tbody>\n",
       "    <tr>\n",
       "      <th>count</th>\n",
       "      <td>1298.000000</td>\n",
       "      <td>1298.000000</td>\n",
       "      <td>1298.000000</td>\n",
       "      <td>1298.000000</td>\n",
       "    </tr>\n",
       "    <tr>\n",
       "      <th>mean</th>\n",
       "      <td>0.586720</td>\n",
       "      <td>1.223597</td>\n",
       "      <td>8131.353621</td>\n",
       "      <td>2452.000000</td>\n",
       "    </tr>\n",
       "    <tr>\n",
       "      <th>std</th>\n",
       "      <td>0.273508</td>\n",
       "      <td>5.037868</td>\n",
       "      <td>11383.802323</td>\n",
       "      <td>3967.519612</td>\n",
       "    </tr>\n",
       "    <tr>\n",
       "      <th>min</th>\n",
       "      <td>0.044333</td>\n",
       "      <td>0.100000</td>\n",
       "      <td>78.000000</td>\n",
       "      <td>11.000000</td>\n",
       "    </tr>\n",
       "    <tr>\n",
       "      <th>25%</th>\n",
       "      <td>0.354689</td>\n",
       "      <td>1.000000</td>\n",
       "      <td>1678.500000</td>\n",
       "      <td>561.000000</td>\n",
       "    </tr>\n",
       "    <tr>\n",
       "      <th>50%</th>\n",
       "      <td>0.576936</td>\n",
       "      <td>1.100000</td>\n",
       "      <td>3748.000000</td>\n",
       "      <td>1224.500000</td>\n",
       "    </tr>\n",
       "    <tr>\n",
       "      <th>75%</th>\n",
       "      <td>0.836617</td>\n",
       "      <td>1.200000</td>\n",
       "      <td>10032.250000</td>\n",
       "      <td>2901.000000</td>\n",
       "    </tr>\n",
       "    <tr>\n",
       "      <th>max</th>\n",
       "      <td>1.000000</td>\n",
       "      <td>177.600000</td>\n",
       "      <td>126672.000000</td>\n",
       "      <td>60768.000000</td>\n",
       "    </tr>\n",
       "  </tbody>\n",
       "</table>\n",
       "</div>"
      ],
      "text/plain": [
       "           p1_conf   dog_rating  favorite_count  retweet_count\n",
       "count  1298.000000  1298.000000     1298.000000    1298.000000\n",
       "mean      0.586720     1.223597     8131.353621    2452.000000\n",
       "std       0.273508     5.037868    11383.802323    3967.519612\n",
       "min       0.044333     0.100000       78.000000      11.000000\n",
       "25%       0.354689     1.000000     1678.500000     561.000000\n",
       "50%       0.576936     1.100000     3748.000000    1224.500000\n",
       "75%       0.836617     1.200000    10032.250000    2901.000000\n",
       "max       1.000000   177.600000   126672.000000   60768.000000"
      ]
     },
     "execution_count": 101,
     "metadata": {},
     "output_type": "execute_result"
    }
   ],
   "source": [
    "df.describe()"
   ]
  },
  {
   "cell_type": "code",
   "execution_count": 65,
   "metadata": {},
   "outputs": [
    {
     "data": {
      "text/plain": [
       "1.000000      303\n",
       "1.200000      290\n",
       "1.100000      253\n",
       "1.300000      157\n",
       "0.900000       97\n",
       "0.800000       64\n",
       "0.700000       35\n",
       "0.600000       22\n",
       "0.500000       20\n",
       "1.400000       18\n",
       "0.300000       13\n",
       "0.400000       12\n",
       "0.200000        6\n",
       "0.100000        3\n",
       "3.428571        1\n",
       "177.600000      1\n",
       "42.000000       1\n",
       "7.500000        1\n",
       "2.700000        1\n",
       "Name: dog_rating, dtype: int64"
      ]
     },
     "execution_count": 65,
     "metadata": {},
     "output_type": "execute_result"
    }
   ],
   "source": [
    "df.dog_rating.value_counts()"
   ]
  },
  {
   "cell_type": "markdown",
   "metadata": {},
   "source": [
    "Let's open the \"jpg_url\" links for the datapoints with dog_rating equal or higher then 2.7, as they are only 5 and would greatly increase the variability."
   ]
  },
  {
   "cell_type": "code",
   "execution_count": 66,
   "metadata": {},
   "outputs": [
    {
     "data": {
      "text/html": [
       "<div>\n",
       "<style>\n",
       "    .dataframe thead tr:only-child th {\n",
       "        text-align: right;\n",
       "    }\n",
       "\n",
       "    .dataframe thead th {\n",
       "        text-align: left;\n",
       "    }\n",
       "\n",
       "    .dataframe tbody tr th {\n",
       "        vertical-align: top;\n",
       "    }\n",
       "</style>\n",
       "<table border=\"1\" class=\"dataframe\">\n",
       "  <thead>\n",
       "    <tr style=\"text-align: right;\">\n",
       "      <th></th>\n",
       "      <th>dog_rating</th>\n",
       "      <th>jpg_url</th>\n",
       "    </tr>\n",
       "  </thead>\n",
       "  <tbody>\n",
       "    <tr>\n",
       "      <th>451</th>\n",
       "      <td>177.600000</td>\n",
       "      <td>https://pbs.twimg.com/media/CmgBZ7kWcAAlzFD.jpg</td>\n",
       "    </tr>\n",
       "    <tr>\n",
       "      <th>1100</th>\n",
       "      <td>42.000000</td>\n",
       "      <td>https://pbs.twimg.com/media/CU9P717W4AAOlKx.jpg</td>\n",
       "    </tr>\n",
       "    <tr>\n",
       "      <th>296</th>\n",
       "      <td>7.500000</td>\n",
       "      <td>https://pbs.twimg.com/media/CurzvFTXgAA2_AP.jpg</td>\n",
       "    </tr>\n",
       "    <tr>\n",
       "      <th>223</th>\n",
       "      <td>3.428571</td>\n",
       "      <td>https://pbs.twimg.com/media/C0EyPZbXAAAceSc.jpg</td>\n",
       "    </tr>\n",
       "    <tr>\n",
       "      <th>330</th>\n",
       "      <td>2.700000</td>\n",
       "      <td>https://pbs.twimg.com/media/Cswbc2yWcAAVsCJ.jpg</td>\n",
       "    </tr>\n",
       "  </tbody>\n",
       "</table>\n",
       "</div>"
      ],
      "text/plain": [
       "      dog_rating                                          jpg_url\n",
       "451   177.600000  https://pbs.twimg.com/media/CmgBZ7kWcAAlzFD.jpg\n",
       "1100   42.000000  https://pbs.twimg.com/media/CU9P717W4AAOlKx.jpg\n",
       "296     7.500000  https://pbs.twimg.com/media/CurzvFTXgAA2_AP.jpg\n",
       "223     3.428571  https://pbs.twimg.com/media/C0EyPZbXAAAceSc.jpg\n",
       "330     2.700000  https://pbs.twimg.com/media/Cswbc2yWcAAVsCJ.jpg"
      ]
     },
     "execution_count": 66,
     "metadata": {},
     "output_type": "execute_result"
    }
   ],
   "source": [
    "outliers= df.query('dog_rating >= 2.7')\n",
    "outliers[['dog_rating','jpg_url']].sort_values(by='dog_rating',ascending=False)"
   ]
  },
  {
   "cell_type": "code",
   "execution_count": 67,
   "metadata": {},
   "outputs": [
    {
     "data": {
      "text/plain": [
       "tweet_id                                         749981277374128128\n",
       "name                                                        Atticus\n",
       "date                                                     07-04-2016\n",
       "time                                                          15:00\n",
       "jpg_url             https://pbs.twimg.com/media/CmgBZ7kWcAAlzFD.jpg\n",
       "p1                                                          Bow tie\n",
       "p1_conf                                                    0.533941\n",
       "dog_rating                                                    177.6\n",
       "favorite_count                                                 5364\n",
       "retweet_count                                                  2620\n",
       "stage                                                           NaN\n",
       "text              This is Atticus. He's quite simply America af....\n",
       "Name: 451, dtype: object"
      ]
     },
     "execution_count": 67,
     "metadata": {},
     "output_type": "execute_result"
    }
   ],
   "source": [
    "# dog with rating 177\n",
    "webbrowser.open(\"https://pbs.twimg.com/media/CmgBZ7kWcAAlzFD.jpg\")\n",
    "df.iloc[451]\n",
    "# lovely dog, but such a high rating is probably due to irrationality \n",
    "# due to the special patriotism in a special day in the USA (4t of July is Indipendence Day), \n",
    "# therefore I believe this value would be misleading for the analysis"
   ]
  },
  {
   "cell_type": "code",
   "execution_count": 68,
   "metadata": {},
   "outputs": [
    {
     "data": {
      "text/plain": [
       "True"
      ]
     },
     "execution_count": 68,
     "metadata": {},
     "output_type": "execute_result"
    }
   ],
   "source": [
    "# dog with rating 42\n",
    "webbrowser.open(\"https://pbs.twimg.com/media/CU9P717W4AAOlKx.jpg\")\n",
    "# this is \"another\" dog(g), great singer but I think it's not appropriate for \n",
    "# the analysis, therefore this record will be removed"
   ]
  },
  {
   "cell_type": "code",
   "execution_count": 69,
   "metadata": {},
   "outputs": [
    {
     "data": {
      "text/plain": [
       "True"
      ]
     },
     "execution_count": 69,
     "metadata": {},
     "output_type": "execute_result"
    }
   ],
   "source": [
    "# dog with rating 7.5\n",
    "webbrowser.open(\"https://pbs.twimg.com/media/CurzvFTXgAA2_AP.jpg\")\n",
    "# lovely dog, but with a rating incompatible with the distribution"
   ]
  },
  {
   "cell_type": "code",
   "execution_count": 70,
   "metadata": {},
   "outputs": [
    {
     "data": {
      "text/plain": [
       "True"
      ]
     },
     "execution_count": 70,
     "metadata": {},
     "output_type": "execute_result"
    }
   ],
   "source": [
    "# dog with rating 3.428571\n",
    "webbrowser.open(\"https://pbs.twimg.com/media/C0EyPZbXAAAceSc.jpg\")\n",
    "# lovely dog, but with a rating incompatible with the distribution"
   ]
  },
  {
   "cell_type": "code",
   "execution_count": 71,
   "metadata": {},
   "outputs": [
    {
     "data": {
      "text/plain": [
       "True"
      ]
     },
     "execution_count": 71,
     "metadata": {},
     "output_type": "execute_result"
    }
   ],
   "source": [
    "# dog with rating 2.7\n",
    "webbrowser.open(\"https://pbs.twimg.com/media/Cswbc2yWcAAVsCJ.jpg\")\n",
    "# really lovely dog, that because of the appearence and the value, I've \n",
    "# decided, based on my discretion, to keep it for the analysis."
   ]
  },
  {
   "cell_type": "markdown",
   "metadata": {},
   "source": [
    "For the reasons mentioned above in the comments, I prefer to remove the outlier that go above 3.42 as there are only 4 datapoints that go beyond this value and they make the variability misleading. I'm going to create a new dataframe to fill with the records with a \"dog_rating\" under this value."
   ]
  },
  {
   "cell_type": "code",
   "execution_count": 72,
   "metadata": {},
   "outputs": [
    {
     "data": {
      "text/plain": [
       "1.0    303\n",
       "1.2    290\n",
       "1.1    253\n",
       "1.3    157\n",
       "0.9     97\n",
       "0.8     64\n",
       "0.7     35\n",
       "0.6     22\n",
       "0.5     20\n",
       "1.4     18\n",
       "0.3     13\n",
       "0.4     12\n",
       "0.2      6\n",
       "0.1      3\n",
       "2.7      1\n",
       "Name: dog_rating, dtype: int64"
      ]
     },
     "execution_count": 72,
     "metadata": {},
     "output_type": "execute_result"
    }
   ],
   "source": [
    "df_no_outliers = df.query('dog_rating < 3.42')\n",
    "df_no_outliers.dog_rating.value_counts()"
   ]
  },
  {
   "cell_type": "markdown",
   "metadata": {},
   "source": [
    "### Second insight\n",
    "#### If we want to optimise the time, looking only at the very best dogs that are in the top 16% of the population (rating above \"mean + 1 stddev\"), we can look at the \"jpg_url\" of only those dogs."
   ]
  },
  {
   "cell_type": "code",
   "execution_count": 73,
   "metadata": {},
   "outputs": [
    {
     "name": "stdout",
     "output_type": "stream",
     "text": [
      "1.04922720247 0.220829882421\n"
     ]
    }
   ],
   "source": [
    "mean = df_no_outliers.dog_rating.mean()\n",
    "std = df_no_outliers.dog_rating.std()\n",
    "print(mean , std)"
   ]
  },
  {
   "cell_type": "code",
   "execution_count": 74,
   "metadata": {},
   "outputs": [
    {
     "data": {
      "text/plain": [
       "1.2700570848942481"
      ]
     },
     "execution_count": 74,
     "metadata": {},
     "output_type": "execute_result"
    }
   ],
   "source": [
    "minbestdogval = mean + std\n",
    "minbestdogval"
   ]
  },
  {
   "cell_type": "code",
   "execution_count": 75,
   "metadata": {},
   "outputs": [
    {
     "data": {
      "text/html": [
       "<div>\n",
       "<style>\n",
       "    .dataframe thead tr:only-child th {\n",
       "        text-align: right;\n",
       "    }\n",
       "\n",
       "    .dataframe thead th {\n",
       "        text-align: left;\n",
       "    }\n",
       "\n",
       "    .dataframe tbody tr th {\n",
       "        vertical-align: top;\n",
       "    }\n",
       "</style>\n",
       "<table border=\"1\" class=\"dataframe\">\n",
       "  <thead>\n",
       "    <tr style=\"text-align: right;\">\n",
       "      <th></th>\n",
       "      <th>tweet_id</th>\n",
       "      <th>name</th>\n",
       "      <th>date</th>\n",
       "      <th>time</th>\n",
       "      <th>jpg_url</th>\n",
       "      <th>p1</th>\n",
       "      <th>p1_conf</th>\n",
       "      <th>dog_rating</th>\n",
       "      <th>favorite_count</th>\n",
       "      <th>retweet_count</th>\n",
       "      <th>stage</th>\n",
       "      <th>text</th>\n",
       "    </tr>\n",
       "  </thead>\n",
       "  <tbody>\n",
       "    <tr>\n",
       "      <th>1</th>\n",
       "      <td>891689557279858688</td>\n",
       "      <td>Darla</td>\n",
       "      <td>07-30-2017</td>\n",
       "      <td>15:58</td>\n",
       "      <td>https://pbs.twimg.com/media/DF_q7IAWsAEuuN8.jpg</td>\n",
       "      <td>Paper towel</td>\n",
       "      <td>0.170278</td>\n",
       "      <td>1.3</td>\n",
       "      <td>41288</td>\n",
       "      <td>8425</td>\n",
       "      <td>NaN</td>\n",
       "      <td>This is Darla. She commenced a snooze mid meal...</td>\n",
       "    </tr>\n",
       "    <tr>\n",
       "      <th>3</th>\n",
       "      <td>891087950875897856</td>\n",
       "      <td>None</td>\n",
       "      <td>07-29-2017</td>\n",
       "      <td>00:08</td>\n",
       "      <td>https://pbs.twimg.com/media/DF3HwyEWsAABqE6.jpg</td>\n",
       "      <td>Chesapeake bay retriever</td>\n",
       "      <td>0.425595</td>\n",
       "      <td>1.3</td>\n",
       "      <td>19837</td>\n",
       "      <td>3038</td>\n",
       "      <td>NaN</td>\n",
       "      <td>Here we have a majestic great white breaching ...</td>\n",
       "    </tr>\n",
       "    <tr>\n",
       "      <th>4</th>\n",
       "      <td>890729181411237888</td>\n",
       "      <td>None</td>\n",
       "      <td>07-28-2017</td>\n",
       "      <td>00:22</td>\n",
       "      <td>https://pbs.twimg.com/media/DFyBahAVwAAhUTd.jpg</td>\n",
       "      <td>Pomeranian</td>\n",
       "      <td>0.566142</td>\n",
       "      <td>1.3</td>\n",
       "      <td>64018</td>\n",
       "      <td>18384</td>\n",
       "      <td>NaN</td>\n",
       "      <td>When you watch your owner call another dog a g...</td>\n",
       "    </tr>\n",
       "    <tr>\n",
       "      <th>5</th>\n",
       "      <td>890609185150312448</td>\n",
       "      <td>Zoey</td>\n",
       "      <td>07-27-2017</td>\n",
       "      <td>16:25</td>\n",
       "      <td>https://pbs.twimg.com/media/DFwUU__XcAEpyXI.jpg</td>\n",
       "      <td>Irish terrier</td>\n",
       "      <td>0.487574</td>\n",
       "      <td>1.3</td>\n",
       "      <td>27241</td>\n",
       "      <td>4175</td>\n",
       "      <td>NaN</td>\n",
       "      <td>This is Zoey. She doesn't want to be one of th...</td>\n",
       "    </tr>\n",
       "    <tr>\n",
       "      <th>6</th>\n",
       "      <td>890006608113172480</td>\n",
       "      <td>Koda</td>\n",
       "      <td>07-26-2017</td>\n",
       "      <td>00:31</td>\n",
       "      <td>https://pbs.twimg.com/media/DFnwSY4WAAAMliS.jpg</td>\n",
       "      <td>Samoyed</td>\n",
       "      <td>0.957979</td>\n",
       "      <td>1.3</td>\n",
       "      <td>30034</td>\n",
       "      <td>7144</td>\n",
       "      <td>NaN</td>\n",
       "      <td>This is Koda. He is a South Australian decksha...</td>\n",
       "    </tr>\n",
       "  </tbody>\n",
       "</table>\n",
       "</div>"
      ],
      "text/plain": [
       "             tweet_id   name        date   time  \\\n",
       "1  891689557279858688  Darla  07-30-2017  15:58   \n",
       "3  891087950875897856   None  07-29-2017  00:08   \n",
       "4  890729181411237888   None  07-28-2017  00:22   \n",
       "5  890609185150312448   Zoey  07-27-2017  16:25   \n",
       "6  890006608113172480   Koda  07-26-2017  00:31   \n",
       "\n",
       "                                           jpg_url                        p1  \\\n",
       "1  https://pbs.twimg.com/media/DF_q7IAWsAEuuN8.jpg               Paper towel   \n",
       "3  https://pbs.twimg.com/media/DF3HwyEWsAABqE6.jpg  Chesapeake bay retriever   \n",
       "4  https://pbs.twimg.com/media/DFyBahAVwAAhUTd.jpg                Pomeranian   \n",
       "5  https://pbs.twimg.com/media/DFwUU__XcAEpyXI.jpg             Irish terrier   \n",
       "6  https://pbs.twimg.com/media/DFnwSY4WAAAMliS.jpg                   Samoyed   \n",
       "\n",
       "    p1_conf  dog_rating  favorite_count  retweet_count stage  \\\n",
       "1  0.170278         1.3           41288           8425   NaN   \n",
       "3  0.425595         1.3           19837           3038   NaN   \n",
       "4  0.566142         1.3           64018          18384   NaN   \n",
       "5  0.487574         1.3           27241           4175   NaN   \n",
       "6  0.957979         1.3           30034           7144   NaN   \n",
       "\n",
       "                                                text  \n",
       "1  This is Darla. She commenced a snooze mid meal...  \n",
       "3  Here we have a majestic great white breaching ...  \n",
       "4  When you watch your owner call another dog a g...  \n",
       "5  This is Zoey. She doesn't want to be one of th...  \n",
       "6  This is Koda. He is a South Australian decksha...  "
      ]
     },
     "execution_count": 75,
     "metadata": {},
     "output_type": "execute_result"
    }
   ],
   "source": [
    "best_dogs = df_no_outliers.query('dog_rating > 1.27')\n",
    "best_dogs.head()"
   ]
  },
  {
   "cell_type": "markdown",
   "metadata": {},
   "source": [
    "#### However, it would be interesting also to investigate the dogs that had the lowest ratings, to understand the reason, if any."
   ]
  },
  {
   "cell_type": "code",
   "execution_count": 83,
   "metadata": {},
   "outputs": [
    {
     "data": {
      "text/html": [
       "<div>\n",
       "<style>\n",
       "    .dataframe thead tr:only-child th {\n",
       "        text-align: right;\n",
       "    }\n",
       "\n",
       "    .dataframe thead th {\n",
       "        text-align: left;\n",
       "    }\n",
       "\n",
       "    .dataframe tbody tr th {\n",
       "        vertical-align: top;\n",
       "    }\n",
       "</style>\n",
       "<table border=\"1\" class=\"dataframe\">\n",
       "  <thead>\n",
       "    <tr style=\"text-align: right;\">\n",
       "      <th></th>\n",
       "      <th>dog_rating</th>\n",
       "      <th>jpg_url</th>\n",
       "      <th>date</th>\n",
       "    </tr>\n",
       "  </thead>\n",
       "  <tbody>\n",
       "    <tr>\n",
       "      <th>1233</th>\n",
       "      <td>0.1</td>\n",
       "      <td>https://pbs.twimg.com/media/CUOcVCwWsAERUKY.jpg</td>\n",
       "      <td>11-20-2015</td>\n",
       "    </tr>\n",
       "    <tr>\n",
       "      <th>964</th>\n",
       "      <td>0.1</td>\n",
       "      <td>https://pbs.twimg.com/media/CV6gaUUWEAAnETq.jpg</td>\n",
       "      <td>12-11-2015</td>\n",
       "    </tr>\n",
       "    <tr>\n",
       "      <th>1288</th>\n",
       "      <td>0.1</td>\n",
       "      <td>https://pbs.twimg.com/media/CT56LSZWoAAlJj2.jpg</td>\n",
       "      <td>11-16-2015</td>\n",
       "    </tr>\n",
       "    <tr>\n",
       "      <th>1218</th>\n",
       "      <td>0.2</td>\n",
       "      <td>https://pbs.twimg.com/media/CUW37BzWsAAlJlN.jpg</td>\n",
       "      <td>11-21-2015</td>\n",
       "    </tr>\n",
       "    <tr>\n",
       "      <th>899</th>\n",
       "      <td>0.2</td>\n",
       "      <td>https://pbs.twimg.com/media/CWo_T8gW4AAgJNo.jpg</td>\n",
       "      <td>12-20-2015</td>\n",
       "    </tr>\n",
       "  </tbody>\n",
       "</table>\n",
       "</div>"
      ],
      "text/plain": [
       "      dog_rating                                          jpg_url        date\n",
       "1233         0.1  https://pbs.twimg.com/media/CUOcVCwWsAERUKY.jpg  11-20-2015\n",
       "964          0.1  https://pbs.twimg.com/media/CV6gaUUWEAAnETq.jpg  12-11-2015\n",
       "1288         0.1  https://pbs.twimg.com/media/CT56LSZWoAAlJj2.jpg  11-16-2015\n",
       "1218         0.2  https://pbs.twimg.com/media/CUW37BzWsAAlJlN.jpg  11-21-2015\n",
       "899          0.2  https://pbs.twimg.com/media/CWo_T8gW4AAgJNo.jpg  12-20-2015"
      ]
     },
     "execution_count": 83,
     "metadata": {},
     "output_type": "execute_result"
    }
   ],
   "source": [
    "df_no_outliers[['dog_rating','jpg_url','date']].sort_values(by='dog_rating',ascending=True).head()"
   ]
  },
  {
   "cell_type": "code",
   "execution_count": 84,
   "metadata": {},
   "outputs": [
    {
     "data": {
      "text/plain": [
       "True"
      ]
     },
     "execution_count": 84,
     "metadata": {},
     "output_type": "execute_result"
    }
   ],
   "source": [
    "# dog with rating 0.1\n",
    "webbrowser.open(\"https://pbs.twimg.com/media/CUOcVCwWsAERUKY.jpg\")\n",
    "# rated so low because it's a fan on a sofa, and not an actual dog"
   ]
  },
  {
   "cell_type": "code",
   "execution_count": 85,
   "metadata": {},
   "outputs": [
    {
     "data": {
      "text/plain": [
       "True"
      ]
     },
     "execution_count": 85,
     "metadata": {},
     "output_type": "execute_result"
    }
   ],
   "source": [
    "# dog with rating 0.1\n",
    "webbrowser.open(\"https://pbs.twimg.com/media/CV6gaUUWEAAnETq.jpg\")\n",
    "# rated so low because the lovely dog wasn't seen because perfectly camouflaged in the carpet."
   ]
  },
  {
   "cell_type": "code",
   "execution_count": 86,
   "metadata": {},
   "outputs": [
    {
     "data": {
      "text/plain": [
       "\"What kind of person sends in a picture without a dog in it? 1/10 just because that's a nice table https://t.co/RDXCfk8hK0\""
      ]
     },
     "execution_count": 86,
     "metadata": {},
     "output_type": "execute_result"
    }
   ],
   "source": [
    "df.iloc[964].text"
   ]
  },
  {
   "cell_type": "code",
   "execution_count": 87,
   "metadata": {},
   "outputs": [
    {
     "data": {
      "text/plain": [
       "True"
      ]
     },
     "execution_count": 87,
     "metadata": {},
     "output_type": "execute_result"
    }
   ],
   "source": [
    "# dog with rating 0.1\n",
    "webbrowser.open(\"https://pbs.twimg.com/media/CUOcVCwWsAERUKY.jpg\")\n",
    "# rated so low because it's not a dog, but a chicken"
   ]
  },
  {
   "cell_type": "markdown",
   "metadata": {},
   "source": [
    "#### It seems that the lowest rating are so low because there aren't actual dogs in the pictures."
   ]
  },
  {
   "cell_type": "markdown",
   "metadata": {},
   "source": [
    "### Third insight and first Viz\n",
    "#### It would make sense to assume that the rating is positively correlated with the number of \"favorites\", therefore let's calculate this correlation and let's visualize it with a scatter plot."
   ]
  },
  {
   "cell_type": "code",
   "execution_count": 88,
   "metadata": {},
   "outputs": [
    {
     "data": {
      "text/plain": [
       "0.38153093530898158"
      ]
     },
     "execution_count": 88,
     "metadata": {},
     "output_type": "execute_result"
    }
   ],
   "source": [
    "# Correlation coefficient calculation\n",
    "df_no_outliers['dog_rating'].corr(df_no_outliers['favorite_count'])"
   ]
  },
  {
   "cell_type": "code",
   "execution_count": 92,
   "metadata": {},
   "outputs": [
    {
     "data": {
      "image/png": "[encoded data removed]",
      "text/plain": [
       "<matplotlib.figure.Figure at 0x7f3739a4ef28>"
      ]
     },
     "metadata": {
      "needs_background": "light"
     },
     "output_type": "display_data"
    }
   ],
   "source": [
    "# Visualization with scatter plot using \n",
    "df_no_outliers.plot(x='favorite_count', y='dog_rating', kind='scatter', figsize=(15,5))\n",
    "plt.xlabel('Number of Favorites')\n",
    "plt.ylabel('Dog Rating')\n",
    "plt.title('#Favs Vs Rating');"
   ]
  },
  {
   "cell_type": "markdown",
   "metadata": {},
   "source": [
    "#### Surprisingly there is only a weak positive correlation (0.38) between the number of Favorites and the rating of the dogs. \n",
    "#### The reason might be that a dog not so beautiful attracts funny comments and are those comments that attract more favorites. \n",
    "#### If this theory is true, we should expect a positive correlation between the number of retweets (*retweet_count* column) and the number of favorites (*favorite_count* column). Let's calculate the correlation and let's visualize these two dimensions in a scatter plot."
   ]
  },
  {
   "cell_type": "code",
   "execution_count": 90,
   "metadata": {},
   "outputs": [
    {
     "data": {
      "text/plain": [
       "0.92585363952342958"
      ]
     },
     "execution_count": 90,
     "metadata": {},
     "output_type": "execute_result"
    }
   ],
   "source": [
    "# Correlation coefficient calculation\n",
    "df_no_outliers['retweet_count'].corr(df_no_outliers['favorite_count'])"
   ]
  },
  {
   "cell_type": "code",
   "execution_count": 94,
   "metadata": {},
   "outputs": [
    {
     "data": {
      "image/png": "[encoded data removed]",
      "text/plain": [
       "<matplotlib.figure.Figure at 0x7f3739bb1b38>"
      ]
     },
     "metadata": {
      "needs_background": "light"
     },
     "output_type": "display_data"
    }
   ],
   "source": [
    "# Visualization with scatter plot using \n",
    "df_no_outliers.plot(x='retweet_count', y='favorite_count', kind='scatter', figsize=(15,5))\n",
    "plt.ylabel('Number of Favorites')\n",
    "plt.xlabel('Number of Retweets')\n",
    "plt.title('#Retweets Vs #Favs');"
   ]
  },
  {
   "cell_type": "markdown",
   "metadata": {},
   "source": [
    "#### The theory seems to find some statistic support, looking at the very strong correlation positive correlation (0.93) between these two variables."
   ]
  },
  {
   "cell_type": "markdown",
   "metadata": {},
   "source": [
    "### Fourth insight"
   ]
  },
  {
   "cell_type": "markdown",
   "metadata": {},
   "source": [
    "#### We are going to investigate, with a Multiple Linear Regression, if and how the categorical variable \"stage\" impacts the rating. "
   ]
  },
  {
   "cell_type": "code",
   "execution_count": 95,
   "metadata": {},
   "outputs": [
    {
     "name": "stderr",
     "output_type": "stream",
     "text": [
      "/opt/conda/lib/python3.6/site-packages/ipykernel_launcher.py:3: SettingWithCopyWarning: \n",
      "A value is trying to be set on a copy of a slice from a DataFrame.\n",
      "Try using .loc[row_indexer,col_indexer] = value instead\n",
      "\n",
      "See the caveats in the documentation: http://pandas.pydata.org/pandas-docs/stable/indexing.html#indexing-view-versus-copy\n",
      "  This is separate from the ipykernel package so we can avoid doing imports until\n"
     ]
    }
   ],
   "source": [
    "# create ad-hoc dataframe and add intercept column\n",
    "dflinreg = df_no_outliers\n",
    "dflinreg['intercept'] = 1"
   ]
  },
  {
   "cell_type": "code",
   "execution_count": 96,
   "metadata": {},
   "outputs": [
    {
     "data": {
      "text/plain": [
       "pupper    151\n",
       "doggo      38\n",
       "puppo      20\n",
       "Name: stage, dtype: int64"
      ]
     },
     "execution_count": 96,
     "metadata": {},
     "output_type": "execute_result"
    }
   ],
   "source": [
    "# in the \"stage\" column there are only 3 values, \"floofer\" is not there anymore\n",
    "dflinreg.stage.value_counts()"
   ]
  },
  {
   "cell_type": "code",
   "execution_count": 97,
   "metadata": {},
   "outputs": [
    {
     "data": {
      "text/html": [
       "<div>\n",
       "<style>\n",
       "    .dataframe thead tr:only-child th {\n",
       "        text-align: right;\n",
       "    }\n",
       "\n",
       "    .dataframe thead th {\n",
       "        text-align: left;\n",
       "    }\n",
       "\n",
       "    .dataframe tbody tr th {\n",
       "        vertical-align: top;\n",
       "    }\n",
       "</style>\n",
       "<table border=\"1\" class=\"dataframe\">\n",
       "  <thead>\n",
       "    <tr style=\"text-align: right;\">\n",
       "      <th></th>\n",
       "      <th>tweet_id</th>\n",
       "      <th>name</th>\n",
       "      <th>date</th>\n",
       "      <th>time</th>\n",
       "      <th>jpg_url</th>\n",
       "      <th>p1</th>\n",
       "      <th>p1_conf</th>\n",
       "      <th>dog_rating</th>\n",
       "      <th>favorite_count</th>\n",
       "      <th>retweet_count</th>\n",
       "      <th>stage</th>\n",
       "      <th>text</th>\n",
       "      <th>intercept</th>\n",
       "      <th>doggo</th>\n",
       "      <th>pupper</th>\n",
       "      <th>puppo</th>\n",
       "    </tr>\n",
       "  </thead>\n",
       "  <tbody>\n",
       "    <tr>\n",
       "      <th>0</th>\n",
       "      <td>891815181378084864</td>\n",
       "      <td>Archie</td>\n",
       "      <td>07-31-2017</td>\n",
       "      <td>00:18</td>\n",
       "      <td>https://pbs.twimg.com/media/DGBdLU1WsAANxJ9.jpg</td>\n",
       "      <td>Chihuahua</td>\n",
       "      <td>0.716012</td>\n",
       "      <td>1.2</td>\n",
       "      <td>24532</td>\n",
       "      <td>4054</td>\n",
       "      <td>NaN</td>\n",
       "      <td>This is Archie. He is a rare Norwegian Pouncin...</td>\n",
       "      <td>1</td>\n",
       "      <td>0</td>\n",
       "      <td>0</td>\n",
       "      <td>0</td>\n",
       "    </tr>\n",
       "    <tr>\n",
       "      <th>1</th>\n",
       "      <td>891689557279858688</td>\n",
       "      <td>Darla</td>\n",
       "      <td>07-30-2017</td>\n",
       "      <td>15:58</td>\n",
       "      <td>https://pbs.twimg.com/media/DF_q7IAWsAEuuN8.jpg</td>\n",
       "      <td>Paper towel</td>\n",
       "      <td>0.170278</td>\n",
       "      <td>1.3</td>\n",
       "      <td>41288</td>\n",
       "      <td>8425</td>\n",
       "      <td>NaN</td>\n",
       "      <td>This is Darla. She commenced a snooze mid meal...</td>\n",
       "      <td>1</td>\n",
       "      <td>0</td>\n",
       "      <td>0</td>\n",
       "      <td>0</td>\n",
       "    </tr>\n",
       "  </tbody>\n",
       "</table>\n",
       "</div>"
      ],
      "text/plain": [
       "             tweet_id    name        date   time  \\\n",
       "0  891815181378084864  Archie  07-31-2017  00:18   \n",
       "1  891689557279858688   Darla  07-30-2017  15:58   \n",
       "\n",
       "                                           jpg_url           p1   p1_conf  \\\n",
       "0  https://pbs.twimg.com/media/DGBdLU1WsAANxJ9.jpg    Chihuahua  0.716012   \n",
       "1  https://pbs.twimg.com/media/DF_q7IAWsAEuuN8.jpg  Paper towel  0.170278   \n",
       "\n",
       "   dog_rating  favorite_count  retweet_count stage  \\\n",
       "0         1.2           24532           4054   NaN   \n",
       "1         1.3           41288           8425   NaN   \n",
       "\n",
       "                                                text  intercept  doggo  \\\n",
       "0  This is Archie. He is a rare Norwegian Pouncin...          1      0   \n",
       "1  This is Darla. She commenced a snooze mid meal...          1      0   \n",
       "\n",
       "   pupper  puppo  \n",
       "0       0      0  \n",
       "1       0      0  "
      ]
     },
     "execution_count": 97,
     "metadata": {},
     "output_type": "execute_result"
    }
   ],
   "source": [
    "# create dummy variables for categorical variable \"stage\"\n",
    "var_dummies = pd.get_dummies(dflinreg['stage'])\n",
    "dflinreg = dflinreg.join(var_dummies)  \n",
    "dflinreg.head(2)"
   ]
  },
  {
   "cell_type": "code",
   "execution_count": 98,
   "metadata": {},
   "outputs": [
    {
     "data": {
      "text/html": [
       "<table class=\"simpletable\">\n",
       "<caption>OLS Regression Results</caption>\n",
       "<tr>\n",
       "  <th>Dep. Variable:</th>       <td>dog_rating</td>    <th>  R-squared:         </th> <td>   0.003</td>\n",
       "</tr>\n",
       "<tr>\n",
       "  <th>Model:</th>                   <td>OLS</td>       <th>  Adj. R-squared:    </th> <td>   0.002</td>\n",
       "</tr>\n",
       "<tr>\n",
       "  <th>Method:</th>             <td>Least Squares</td>  <th>  F-statistic:       </th> <td>   2.024</td>\n",
       "</tr>\n",
       "<tr>\n",
       "  <th>Date:</th>             <td>Sun, 10 Feb 2019</td> <th>  Prob (F-statistic):</th>  <td> 0.133</td> \n",
       "</tr>\n",
       "<tr>\n",
       "  <th>Time:</th>                 <td>16:10:46</td>     <th>  Log-Likelihood:    </th> <td>  120.83</td>\n",
       "</tr>\n",
       "<tr>\n",
       "  <th>No. Observations:</th>      <td>  1294</td>      <th>  AIC:               </th> <td>  -235.7</td>\n",
       "</tr>\n",
       "<tr>\n",
       "  <th>Df Residuals:</th>          <td>  1291</td>      <th>  BIC:               </th> <td>  -220.2</td>\n",
       "</tr>\n",
       "<tr>\n",
       "  <th>Df Model:</th>              <td>     2</td>      <th>                     </th>     <td> </td>   \n",
       "</tr>\n",
       "<tr>\n",
       "  <th>Covariance Type:</th>      <td>nonrobust</td>    <th>                     </th>     <td> </td>   \n",
       "</tr>\n",
       "</table>\n",
       "<table class=\"simpletable\">\n",
       "<tr>\n",
       "      <td></td>         <th>coef</th>     <th>std err</th>      <th>t</th>      <th>P>|t|</th>  <th>[0.025</th>    <th>0.975]</th>  \n",
       "</tr>\n",
       "<tr>\n",
       "  <th>intercept</th> <td>    1.0456</td> <td>    0.007</td> <td>  157.520</td> <td> 0.000</td> <td>    1.033</td> <td>    1.059</td>\n",
       "</tr>\n",
       "<tr>\n",
       "  <th>doggo</th>     <td>    0.0702</td> <td>    0.036</td> <td>    1.928</td> <td> 0.054</td> <td>   -0.001</td> <td>    0.142</td>\n",
       "</tr>\n",
       "<tr>\n",
       "  <th>pupper</th>    <td>    0.0133</td> <td>    0.019</td> <td>    0.696</td> <td> 0.486</td> <td>   -0.024</td> <td>    0.051</td>\n",
       "</tr>\n",
       "</table>\n",
       "<table class=\"simpletable\">\n",
       "<tr>\n",
       "  <th>Omnibus:</th>       <td>303.126</td> <th>  Durbin-Watson:     </th> <td>   1.539</td>\n",
       "</tr>\n",
       "<tr>\n",
       "  <th>Prob(Omnibus):</th> <td> 0.000</td>  <th>  Jarque-Bera (JB):  </th> <td>1436.470</td>\n",
       "</tr>\n",
       "<tr>\n",
       "  <th>Skew:</th>          <td>-1.017</td>  <th>  Prob(JB):          </th> <td>    0.00</td>\n",
       "</tr>\n",
       "<tr>\n",
       "  <th>Kurtosis:</th>      <td> 7.744</td>  <th>  Cond. No.          </th> <td>    5.99</td>\n",
       "</tr>\n",
       "</table>"
      ],
      "text/plain": [
       "<class 'statsmodels.iolib.summary.Summary'>\n",
       "\"\"\"\n",
       "                            OLS Regression Results                            \n",
       "==============================================================================\n",
       "Dep. Variable:             dog_rating   R-squared:                       0.003\n",
       "Model:                            OLS   Adj. R-squared:                  0.002\n",
       "Method:                 Least Squares   F-statistic:                     2.024\n",
       "Date:                Sun, 10 Feb 2019   Prob (F-statistic):              0.133\n",
       "Time:                        16:10:46   Log-Likelihood:                 120.83\n",
       "No. Observations:                1294   AIC:                            -235.7\n",
       "Df Residuals:                    1291   BIC:                            -220.2\n",
       "Df Model:                           2                                         \n",
       "Covariance Type:            nonrobust                                         \n",
       "==============================================================================\n",
       "                 coef    std err          t      P>|t|      [0.025      0.975]\n",
       "------------------------------------------------------------------------------\n",
       "intercept      1.0456      0.007    157.520      0.000       1.033       1.059\n",
       "doggo          0.0702      0.036      1.928      0.054      -0.001       0.142\n",
       "pupper         0.0133      0.019      0.696      0.486      -0.024       0.051\n",
       "==============================================================================\n",
       "Omnibus:                      303.126   Durbin-Watson:                   1.539\n",
       "Prob(Omnibus):                  0.000   Jarque-Bera (JB):             1436.470\n",
       "Skew:                          -1.017   Prob(JB):                         0.00\n",
       "Kurtosis:                       7.744   Cond. No.                         5.99\n",
       "==============================================================================\n",
       "\n",
       "Warnings:\n",
       "[1] Standard Errors assume that the covariance matrix of the errors is correctly specified.\n",
       "\"\"\""
      ]
     },
     "execution_count": 98,
     "metadata": {},
     "output_type": "execute_result"
    }
   ],
   "source": [
    "# using value \"puppo\" as baseline for the categorical variable \"stage\"\n",
    "lm = sm.OLS(dflinreg['dog_rating'], dflinreg[['intercept', 'doggo', 'pupper']])\n",
    "results = lm.fit()\n",
    "results.summary()"
   ]
  },
  {
   "cell_type": "markdown",
   "metadata": {},
   "source": [
    "#### An R-squared value of 0.003 indicates that only an extremely small part of the \"dog_rating\" value is explained by the \"stage\". Therefore I would say that this model is not usable to predict the rating. \n",
    "#### The p-values of the stages is higher then the alpha-level that is usually adopted to reject the null hypothesis (0.05), therefore we have enough confidence to affirm that the stage has no impact on the rating. "
   ]
  },
  {
   "cell_type": "markdown",
   "metadata": {},
   "source": [
    "### Fifth insight and second Viz\n",
    "#### We are going to find out, for the dogs with the rating in the top 16%, how many they are for each type."
   ]
  },
  {
   "cell_type": "code",
   "execution_count": 99,
   "metadata": {},
   "outputs": [
    {
     "data": {
      "text/plain": [
       "Golden retriever            24\n",
       "Pembroke                    14\n",
       "Labrador retriever          10\n",
       "Chihuahua                    8\n",
       "Samoyed                      7\n",
       "Pug                          7\n",
       "Chesapeake bay retriever     4\n",
       "Chow                         4\n",
       "Cardigan                     4\n",
       "Siberian husky               3\n",
       "Rottweiler                   3\n",
       "Eskimo dog                   3\n",
       "Cocker spaniel               3\n",
       "French bulldog               3\n",
       "Web site                     3\n",
       "Basset                       3\n",
       "Home theater                 2\n",
       "Great pyrenees               2\n",
       "Saluki                       2\n",
       "German shepherd              2\n",
       "Name: p1, dtype: int64"
      ]
     },
     "execution_count": 99,
     "metadata": {},
     "output_type": "execute_result"
    }
   ],
   "source": [
    "a = best_dogs['p1'].value_counts().sort_values(ascending=False)\n",
    "a.head(20)"
   ]
  },
  {
   "cell_type": "code",
   "execution_count": 100,
   "metadata": {},
   "outputs": [
    {
     "data": {
      "image/png": "[encoded data removed]",
      "text/plain": [
       "<matplotlib.figure.Figure at 0x7f3739edeeb8>"
      ]
     },
     "metadata": {
      "needs_background": "light"
     },
     "output_type": "display_data"
    }
   ],
   "source": [
    "a.head(20).plot(kind = 'bar', figsize=(15,6));\n",
    "plt.title('Best rated species');"
   ]
  },
  {
   "cell_type": "markdown",
   "metadata": {},
   "source": [
    "#### The Golden retriever is by far the most appreciated type of dog, with Pembroke in the second position and Labrador retriever on the lowest step of the podium. Adopting one of those dogs would probably increase the likelyhood of getting a rating higher then average."
   ]
  },
  {
   "cell_type": "code",
   "execution_count": 108,
   "metadata": {},
   "outputs": [
    {
     "data": {
      "text/html": [
       "<div>\n",
       "<style>\n",
       "    .dataframe thead tr:only-child th {\n",
       "        text-align: right;\n",
       "    }\n",
       "\n",
       "    .dataframe thead th {\n",
       "        text-align: left;\n",
       "    }\n",
       "\n",
       "    .dataframe tbody tr th {\n",
       "        vertical-align: top;\n",
       "    }\n",
       "</style>\n",
       "<table border=\"1\" class=\"dataframe\">\n",
       "  <thead>\n",
       "    <tr style=\"text-align: right;\">\n",
       "      <th></th>\n",
       "      <th>p1_conf</th>\n",
       "      <th>dog_rating</th>\n",
       "      <th>favorite_count</th>\n",
       "      <th>retweet_count</th>\n",
       "      <th>intercept</th>\n",
       "    </tr>\n",
       "  </thead>\n",
       "  <tbody>\n",
       "    <tr>\n",
       "      <th>count</th>\n",
       "      <td>94.000000</td>\n",
       "      <td>94.000000</td>\n",
       "      <td>94.000000</td>\n",
       "      <td>94.000000</td>\n",
       "      <td>94.0</td>\n",
       "    </tr>\n",
       "    <tr>\n",
       "      <th>mean</th>\n",
       "      <td>0.708203</td>\n",
       "      <td>1.154255</td>\n",
       "      <td>12087.170213</td>\n",
       "      <td>3398.978723</td>\n",
       "      <td>1.0</td>\n",
       "    </tr>\n",
       "    <tr>\n",
       "      <th>std</th>\n",
       "      <td>0.230509</td>\n",
       "      <td>0.141926</td>\n",
       "      <td>13667.758029</td>\n",
       "      <td>4439.805328</td>\n",
       "      <td>0.0</td>\n",
       "    </tr>\n",
       "    <tr>\n",
       "      <th>min</th>\n",
       "      <td>0.140394</td>\n",
       "      <td>0.500000</td>\n",
       "      <td>182.000000</td>\n",
       "      <td>51.000000</td>\n",
       "      <td>1.0</td>\n",
       "    </tr>\n",
       "    <tr>\n",
       "      <th>25%</th>\n",
       "      <td>0.591529</td>\n",
       "      <td>1.100000</td>\n",
       "      <td>3364.250000</td>\n",
       "      <td>1078.750000</td>\n",
       "      <td>1.0</td>\n",
       "    </tr>\n",
       "    <tr>\n",
       "      <th>50%</th>\n",
       "      <td>0.762772</td>\n",
       "      <td>1.200000</td>\n",
       "      <td>7646.000000</td>\n",
       "      <td>2088.000000</td>\n",
       "      <td>1.0</td>\n",
       "    </tr>\n",
       "    <tr>\n",
       "      <th>75%</th>\n",
       "      <td>0.888976</td>\n",
       "      <td>1.275000</td>\n",
       "      <td>15793.750000</td>\n",
       "      <td>3968.500000</td>\n",
       "      <td>1.0</td>\n",
       "    </tr>\n",
       "    <tr>\n",
       "      <th>max</th>\n",
       "      <td>0.993830</td>\n",
       "      <td>1.400000</td>\n",
       "      <td>81749.000000</td>\n",
       "      <td>26079.000000</td>\n",
       "      <td>1.0</td>\n",
       "    </tr>\n",
       "  </tbody>\n",
       "</table>\n",
       "</div>"
      ],
      "text/plain": [
       "         p1_conf  dog_rating  favorite_count  retweet_count  intercept\n",
       "count  94.000000   94.000000       94.000000      94.000000       94.0\n",
       "mean    0.708203    1.154255    12087.170213    3398.978723        1.0\n",
       "std     0.230509    0.141926    13667.758029    4439.805328        0.0\n",
       "min     0.140394    0.500000      182.000000      51.000000        1.0\n",
       "25%     0.591529    1.100000     3364.250000    1078.750000        1.0\n",
       "50%     0.762772    1.200000     7646.000000    2088.000000        1.0\n",
       "75%     0.888976    1.275000    15793.750000    3968.500000        1.0\n",
       "max     0.993830    1.400000    81749.000000   26079.000000        1.0"
      ]
     },
     "execution_count": 108,
     "metadata": {},
     "output_type": "execute_result"
    }
   ],
   "source": [
    "# Golden retriever average rating (1.154) higher then the population average rating (1.05)\n",
    "df_no_outliers.query('p1 == \"Golden retriever\"').describe()"
   ]
  },
  {
   "cell_type": "code",
   "execution_count": 109,
   "metadata": {},
   "outputs": [
    {
     "data": {
      "text/plain": [
       "231    1.4\n",
       "161    1.4\n",
       "Name: dog_rating, dtype: float64"
      ]
     },
     "execution_count": 109,
     "metadata": {},
     "output_type": "execute_result"
    }
   ],
   "source": [
    "df_no_outliers.query('p1 == \"Golden retriever\"').dog_rating.sort_values(ascending=False).head(2)"
   ]
  },
  {
   "cell_type": "code",
   "execution_count": 112,
   "metadata": {},
   "outputs": [
    {
     "data": {
      "text/plain": [
       "tweet_id                                         807621403335917568\n",
       "name                                                          Ollie\n",
       "date                                                     12-10-2016\n",
       "time                                                          16:22\n",
       "jpg_url             https://pbs.twimg.com/media/CzU_YVGUUAA3Xsd.jpg\n",
       "p1                                                 Golden retriever\n",
       "p1_conf                                                    0.873233\n",
       "dog_rating                                                      1.4\n",
       "favorite_count                                                15532\n",
       "retweet_count                                                  4018\n",
       "stage                                                        pupper\n",
       "text              This is Ollie Vue. He was a 3 legged pupper on...\n",
       "Name: 231, dtype: object"
      ]
     },
     "execution_count": 112,
     "metadata": {},
     "output_type": "execute_result"
    }
   ],
   "source": [
    "df.iloc[231]  # lovely Ollie"
   ]
  }
 ],
 "metadata": {
  "kernelspec": {
   "display_name": "Python 3",
   "language": "python",
   "name": "python3"
  },
  "language_info": {
   "codemirror_mode": {
    "name": "ipython",
    "version": 3
   },
   "file_extension": ".py",
   "mimetype": "text/x-python",
   "name": "python",
   "nbconvert_exporter": "python",
   "pygments_lexer": "ipython3",
   "version": "3.6.5"
  }
 },
 "nbformat": 4,
 "nbformat_minor": 2
}
